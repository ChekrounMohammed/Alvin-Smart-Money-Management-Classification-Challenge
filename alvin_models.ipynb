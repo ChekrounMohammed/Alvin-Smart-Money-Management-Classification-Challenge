{
 "cells": [
  {
   "cell_type": "markdown",
   "metadata": {
    "id": "PvKRBlqreh9N"
   },
   "source": [
    "# AlvinApp Competition"
   ]
  },
  {
   "cell_type": "markdown",
   "metadata": {
    "id": "jNl4Kvk3d_s3"
   },
   "source": [
    "This is a simple starter notebook to get started with the AvinApp Competition on Zindi.\n",
    "\n",
    "This notebook covers:\n",
    "\n",
    "*   Loading the data\n",
    "*   Simple Exploratory Data Analysis and an example of feature engineering\n",
    "*   Data preprocessing and data wrangling\n",
    "*   Creating a simple model\n",
    "*   Making a submission\n",
    "*   Some tips for improving your score\n",
    "\n",
    "\n",
    "\n",
    "\n",
    "\n"
   ]
  },
  {
   "cell_type": "markdown",
   "metadata": {
    "id": "iYdpBYYceneg"
   },
   "source": [
    "## Importing libraries"
   ]
  },
  {
   "cell_type": "code",
   "execution_count": 192,
   "metadata": {
    "id": "06kkNxjIdgSW"
   },
   "outputs": [],
   "source": [
    "# Dataframe and Plotting libraries\n",
    "import pandas as pd\n",
    "import numpy as np\n",
    "import seaborn as sns\n",
    "import matplotlib.pyplot as plt\n",
    "\n",
    "# Machine Learning libraries\n",
    "from sklearn.preprocessing import StandardScaler\n",
    "from sklearn.tree import DecisionTreeClassifier\n",
    "from sklearn.metrics import accuracy_score, classification_report\n",
    "from sklearn.model_selection import train_test_split\n",
    "from sklearn.metrics import log_loss\n",
    "\n",
    "\n",
    "pd.set_option('display.max_columns', None)\n",
    "# from google.colab import files\n",
    "import warnings\n",
    "warnings.filterwarnings('ignore')"
   ]
  },
  {
   "cell_type": "markdown",
   "metadata": {
    "id": "J8AhJ0cKer7b"
   },
   "source": [
    "## 1. Load the dataset"
   ]
  },
  {
   "cell_type": "code",
   "execution_count": 193,
   "metadata": {},
   "outputs": [],
   "source": [
    "var_desc = pd.read_csv('VariableDefinitions.csv')"
   ]
  },
  {
   "cell_type": "code",
   "execution_count": 194,
   "metadata": {
    "scrolled": true
   },
   "outputs": [
    {
     "data": {
      "text/html": [
       "<div>\n",
       "<style scoped>\n",
       "    .dataframe tbody tr th:only-of-type {\n",
       "        vertical-align: middle;\n",
       "    }\n",
       "\n",
       "    .dataframe tbody tr th {\n",
       "        vertical-align: top;\n",
       "    }\n",
       "\n",
       "    .dataframe thead th {\n",
       "        text-align: right;\n",
       "    }\n",
       "</style>\n",
       "<table border=\"1\" class=\"dataframe\">\n",
       "  <thead>\n",
       "    <tr style=\"text-align: right;\">\n",
       "      <th></th>\n",
       "      <th>COLUMN_NAME</th>\n",
       "      <th>COLUMN_DEFINATION</th>\n",
       "    </tr>\n",
       "  </thead>\n",
       "  <tbody>\n",
       "    <tr>\n",
       "      <th>0</th>\n",
       "      <td>MERCHANT_CATEGORIZED_AT</td>\n",
       "      <td>The time the merchant was categorized by the c...</td>\n",
       "    </tr>\n",
       "    <tr>\n",
       "      <th>1</th>\n",
       "      <td>MERCHANT_NAME</td>\n",
       "      <td>The name of the merchant</td>\n",
       "    </tr>\n",
       "    <tr>\n",
       "      <th>2</th>\n",
       "      <td>MERCHANT_CATEGORIZED_AS</td>\n",
       "      <td>The category the merchant was assigned by the ...</td>\n",
       "    </tr>\n",
       "    <tr>\n",
       "      <th>3</th>\n",
       "      <td>PURCHASE_VALUE</td>\n",
       "      <td>The value of the purchase made by the customer</td>\n",
       "    </tr>\n",
       "    <tr>\n",
       "      <th>4</th>\n",
       "      <td>PURCHASED_AT</td>\n",
       "      <td>The time the purchase was made</td>\n",
       "    </tr>\n",
       "    <tr>\n",
       "      <th>5</th>\n",
       "      <td>IS_PURCHASE_PAID_VIA_MPESA_SEND_MONEY</td>\n",
       "      <td>If true indicates that the merchant is not a r...</td>\n",
       "    </tr>\n",
       "    <tr>\n",
       "      <th>6</th>\n",
       "      <td>USER_EMAIL</td>\n",
       "      <td>The email of the customer</td>\n",
       "    </tr>\n",
       "    <tr>\n",
       "      <th>7</th>\n",
       "      <td>USER_AGE</td>\n",
       "      <td>The age of the customer</td>\n",
       "    </tr>\n",
       "    <tr>\n",
       "      <th>8</th>\n",
       "      <td>USER_GENDER</td>\n",
       "      <td>The gender of the customer</td>\n",
       "    </tr>\n",
       "    <tr>\n",
       "      <th>9</th>\n",
       "      <td>USER_HOUSEHOLD</td>\n",
       "      <td>The number of family members</td>\n",
       "    </tr>\n",
       "    <tr>\n",
       "      <th>10</th>\n",
       "      <td>USER_INCOME</td>\n",
       "      <td>The monthly income of the customer</td>\n",
       "    </tr>\n",
       "  </tbody>\n",
       "</table>\n",
       "</div>"
      ],
      "text/plain": [
       "                              COLUMN_NAME  \\\n",
       "0                 MERCHANT_CATEGORIZED_AT   \n",
       "1                           MERCHANT_NAME   \n",
       "2                 MERCHANT_CATEGORIZED_AS   \n",
       "3                          PURCHASE_VALUE   \n",
       "4                            PURCHASED_AT   \n",
       "5   IS_PURCHASE_PAID_VIA_MPESA_SEND_MONEY   \n",
       "6                              USER_EMAIL   \n",
       "7                                USER_AGE   \n",
       "8                             USER_GENDER   \n",
       "9                          USER_HOUSEHOLD   \n",
       "10                            USER_INCOME   \n",
       "\n",
       "                                    COLUMN_DEFINATION  \n",
       "0   The time the merchant was categorized by the c...  \n",
       "1                            The name of the merchant  \n",
       "2   The category the merchant was assigned by the ...  \n",
       "3      The value of the purchase made by the customer  \n",
       "4                      The time the purchase was made  \n",
       "5   If true indicates that the merchant is not a r...  \n",
       "6                           The email of the customer  \n",
       "7                             The age of the customer  \n",
       "8                          The gender of the customer  \n",
       "9                        The number of family members  \n",
       "10                 The monthly income of the customer  "
      ]
     },
     "execution_count": 194,
     "metadata": {},
     "output_type": "execute_result"
    }
   ],
   "source": [
    "var_desc"
   ]
  },
  {
   "cell_type": "code",
   "execution_count": 195,
   "metadata": {},
   "outputs": [
    {
     "data": {
      "text/plain": [
       "'The time the merchant was categorized by the customer'"
      ]
     },
     "execution_count": 195,
     "metadata": {},
     "output_type": "execute_result"
    }
   ],
   "source": [
    "var_desc['COLUMN_DEFINATION'][0]"
   ]
  },
  {
   "cell_type": "code",
   "execution_count": 196,
   "metadata": {
    "id": "aPn2dmoMexCU"
   },
   "outputs": [],
   "source": [
    "# Load the files into a Pandas Dataframe\n",
    "train = pd.read_csv('Train.csv')\n",
    "test = pd.read_csv('Test.csv')\n",
    "ss = pd.read_csv('SampleSubmission.csv')\n",
    "extr=pd.read_csv('extra_data.csv')"
   ]
  },
  {
   "cell_type": "markdown",
   "metadata": {},
   "source": [
    "# Merging the extra dataset with the train dataset"
   ]
  },
  {
   "cell_type": "code",
   "execution_count": 197,
   "metadata": {},
   "outputs": [
    {
     "data": {
      "text/html": [
       "<div>\n",
       "<style scoped>\n",
       "    .dataframe tbody tr th:only-of-type {\n",
       "        vertical-align: middle;\n",
       "    }\n",
       "\n",
       "    .dataframe tbody tr th {\n",
       "        vertical-align: top;\n",
       "    }\n",
       "\n",
       "    .dataframe thead th {\n",
       "        text-align: right;\n",
       "    }\n",
       "</style>\n",
       "<table border=\"1\" class=\"dataframe\">\n",
       "  <thead>\n",
       "    <tr style=\"text-align: right;\">\n",
       "      <th></th>\n",
       "      <th>MERCHANT_CATEGORIZED_AT</th>\n",
       "      <th>MERCHANT_NAME</th>\n",
       "      <th>MERCHANT_CATEGORIZED_AS</th>\n",
       "      <th>PURCHASE_VALUE</th>\n",
       "      <th>PURCHASED_AT</th>\n",
       "      <th>IS_PURCHASE_PAID_VIA_MPESA_SEND_MONEY</th>\n",
       "      <th>USER_AGE</th>\n",
       "      <th>USER_GENDER</th>\n",
       "      <th>USER_HOUSEHOLD</th>\n",
       "      <th>USER_INCOME</th>\n",
       "      <th>USER_ID</th>\n",
       "      <th>Transaction_ID</th>\n",
       "    </tr>\n",
       "  </thead>\n",
       "  <tbody>\n",
       "    <tr>\n",
       "      <th>0</th>\n",
       "      <td>NaN</td>\n",
       "      <td>MARK NYABAYO</td>\n",
       "      <td>NaN</td>\n",
       "      <td>20</td>\n",
       "      <td>2021-03-22 12:37:00+00</td>\n",
       "      <td>False</td>\n",
       "      <td>NaN</td>\n",
       "      <td>NaN</td>\n",
       "      <td>1</td>\n",
       "      <td>10000</td>\n",
       "      <td>ID_R4T8Q46J</td>\n",
       "      <td>ID_v13grrw3</td>\n",
       "    </tr>\n",
       "    <tr>\n",
       "      <th>1</th>\n",
       "      <td>NaN</td>\n",
       "      <td>ACCESS AFYA</td>\n",
       "      <td>NaN</td>\n",
       "      <td>1</td>\n",
       "      <td>2021-07-05 11:07:00+00</td>\n",
       "      <td>False</td>\n",
       "      <td>NaN</td>\n",
       "      <td>NaN</td>\n",
       "      <td>1</td>\n",
       "      <td>10000</td>\n",
       "      <td>ID_R4T8Q46J</td>\n",
       "      <td>ID_rgne8ij5</td>\n",
       "    </tr>\n",
       "    <tr>\n",
       "      <th>2</th>\n",
       "      <td>NaN</td>\n",
       "      <td>POA</td>\n",
       "      <td>NaN</td>\n",
       "      <td>1500</td>\n",
       "      <td>2021-06-21 19:40:00+00</td>\n",
       "      <td>False</td>\n",
       "      <td>NaN</td>\n",
       "      <td>NaN</td>\n",
       "      <td>1</td>\n",
       "      <td>10000</td>\n",
       "      <td>ID_R4T8Q46J</td>\n",
       "      <td>ID_4i2b28b6</td>\n",
       "    </tr>\n",
       "    <tr>\n",
       "      <th>3</th>\n",
       "      <td>NaN</td>\n",
       "      <td>POA</td>\n",
       "      <td>NaN</td>\n",
       "      <td>1500</td>\n",
       "      <td>2021-04-22 18:41:00+00</td>\n",
       "      <td>False</td>\n",
       "      <td>NaN</td>\n",
       "      <td>NaN</td>\n",
       "      <td>1</td>\n",
       "      <td>10000</td>\n",
       "      <td>ID_R4T8Q46J</td>\n",
       "      <td>ID_6dvi32yc</td>\n",
       "    </tr>\n",
       "    <tr>\n",
       "      <th>4</th>\n",
       "      <td>NaN</td>\n",
       "      <td>ACCESS AFYA</td>\n",
       "      <td>NaN</td>\n",
       "      <td>1</td>\n",
       "      <td>2021-07-29 13:03:00+00</td>\n",
       "      <td>False</td>\n",
       "      <td>NaN</td>\n",
       "      <td>NaN</td>\n",
       "      <td>1</td>\n",
       "      <td>10000</td>\n",
       "      <td>ID_R4T8Q46J</td>\n",
       "      <td>ID_sfk1yxbm</td>\n",
       "    </tr>\n",
       "    <tr>\n",
       "      <th>...</th>\n",
       "      <td>...</td>\n",
       "      <td>...</td>\n",
       "      <td>...</td>\n",
       "      <td>...</td>\n",
       "      <td>...</td>\n",
       "      <td>...</td>\n",
       "      <td>...</td>\n",
       "      <td>...</td>\n",
       "      <td>...</td>\n",
       "      <td>...</td>\n",
       "      <td>...</td>\n",
       "      <td>...</td>\n",
       "    </tr>\n",
       "    <tr>\n",
       "      <th>9995</th>\n",
       "      <td>NaN</td>\n",
       "      <td>FESTUS MBITHI MUTINDA</td>\n",
       "      <td>NaN</td>\n",
       "      <td>30</td>\n",
       "      <td>2022-04-09 15:37:00+00</td>\n",
       "      <td>False</td>\n",
       "      <td>NaN</td>\n",
       "      <td>Male</td>\n",
       "      <td>1</td>\n",
       "      <td>5000</td>\n",
       "      <td>ID_F7B7BAJ0</td>\n",
       "      <td>ID_6arln23v</td>\n",
       "    </tr>\n",
       "    <tr>\n",
       "      <th>9996</th>\n",
       "      <td>NaN</td>\n",
       "      <td>UONSDA CHURCH  TITHE-MAIN</td>\n",
       "      <td>NaN</td>\n",
       "      <td>100</td>\n",
       "      <td>2022-04-09 09:02:00+00</td>\n",
       "      <td>False</td>\n",
       "      <td>NaN</td>\n",
       "      <td>Male</td>\n",
       "      <td>1</td>\n",
       "      <td>5000</td>\n",
       "      <td>ID_F7B7BAJ0</td>\n",
       "      <td>ID_msuxva0z</td>\n",
       "    </tr>\n",
       "    <tr>\n",
       "      <th>9997</th>\n",
       "      <td>NaN</td>\n",
       "      <td>MAWINGU AIRTIME LIMITED</td>\n",
       "      <td>NaN</td>\n",
       "      <td>20</td>\n",
       "      <td>2022-04-10 18:57:00+00</td>\n",
       "      <td>False</td>\n",
       "      <td>NaN</td>\n",
       "      <td>Male</td>\n",
       "      <td>1</td>\n",
       "      <td>5000</td>\n",
       "      <td>ID_F7B7BAJ0</td>\n",
       "      <td>ID_flro17hp</td>\n",
       "    </tr>\n",
       "    <tr>\n",
       "      <th>9998</th>\n",
       "      <td>NaN</td>\n",
       "      <td>CIC MONEY MARKET FUND</td>\n",
       "      <td>NaN</td>\n",
       "      <td>105300</td>\n",
       "      <td>2021-12-29 11:13:00+00</td>\n",
       "      <td>False</td>\n",
       "      <td>27.0</td>\n",
       "      <td>Female</td>\n",
       "      <td>1</td>\n",
       "      <td>35000</td>\n",
       "      <td>ID_B5KBXPAO</td>\n",
       "      <td>ID_bb2ghfuy</td>\n",
       "    </tr>\n",
       "    <tr>\n",
       "      <th>9999</th>\n",
       "      <td>NaN</td>\n",
       "      <td>JAMES MURIMI</td>\n",
       "      <td>NaN</td>\n",
       "      <td>100</td>\n",
       "      <td>2021-08-27 18:16:00+00</td>\n",
       "      <td>False</td>\n",
       "      <td>23.0</td>\n",
       "      <td>Male</td>\n",
       "      <td>1</td>\n",
       "      <td>21500</td>\n",
       "      <td>ID_Z65I1YAL</td>\n",
       "      <td>ID_cxhvhlnw</td>\n",
       "    </tr>\n",
       "  </tbody>\n",
       "</table>\n",
       "<p>10000 rows × 12 columns</p>\n",
       "</div>"
      ],
      "text/plain": [
       "      MERCHANT_CATEGORIZED_AT              MERCHANT_NAME  \\\n",
       "0                         NaN               MARK NYABAYO   \n",
       "1                         NaN                ACCESS AFYA   \n",
       "2                         NaN                        POA   \n",
       "3                         NaN                        POA   \n",
       "4                         NaN                ACCESS AFYA   \n",
       "...                       ...                        ...   \n",
       "9995                      NaN      FESTUS MBITHI MUTINDA   \n",
       "9996                      NaN  UONSDA CHURCH  TITHE-MAIN   \n",
       "9997                      NaN    MAWINGU AIRTIME LIMITED   \n",
       "9998                      NaN      CIC MONEY MARKET FUND   \n",
       "9999                      NaN               JAMES MURIMI   \n",
       "\n",
       "      MERCHANT_CATEGORIZED_AS  PURCHASE_VALUE            PURCHASED_AT  \\\n",
       "0                         NaN              20  2021-03-22 12:37:00+00   \n",
       "1                         NaN               1  2021-07-05 11:07:00+00   \n",
       "2                         NaN            1500  2021-06-21 19:40:00+00   \n",
       "3                         NaN            1500  2021-04-22 18:41:00+00   \n",
       "4                         NaN               1  2021-07-29 13:03:00+00   \n",
       "...                       ...             ...                     ...   \n",
       "9995                      NaN              30  2022-04-09 15:37:00+00   \n",
       "9996                      NaN             100  2022-04-09 09:02:00+00   \n",
       "9997                      NaN              20  2022-04-10 18:57:00+00   \n",
       "9998                      NaN          105300  2021-12-29 11:13:00+00   \n",
       "9999                      NaN             100  2021-08-27 18:16:00+00   \n",
       "\n",
       "      IS_PURCHASE_PAID_VIA_MPESA_SEND_MONEY  USER_AGE USER_GENDER  \\\n",
       "0                                     False       NaN         NaN   \n",
       "1                                     False       NaN         NaN   \n",
       "2                                     False       NaN         NaN   \n",
       "3                                     False       NaN         NaN   \n",
       "4                                     False       NaN         NaN   \n",
       "...                                     ...       ...         ...   \n",
       "9995                                  False       NaN        Male   \n",
       "9996                                  False       NaN        Male   \n",
       "9997                                  False       NaN        Male   \n",
       "9998                                  False      27.0      Female   \n",
       "9999                                  False      23.0        Male   \n",
       "\n",
       "      USER_HOUSEHOLD  USER_INCOME      USER_ID Transaction_ID  \n",
       "0                  1        10000  ID_R4T8Q46J    ID_v13grrw3  \n",
       "1                  1        10000  ID_R4T8Q46J    ID_rgne8ij5  \n",
       "2                  1        10000  ID_R4T8Q46J    ID_4i2b28b6  \n",
       "3                  1        10000  ID_R4T8Q46J    ID_6dvi32yc  \n",
       "4                  1        10000  ID_R4T8Q46J    ID_sfk1yxbm  \n",
       "...              ...          ...          ...            ...  \n",
       "9995               1         5000  ID_F7B7BAJ0    ID_6arln23v  \n",
       "9996               1         5000  ID_F7B7BAJ0    ID_msuxva0z  \n",
       "9997               1         5000  ID_F7B7BAJ0    ID_flro17hp  \n",
       "9998               1        35000  ID_B5KBXPAO    ID_bb2ghfuy  \n",
       "9999               1        21500  ID_Z65I1YAL    ID_cxhvhlnw  \n",
       "\n",
       "[10000 rows x 12 columns]"
      ]
     },
     "execution_count": 197,
     "metadata": {},
     "output_type": "execute_result"
    }
   ],
   "source": [
    "extr"
   ]
  },
  {
   "cell_type": "code",
   "execution_count": 198,
   "metadata": {
    "colab": {
     "base_uri": "https://localhost:8080/"
    },
    "id": "HSj_1Qz7ezsw",
    "outputId": "46425755-d8be-4bab-9d03-4e491eb3162a"
   },
   "outputs": [
    {
     "name": "stdout",
     "output_type": "stream",
     "text": [
      "Train data shape : (373, 12)\n",
      "Test data shape : (558, 11)\n"
     ]
    }
   ],
   "source": [
    "# Let’s observe the shape of our datasets.\n",
    "print('Train data shape :', train.shape)\n",
    "print('Test data shape :', test.shape)"
   ]
  },
  {
   "cell_type": "markdown",
   "metadata": {
    "id": "BJslatwHfAaN"
   },
   "source": [
    "The above output shows the number of rows and columns for train and test dataset. We have 12 variables in the train dataset, 11 independent variables and 1 dependent variable. In the test dataset, we have 11 independent variables.\n",
    "\n",
    "We can observe the first five rows from our data set by using the head() method from the pandas library."
   ]
  },
  {
   "cell_type": "code",
   "execution_count": 199,
   "metadata": {
    "colab": {
     "base_uri": "https://localhost:8080/",
     "height": 392
    },
    "id": "aeKToQ98lOVe",
    "outputId": "e3a03f67-a89b-4e9c-ca01-d5d713bc9f1b"
   },
   "outputs": [
    {
     "data": {
      "text/html": [
       "<div>\n",
       "<style scoped>\n",
       "    .dataframe tbody tr th:only-of-type {\n",
       "        vertical-align: middle;\n",
       "    }\n",
       "\n",
       "    .dataframe tbody tr th {\n",
       "        vertical-align: top;\n",
       "    }\n",
       "\n",
       "    .dataframe thead th {\n",
       "        text-align: right;\n",
       "    }\n",
       "</style>\n",
       "<table border=\"1\" class=\"dataframe\">\n",
       "  <thead>\n",
       "    <tr style=\"text-align: right;\">\n",
       "      <th></th>\n",
       "      <th>MERCHANT_CATEGORIZED_AT</th>\n",
       "      <th>MERCHANT_NAME</th>\n",
       "      <th>MERCHANT_CATEGORIZED_AS</th>\n",
       "      <th>PURCHASE_VALUE</th>\n",
       "      <th>PURCHASED_AT</th>\n",
       "      <th>IS_PURCHASE_PAID_VIA_MPESA_SEND_MONEY</th>\n",
       "      <th>USER_AGE</th>\n",
       "      <th>USER_GENDER</th>\n",
       "      <th>USER_HOUSEHOLD</th>\n",
       "      <th>USER_INCOME</th>\n",
       "      <th>USER_ID</th>\n",
       "      <th>Transaction_ID</th>\n",
       "    </tr>\n",
       "  </thead>\n",
       "  <tbody>\n",
       "    <tr>\n",
       "      <th>0</th>\n",
       "      <td>2022-05-04 10:25:50.588042+00</td>\n",
       "      <td>UONSDA CHURCH  MOGERE MWAYO TITHE</td>\n",
       "      <td>Rent / Mortgage</td>\n",
       "      <td>1700</td>\n",
       "      <td>2022-05-04 13:56:00+00</td>\n",
       "      <td>False</td>\n",
       "      <td>NaN</td>\n",
       "      <td>Male</td>\n",
       "      <td>3</td>\n",
       "      <td>10000</td>\n",
       "      <td>ID_ZX4DCF4K</td>\n",
       "      <td>ID_04mk78fa</td>\n",
       "    </tr>\n",
       "    <tr>\n",
       "      <th>1</th>\n",
       "      <td>2021-10-25 16:18:38.586837+00</td>\n",
       "      <td>PARK N GO</td>\n",
       "      <td>Transport &amp; Fuel</td>\n",
       "      <td>100</td>\n",
       "      <td>2021-10-24 14:12:00+00</td>\n",
       "      <td>False</td>\n",
       "      <td>25.0</td>\n",
       "      <td>Female</td>\n",
       "      <td>4</td>\n",
       "      <td>90000</td>\n",
       "      <td>ID_U9WZMGJZ</td>\n",
       "      <td>ID_04xkfb07</td>\n",
       "    </tr>\n",
       "    <tr>\n",
       "      <th>2</th>\n",
       "      <td>2022-05-20 14:17:30.917297+00</td>\n",
       "      <td>SAFARICOM OFFERS  TUNUKIWA</td>\n",
       "      <td>Data &amp; WiFi</td>\n",
       "      <td>20</td>\n",
       "      <td>2022-05-27 12:46:00+00</td>\n",
       "      <td>False</td>\n",
       "      <td>NaN</td>\n",
       "      <td>Male</td>\n",
       "      <td>3</td>\n",
       "      <td>10000</td>\n",
       "      <td>ID_ZX4DCF4K</td>\n",
       "      <td>ID_051urwuw</td>\n",
       "    </tr>\n",
       "    <tr>\n",
       "      <th>3</th>\n",
       "      <td>2022-04-12 15:59:14.139347+00</td>\n",
       "      <td>ZILLIONS CREDIT LIMITED</td>\n",
       "      <td>Loan Repayment</td>\n",
       "      <td>3800</td>\n",
       "      <td>2022-02-07 12:16:00+00</td>\n",
       "      <td>False</td>\n",
       "      <td>NaN</td>\n",
       "      <td>Male</td>\n",
       "      <td>5</td>\n",
       "      <td>252000</td>\n",
       "      <td>ID_3JA0MAFB</td>\n",
       "      <td>ID_0e1om7rz</td>\n",
       "    </tr>\n",
       "    <tr>\n",
       "      <th>4</th>\n",
       "      <td>2022-05-04 10:24:26.709045+00</td>\n",
       "      <td>MICHAEL MUSEMBI</td>\n",
       "      <td>Bills &amp; Fees</td>\n",
       "      <td>60</td>\n",
       "      <td>2022-05-04 15:28:00+00</td>\n",
       "      <td>False</td>\n",
       "      <td>NaN</td>\n",
       "      <td>Male</td>\n",
       "      <td>3</td>\n",
       "      <td>10000</td>\n",
       "      <td>ID_ZX4DCF4K</td>\n",
       "      <td>ID_0kfcoawb</td>\n",
       "    </tr>\n",
       "  </tbody>\n",
       "</table>\n",
       "</div>"
      ],
      "text/plain": [
       "         MERCHANT_CATEGORIZED_AT                      MERCHANT_NAME  \\\n",
       "0  2022-05-04 10:25:50.588042+00  UONSDA CHURCH  MOGERE MWAYO TITHE   \n",
       "1  2021-10-25 16:18:38.586837+00                          PARK N GO   \n",
       "2  2022-05-20 14:17:30.917297+00         SAFARICOM OFFERS  TUNUKIWA   \n",
       "3  2022-04-12 15:59:14.139347+00            ZILLIONS CREDIT LIMITED   \n",
       "4  2022-05-04 10:24:26.709045+00                    MICHAEL MUSEMBI   \n",
       "\n",
       "  MERCHANT_CATEGORIZED_AS  PURCHASE_VALUE            PURCHASED_AT  \\\n",
       "0         Rent / Mortgage            1700  2022-05-04 13:56:00+00   \n",
       "1        Transport & Fuel             100  2021-10-24 14:12:00+00   \n",
       "2             Data & WiFi              20  2022-05-27 12:46:00+00   \n",
       "3          Loan Repayment            3800  2022-02-07 12:16:00+00   \n",
       "4            Bills & Fees              60  2022-05-04 15:28:00+00   \n",
       "\n",
       "   IS_PURCHASE_PAID_VIA_MPESA_SEND_MONEY  USER_AGE USER_GENDER  \\\n",
       "0                                  False       NaN        Male   \n",
       "1                                  False      25.0      Female   \n",
       "2                                  False       NaN        Male   \n",
       "3                                  False       NaN        Male   \n",
       "4                                  False       NaN        Male   \n",
       "\n",
       "   USER_HOUSEHOLD  USER_INCOME      USER_ID Transaction_ID  \n",
       "0               3        10000  ID_ZX4DCF4K    ID_04mk78fa  \n",
       "1               4        90000  ID_U9WZMGJZ    ID_04xkfb07  \n",
       "2               3        10000  ID_ZX4DCF4K    ID_051urwuw  \n",
       "3               5       252000  ID_3JA0MAFB    ID_0e1om7rz  \n",
       "4               3        10000  ID_ZX4DCF4K    ID_0kfcoawb  "
      ]
     },
     "execution_count": 199,
     "metadata": {},
     "output_type": "execute_result"
    }
   ],
   "source": [
    "# Inspect the training data\n",
    "train.head()"
   ]
  },
  {
   "cell_type": "code",
   "execution_count": 200,
   "metadata": {},
   "outputs": [
    {
     "data": {
      "text/html": [
       "<div>\n",
       "<style scoped>\n",
       "    .dataframe tbody tr th:only-of-type {\n",
       "        vertical-align: middle;\n",
       "    }\n",
       "\n",
       "    .dataframe tbody tr th {\n",
       "        vertical-align: top;\n",
       "    }\n",
       "\n",
       "    .dataframe thead th {\n",
       "        text-align: right;\n",
       "    }\n",
       "</style>\n",
       "<table border=\"1\" class=\"dataframe\">\n",
       "  <thead>\n",
       "    <tr style=\"text-align: right;\">\n",
       "      <th></th>\n",
       "      <th>MERCHANT_CATEGORIZED_AT</th>\n",
       "      <th>MERCHANT_NAME</th>\n",
       "      <th>PURCHASE_VALUE</th>\n",
       "      <th>PURCHASED_AT</th>\n",
       "      <th>IS_PURCHASE_PAID_VIA_MPESA_SEND_MONEY</th>\n",
       "      <th>USER_AGE</th>\n",
       "      <th>USER_GENDER</th>\n",
       "      <th>USER_HOUSEHOLD</th>\n",
       "      <th>USER_INCOME</th>\n",
       "      <th>USER_ID</th>\n",
       "      <th>Transaction_ID</th>\n",
       "    </tr>\n",
       "  </thead>\n",
       "  <tbody>\n",
       "    <tr>\n",
       "      <th>0</th>\n",
       "      <td>2022-06-01 10:25:16.7131+00</td>\n",
       "      <td>KCB PAYBILL AC</td>\n",
       "      <td>150000</td>\n",
       "      <td>2022-05-05 08:29:00+00</td>\n",
       "      <td>True</td>\n",
       "      <td>NaN</td>\n",
       "      <td>Male</td>\n",
       "      <td>5</td>\n",
       "      <td>150000</td>\n",
       "      <td>ID_O8P8YS18</td>\n",
       "      <td>ID_00x9h2yx</td>\n",
       "    </tr>\n",
       "    <tr>\n",
       "      <th>1</th>\n",
       "      <td>2022-03-16 13:05:51.851102+00</td>\n",
       "      <td>IPAY LTD</td>\n",
       "      <td>7394</td>\n",
       "      <td>2019-10-05 16:02:00+00</td>\n",
       "      <td>False</td>\n",
       "      <td>NaN</td>\n",
       "      <td>Female</td>\n",
       "      <td>1</td>\n",
       "      <td>10000</td>\n",
       "      <td>ID_40L9OTIM</td>\n",
       "      <td>ID_01db594f</td>\n",
       "    </tr>\n",
       "    <tr>\n",
       "      <th>2</th>\n",
       "      <td>2022-03-10 18:25:42.112294+00</td>\n",
       "      <td>JOHN NJIRU GAKUNJU</td>\n",
       "      <td>200</td>\n",
       "      <td>2021-11-25 09:56:00+00</td>\n",
       "      <td>False</td>\n",
       "      <td>NaN</td>\n",
       "      <td>Female</td>\n",
       "      <td>1</td>\n",
       "      <td>85000</td>\n",
       "      <td>ID_1I8XYBWK</td>\n",
       "      <td>ID_07pm99no</td>\n",
       "    </tr>\n",
       "    <tr>\n",
       "      <th>3</th>\n",
       "      <td>2022-04-12 15:59:14.139347+00</td>\n",
       "      <td>UONSDA CHURCH  OFFERING-MAIN</td>\n",
       "      <td>50</td>\n",
       "      <td>2022-04-11 14:48:00+00</td>\n",
       "      <td>False</td>\n",
       "      <td>NaN</td>\n",
       "      <td>Male</td>\n",
       "      <td>2</td>\n",
       "      <td>10000</td>\n",
       "      <td>ID_GR569FUO</td>\n",
       "      <td>ID_09jryhkd</td>\n",
       "    </tr>\n",
       "    <tr>\n",
       "      <th>4</th>\n",
       "      <td>2022-05-04 10:24:26.709045+00</td>\n",
       "      <td>M-SHWARI LOCK SAVINGS</td>\n",
       "      <td>10000</td>\n",
       "      <td>2022-05-04 13:59:00+00</td>\n",
       "      <td>False</td>\n",
       "      <td>NaN</td>\n",
       "      <td>Male</td>\n",
       "      <td>3</td>\n",
       "      <td>10000</td>\n",
       "      <td>ID_ZX4DCF4K</td>\n",
       "      <td>ID_0ccv924c</td>\n",
       "    </tr>\n",
       "  </tbody>\n",
       "</table>\n",
       "</div>"
      ],
      "text/plain": [
       "         MERCHANT_CATEGORIZED_AT                 MERCHANT_NAME  \\\n",
       "0    2022-06-01 10:25:16.7131+00                KCB PAYBILL AC   \n",
       "1  2022-03-16 13:05:51.851102+00                      IPAY LTD   \n",
       "2  2022-03-10 18:25:42.112294+00            JOHN NJIRU GAKUNJU   \n",
       "3  2022-04-12 15:59:14.139347+00  UONSDA CHURCH  OFFERING-MAIN   \n",
       "4  2022-05-04 10:24:26.709045+00         M-SHWARI LOCK SAVINGS   \n",
       "\n",
       "   PURCHASE_VALUE            PURCHASED_AT  \\\n",
       "0          150000  2022-05-05 08:29:00+00   \n",
       "1            7394  2019-10-05 16:02:00+00   \n",
       "2             200  2021-11-25 09:56:00+00   \n",
       "3              50  2022-04-11 14:48:00+00   \n",
       "4           10000  2022-05-04 13:59:00+00   \n",
       "\n",
       "   IS_PURCHASE_PAID_VIA_MPESA_SEND_MONEY  USER_AGE USER_GENDER  \\\n",
       "0                                   True       NaN        Male   \n",
       "1                                  False       NaN      Female   \n",
       "2                                  False       NaN      Female   \n",
       "3                                  False       NaN        Male   \n",
       "4                                  False       NaN        Male   \n",
       "\n",
       "   USER_HOUSEHOLD  USER_INCOME      USER_ID Transaction_ID  \n",
       "0               5       150000  ID_O8P8YS18    ID_00x9h2yx  \n",
       "1               1        10000  ID_40L9OTIM    ID_01db594f  \n",
       "2               1        85000  ID_1I8XYBWK    ID_07pm99no  \n",
       "3               2        10000  ID_GR569FUO    ID_09jryhkd  \n",
       "4               3        10000  ID_ZX4DCF4K    ID_0ccv924c  "
      ]
     },
     "execution_count": 200,
     "metadata": {},
     "output_type": "execute_result"
    }
   ],
   "source": [
    "test.head()"
   ]
  },
  {
   "cell_type": "markdown",
   "metadata": {
    "id": "Lp2Ci3uLtN_C"
   },
   "source": [
    "It is important to understand the meaning of each feature so you can really understand the dataset. You can read the VariableDefinition.csv file to understand the meaning of each variable presented in the dataset.\n",
    "\n",
    "The SampleSubmission.csv gives us an example of what our submission file should look like. This file will contain the unique id column combined with the merchant name from the Test.csv file and the target we predict with our model. Once we have created this file, we will submit it to the competition page and obtain a position on the leaderboard."
   ]
  },
  {
   "cell_type": "code",
   "execution_count": 201,
   "metadata": {
    "colab": {
     "base_uri": "https://localhost:8080/",
     "height": 392
    },
    "id": "fhD55_f3tYAE",
    "outputId": "247cf126-e36a-4d6a-fca5-c6cef9138055"
   },
   "outputs": [
    {
     "data": {
      "text/html": [
       "<div>\n",
       "<style scoped>\n",
       "    .dataframe tbody tr th:only-of-type {\n",
       "        vertical-align: middle;\n",
       "    }\n",
       "\n",
       "    .dataframe tbody tr th {\n",
       "        vertical-align: top;\n",
       "    }\n",
       "\n",
       "    .dataframe thead th {\n",
       "        text-align: right;\n",
       "    }\n",
       "</style>\n",
       "<table border=\"1\" class=\"dataframe\">\n",
       "  <thead>\n",
       "    <tr style=\"text-align: right;\">\n",
       "      <th></th>\n",
       "      <th>Transaction_ID</th>\n",
       "      <th>Bills &amp; Fees</th>\n",
       "      <th>Data &amp; WiFi</th>\n",
       "      <th>Education</th>\n",
       "      <th>Emergency fund</th>\n",
       "      <th>Family &amp; Friends</th>\n",
       "      <th>Going out</th>\n",
       "      <th>Groceries</th>\n",
       "      <th>Health</th>\n",
       "      <th>Loan Repayment</th>\n",
       "      <th>Miscellaneous</th>\n",
       "      <th>Rent / Mortgage</th>\n",
       "      <th>Shopping</th>\n",
       "      <th>Transport &amp; Fuel</th>\n",
       "    </tr>\n",
       "  </thead>\n",
       "  <tbody>\n",
       "    <tr>\n",
       "      <th>0</th>\n",
       "      <td>ID_00x9h2yx</td>\n",
       "      <td>0</td>\n",
       "      <td>0</td>\n",
       "      <td>0</td>\n",
       "      <td>0</td>\n",
       "      <td>0</td>\n",
       "      <td>0</td>\n",
       "      <td>0</td>\n",
       "      <td>0</td>\n",
       "      <td>0</td>\n",
       "      <td>0</td>\n",
       "      <td>0</td>\n",
       "      <td>0</td>\n",
       "      <td>0</td>\n",
       "    </tr>\n",
       "    <tr>\n",
       "      <th>1</th>\n",
       "      <td>ID_01db594f</td>\n",
       "      <td>0</td>\n",
       "      <td>0</td>\n",
       "      <td>0</td>\n",
       "      <td>0</td>\n",
       "      <td>0</td>\n",
       "      <td>0</td>\n",
       "      <td>0</td>\n",
       "      <td>0</td>\n",
       "      <td>0</td>\n",
       "      <td>0</td>\n",
       "      <td>0</td>\n",
       "      <td>0</td>\n",
       "      <td>0</td>\n",
       "    </tr>\n",
       "    <tr>\n",
       "      <th>2</th>\n",
       "      <td>ID_07pm99no</td>\n",
       "      <td>0</td>\n",
       "      <td>0</td>\n",
       "      <td>0</td>\n",
       "      <td>0</td>\n",
       "      <td>0</td>\n",
       "      <td>0</td>\n",
       "      <td>0</td>\n",
       "      <td>0</td>\n",
       "      <td>0</td>\n",
       "      <td>0</td>\n",
       "      <td>0</td>\n",
       "      <td>0</td>\n",
       "      <td>0</td>\n",
       "    </tr>\n",
       "    <tr>\n",
       "      <th>3</th>\n",
       "      <td>ID_09jryhkd</td>\n",
       "      <td>0</td>\n",
       "      <td>0</td>\n",
       "      <td>0</td>\n",
       "      <td>0</td>\n",
       "      <td>0</td>\n",
       "      <td>0</td>\n",
       "      <td>0</td>\n",
       "      <td>0</td>\n",
       "      <td>0</td>\n",
       "      <td>0</td>\n",
       "      <td>0</td>\n",
       "      <td>0</td>\n",
       "      <td>0</td>\n",
       "    </tr>\n",
       "    <tr>\n",
       "      <th>4</th>\n",
       "      <td>ID_0ccv924c</td>\n",
       "      <td>0</td>\n",
       "      <td>0</td>\n",
       "      <td>0</td>\n",
       "      <td>0</td>\n",
       "      <td>0</td>\n",
       "      <td>0</td>\n",
       "      <td>0</td>\n",
       "      <td>0</td>\n",
       "      <td>0</td>\n",
       "      <td>0</td>\n",
       "      <td>0</td>\n",
       "      <td>0</td>\n",
       "      <td>0</td>\n",
       "    </tr>\n",
       "  </tbody>\n",
       "</table>\n",
       "</div>"
      ],
      "text/plain": [
       "  Transaction_ID  Bills & Fees  Data & WiFi  Education  Emergency fund  \\\n",
       "0    ID_00x9h2yx             0            0          0               0   \n",
       "1    ID_01db594f             0            0          0               0   \n",
       "2    ID_07pm99no             0            0          0               0   \n",
       "3    ID_09jryhkd             0            0          0               0   \n",
       "4    ID_0ccv924c             0            0          0               0   \n",
       "\n",
       "   Family & Friends  Going out  Groceries  Health  Loan Repayment  \\\n",
       "0                 0          0          0       0               0   \n",
       "1                 0          0          0       0               0   \n",
       "2                 0          0          0       0               0   \n",
       "3                 0          0          0       0               0   \n",
       "4                 0          0          0       0               0   \n",
       "\n",
       "   Miscellaneous  Rent / Mortgage  Shopping  Transport & Fuel  \n",
       "0              0                0         0                 0  \n",
       "1              0                0         0                 0  \n",
       "2              0                0         0                 0  \n",
       "3              0                0         0                 0  \n",
       "4              0                0         0                 0  "
      ]
     },
     "execution_count": 201,
     "metadata": {},
     "output_type": "execute_result"
    }
   ],
   "source": [
    "# View the submission file\n",
    "ss.head()"
   ]
  },
  {
   "cell_type": "markdown",
   "metadata": {
    "id": "uR7H9KmYtqqg"
   },
   "source": [
    "## 2. Understand the dataset"
   ]
  },
  {
   "cell_type": "markdown",
   "metadata": {
    "id": "6Gp_xSOrtyfj"
   },
   "source": [
    "Let's look at a bar graph of the train data."
   ]
  },
  {
   "cell_type": "code",
   "execution_count": 202,
   "metadata": {
    "colab": {
     "base_uri": "https://localhost:8080/",
     "height": 780
    },
    "id": "3_E4cGDvstrK",
    "outputId": "bd8ff217-3d67-4ea2-cc07-c2198433ddee"
   },
   "outputs": [
    {
     "data": {
      "text/plain": [
       "<BarContainer object of 373 artists>"
      ]
     },
     "execution_count": 202,
     "metadata": {},
     "output_type": "execute_result"
    },
    {
     "data": {
      "image/png": "[encoded data removed]",
      "text/plain": [
       "<Figure size 800x600 with 1 Axes>"
      ]
     },
     "metadata": {
      "needs_background": "light"
     },
     "output_type": "display_data"
    }
   ],
   "source": [
    "# Show a bar graph of the purchase_value vs the target in the train data (merchant_categorized_as)\n",
    "plt.figure(dpi=200, figsize=(4,3))\n",
    "plt.xticks(rotation=90)\n",
    "plt.bar(data=train, x='MERCHANT_CATEGORIZED_AS', height='PURCHASE_VALUE')"
   ]
  },
  {
   "cell_type": "markdown",
   "metadata": {
    "id": "8NZhaPZIs2xk"
   },
   "source": [
    "It's interesting to note that more money was spent on education than bills & fees, emergency fund, rent/mortgage and loan repayment.\n",
    "\n",
    "Also very little was spent on health and transport & fuel."
   ]
  },
  {
   "cell_type": "markdown",
   "metadata": {
    "id": "nkFQ1a_klXwd"
   },
   "source": [
    "Let's look at more detail by running the .info method\n",
    "\n",
    "The output shows the list of variables/features, sizes, if it contains missing values and the data type for each variable. We have 3 features of the integer data type, 6 features of the object data type, 1 of the boolean data type and 1 of the float data type.\n",
    "\n",
    "If you want to learn how to handle missing data in your dataset, we recommend you read [How to Handle Missing Data with Python](https://machinelearningmastery.com/handle-missing-data-python/) by Jason Brownlee.\n",
    "\n",
    "For more information you can visit the link below.\n",
    "\n",
    "[Why you need to explore your data and how you can start](https://https://medium.com/analytics-vidhya/why-you-need-to-explore-your-data-how-you-can-start-13de6f29c8c1)"
   ]
  },
  {
   "cell_type": "markdown",
   "metadata": {
    "id": "wKJswRvsyD8d"
   },
   "source": [
    "Encode the target labels to values to show a correlation matrix."
   ]
  },
  {
   "cell_type": "code",
   "execution_count": 203,
   "metadata": {
    "colab": {
     "base_uri": "https://localhost:8080/"
    },
    "id": "zTPRRb1dyH2R",
    "outputId": "51dff886-5657-468c-be0a-c955660ff7f7"
   },
   "outputs": [
    {
     "name": "stdout",
     "output_type": "stream",
     "text": [
      "Train data:  {'MERCHANT_CATEGORIZED_AS': {'Bills & Fees': 1, 'Data & WiFi': 2, 'Education': 3, 'Emergency fund': 4, 'Family & Friends': 5, 'Going out': 6, 'Groceries': 7, 'Health': 8, 'Loan Repayment': 9, 'Miscellaneous': 10, 'Rent / Mortgage': 11, 'Shopping': 12, 'Transport & Fuel': 13}}\n"
     ]
    }
   ],
   "source": [
    "# Use a dictionary comprehension and zip to create a dictionary for all the categories in the train data\n",
    "labels_train = train['MERCHANT_CATEGORIZED_AS'].astype('category').cat.categories.tolist()\n",
    "replace_map_train = {'MERCHANT_CATEGORIZED_AS' : {k: v for k,v in zip(labels_train,list(range(1,len(labels_train)+1)))}}\n",
    "print(\"Train data: \", replace_map_train)"
   ]
  },
  {
   "cell_type": "code",
   "execution_count": 204,
   "metadata": {
    "id": "YEnKu6HjyM2z"
   },
   "outputs": [],
   "source": [
    "# Create a copy to use for the correlation matrix (as it only accepts numerical data)\n",
    "#train_data_corr = train.copy()"
   ]
  },
  {
   "cell_type": "code",
   "execution_count": 205,
   "metadata": {
    "id": "GvFoJNrXyQsp"
   },
   "outputs": [],
   "source": [
    "# Replace the categories with the numerical equivalents from the dictionary\n",
    "train.replace(replace_map_train, inplace=True)"
   ]
  },
  {
   "cell_type": "markdown",
   "metadata": {
    "id": "RM0Z7YtByZZ8"
   },
   "source": [
    "Correlation matrix"
   ]
  },
  {
   "cell_type": "code",
   "execution_count": 206,
   "metadata": {},
   "outputs": [
    {
     "data": {
      "text/plain": [
       "<AxesSubplot:>"
      ]
     },
     "execution_count": 206,
     "metadata": {},
     "output_type": "execute_result"
    },
    {
     "data": {
      "image/png": "[encoded data removed]",
      "text/plain": [
       "<Figure size 3600x1440 with 2 Axes>"
      ]
     },
     "metadata": {
      "needs_background": "light"
     },
     "output_type": "display_data"
    }
   ],
   "source": [
    "import seaborn as sns\n",
    "corrmat =train.corr()\n",
    "f, ax = plt.subplots(figsize=(50,20))\n",
    "sns.heatmap(corrmat, square=True, annot=True,linewidth=0.8, cmap='RdBu')"
   ]
  },
  {
   "cell_type": "code",
   "execution_count": 207,
   "metadata": {},
   "outputs": [
    {
     "data": {
      "text/html": [
       "<div>\n",
       "<style scoped>\n",
       "    .dataframe tbody tr th:only-of-type {\n",
       "        vertical-align: middle;\n",
       "    }\n",
       "\n",
       "    .dataframe tbody tr th {\n",
       "        vertical-align: top;\n",
       "    }\n",
       "\n",
       "    .dataframe thead th {\n",
       "        text-align: right;\n",
       "    }\n",
       "</style>\n",
       "<table border=\"1\" class=\"dataframe\">\n",
       "  <thead>\n",
       "    <tr style=\"text-align: right;\">\n",
       "      <th></th>\n",
       "      <th>MERCHANT_CATEGORIZED_AT</th>\n",
       "      <th>MERCHANT_NAME</th>\n",
       "      <th>PURCHASE_VALUE</th>\n",
       "      <th>PURCHASED_AT</th>\n",
       "      <th>IS_PURCHASE_PAID_VIA_MPESA_SEND_MONEY</th>\n",
       "      <th>USER_AGE</th>\n",
       "      <th>USER_GENDER</th>\n",
       "      <th>USER_HOUSEHOLD</th>\n",
       "      <th>USER_INCOME</th>\n",
       "      <th>USER_ID</th>\n",
       "      <th>Transaction_ID</th>\n",
       "    </tr>\n",
       "  </thead>\n",
       "  <tbody>\n",
       "    <tr>\n",
       "      <th>0</th>\n",
       "      <td>2022-06-01 10:25:16.7131+00</td>\n",
       "      <td>KCB PAYBILL AC</td>\n",
       "      <td>150000</td>\n",
       "      <td>2022-05-05 08:29:00+00</td>\n",
       "      <td>True</td>\n",
       "      <td>NaN</td>\n",
       "      <td>Male</td>\n",
       "      <td>5</td>\n",
       "      <td>150000</td>\n",
       "      <td>ID_O8P8YS18</td>\n",
       "      <td>ID_00x9h2yx</td>\n",
       "    </tr>\n",
       "    <tr>\n",
       "      <th>1</th>\n",
       "      <td>2022-03-16 13:05:51.851102+00</td>\n",
       "      <td>IPAY LTD</td>\n",
       "      <td>7394</td>\n",
       "      <td>2019-10-05 16:02:00+00</td>\n",
       "      <td>False</td>\n",
       "      <td>NaN</td>\n",
       "      <td>Female</td>\n",
       "      <td>1</td>\n",
       "      <td>10000</td>\n",
       "      <td>ID_40L9OTIM</td>\n",
       "      <td>ID_01db594f</td>\n",
       "    </tr>\n",
       "    <tr>\n",
       "      <th>2</th>\n",
       "      <td>2022-03-10 18:25:42.112294+00</td>\n",
       "      <td>JOHN NJIRU GAKUNJU</td>\n",
       "      <td>200</td>\n",
       "      <td>2021-11-25 09:56:00+00</td>\n",
       "      <td>False</td>\n",
       "      <td>NaN</td>\n",
       "      <td>Female</td>\n",
       "      <td>1</td>\n",
       "      <td>85000</td>\n",
       "      <td>ID_1I8XYBWK</td>\n",
       "      <td>ID_07pm99no</td>\n",
       "    </tr>\n",
       "    <tr>\n",
       "      <th>3</th>\n",
       "      <td>2022-04-12 15:59:14.139347+00</td>\n",
       "      <td>UONSDA CHURCH  OFFERING-MAIN</td>\n",
       "      <td>50</td>\n",
       "      <td>2022-04-11 14:48:00+00</td>\n",
       "      <td>False</td>\n",
       "      <td>NaN</td>\n",
       "      <td>Male</td>\n",
       "      <td>2</td>\n",
       "      <td>10000</td>\n",
       "      <td>ID_GR569FUO</td>\n",
       "      <td>ID_09jryhkd</td>\n",
       "    </tr>\n",
       "    <tr>\n",
       "      <th>4</th>\n",
       "      <td>2022-05-04 10:24:26.709045+00</td>\n",
       "      <td>M-SHWARI LOCK SAVINGS</td>\n",
       "      <td>10000</td>\n",
       "      <td>2022-05-04 13:59:00+00</td>\n",
       "      <td>False</td>\n",
       "      <td>NaN</td>\n",
       "      <td>Male</td>\n",
       "      <td>3</td>\n",
       "      <td>10000</td>\n",
       "      <td>ID_ZX4DCF4K</td>\n",
       "      <td>ID_0ccv924c</td>\n",
       "    </tr>\n",
       "    <tr>\n",
       "      <th>...</th>\n",
       "      <td>...</td>\n",
       "      <td>...</td>\n",
       "      <td>...</td>\n",
       "      <td>...</td>\n",
       "      <td>...</td>\n",
       "      <td>...</td>\n",
       "      <td>...</td>\n",
       "      <td>...</td>\n",
       "      <td>...</td>\n",
       "      <td>...</td>\n",
       "      <td>...</td>\n",
       "    </tr>\n",
       "    <tr>\n",
       "      <th>553</th>\n",
       "      <td>2021-11-26 08:29:58.261766+00</td>\n",
       "      <td>CARREFOUR GLR</td>\n",
       "      <td>6606</td>\n",
       "      <td>2021-11-27 15:18:00+00</td>\n",
       "      <td>False</td>\n",
       "      <td>NaN</td>\n",
       "      <td>Male</td>\n",
       "      <td>3</td>\n",
       "      <td>200000</td>\n",
       "      <td>ID_ECX9BS4A</td>\n",
       "      <td>ID_zvole537</td>\n",
       "    </tr>\n",
       "    <tr>\n",
       "      <th>554</th>\n",
       "      <td>2022-04-12 15:59:14.139347+00</td>\n",
       "      <td>LEAH NGOGA</td>\n",
       "      <td>928</td>\n",
       "      <td>2022-01-25 09:41:00+00</td>\n",
       "      <td>True</td>\n",
       "      <td>NaN</td>\n",
       "      <td>Male</td>\n",
       "      <td>5</td>\n",
       "      <td>252000</td>\n",
       "      <td>ID_3JA0MAFB</td>\n",
       "      <td>ID_zy4igt1w</td>\n",
       "    </tr>\n",
       "    <tr>\n",
       "      <th>555</th>\n",
       "      <td>2022-04-12 15:59:14.139347+00</td>\n",
       "      <td>DECATHLON HUB TILL 5</td>\n",
       "      <td>30</td>\n",
       "      <td>2022-02-10 14:21:00+00</td>\n",
       "      <td>False</td>\n",
       "      <td>NaN</td>\n",
       "      <td>Male</td>\n",
       "      <td>5</td>\n",
       "      <td>252000</td>\n",
       "      <td>ID_3JA0MAFB</td>\n",
       "      <td>ID_zy4urqmq</td>\n",
       "    </tr>\n",
       "    <tr>\n",
       "      <th>556</th>\n",
       "      <td>2022-05-31 13:27:24.704992+00</td>\n",
       "      <td>JERUSA A OTIENO</td>\n",
       "      <td>50000</td>\n",
       "      <td>2019-09-07 18:24:00+00</td>\n",
       "      <td>True</td>\n",
       "      <td>NaN</td>\n",
       "      <td>Female</td>\n",
       "      <td>3</td>\n",
       "      <td>85000</td>\n",
       "      <td>ID_J8O7LHZ2</td>\n",
       "      <td>ID_zym0pkxl</td>\n",
       "    </tr>\n",
       "    <tr>\n",
       "      <th>557</th>\n",
       "      <td>2022-04-12 15:57:05.758311+00</td>\n",
       "      <td>XGO KENYA LIMITED</td>\n",
       "      <td>16600</td>\n",
       "      <td>2022-01-25 10:57:00+00</td>\n",
       "      <td>False</td>\n",
       "      <td>NaN</td>\n",
       "      <td>Male</td>\n",
       "      <td>5</td>\n",
       "      <td>252000</td>\n",
       "      <td>ID_3JA0MAFB</td>\n",
       "      <td>ID_zz7zds1s</td>\n",
       "    </tr>\n",
       "  </tbody>\n",
       "</table>\n",
       "<p>558 rows × 11 columns</p>\n",
       "</div>"
      ],
      "text/plain": [
       "           MERCHANT_CATEGORIZED_AT                 MERCHANT_NAME  \\\n",
       "0      2022-06-01 10:25:16.7131+00                KCB PAYBILL AC   \n",
       "1    2022-03-16 13:05:51.851102+00                      IPAY LTD   \n",
       "2    2022-03-10 18:25:42.112294+00            JOHN NJIRU GAKUNJU   \n",
       "3    2022-04-12 15:59:14.139347+00  UONSDA CHURCH  OFFERING-MAIN   \n",
       "4    2022-05-04 10:24:26.709045+00         M-SHWARI LOCK SAVINGS   \n",
       "..                             ...                           ...   \n",
       "553  2021-11-26 08:29:58.261766+00                 CARREFOUR GLR   \n",
       "554  2022-04-12 15:59:14.139347+00                    LEAH NGOGA   \n",
       "555  2022-04-12 15:59:14.139347+00          DECATHLON HUB TILL 5   \n",
       "556  2022-05-31 13:27:24.704992+00               JERUSA A OTIENO   \n",
       "557  2022-04-12 15:57:05.758311+00             XGO KENYA LIMITED   \n",
       "\n",
       "     PURCHASE_VALUE            PURCHASED_AT  \\\n",
       "0            150000  2022-05-05 08:29:00+00   \n",
       "1              7394  2019-10-05 16:02:00+00   \n",
       "2               200  2021-11-25 09:56:00+00   \n",
       "3                50  2022-04-11 14:48:00+00   \n",
       "4             10000  2022-05-04 13:59:00+00   \n",
       "..              ...                     ...   \n",
       "553            6606  2021-11-27 15:18:00+00   \n",
       "554             928  2022-01-25 09:41:00+00   \n",
       "555              30  2022-02-10 14:21:00+00   \n",
       "556           50000  2019-09-07 18:24:00+00   \n",
       "557           16600  2022-01-25 10:57:00+00   \n",
       "\n",
       "     IS_PURCHASE_PAID_VIA_MPESA_SEND_MONEY  USER_AGE USER_GENDER  \\\n",
       "0                                     True       NaN        Male   \n",
       "1                                    False       NaN      Female   \n",
       "2                                    False       NaN      Female   \n",
       "3                                    False       NaN        Male   \n",
       "4                                    False       NaN        Male   \n",
       "..                                     ...       ...         ...   \n",
       "553                                  False       NaN        Male   \n",
       "554                                   True       NaN        Male   \n",
       "555                                  False       NaN        Male   \n",
       "556                                   True       NaN      Female   \n",
       "557                                  False       NaN        Male   \n",
       "\n",
       "     USER_HOUSEHOLD  USER_INCOME      USER_ID Transaction_ID  \n",
       "0                 5       150000  ID_O8P8YS18    ID_00x9h2yx  \n",
       "1                 1        10000  ID_40L9OTIM    ID_01db594f  \n",
       "2                 1        85000  ID_1I8XYBWK    ID_07pm99no  \n",
       "3                 2        10000  ID_GR569FUO    ID_09jryhkd  \n",
       "4                 3        10000  ID_ZX4DCF4K    ID_0ccv924c  \n",
       "..              ...          ...          ...            ...  \n",
       "553               3       200000  ID_ECX9BS4A    ID_zvole537  \n",
       "554               5       252000  ID_3JA0MAFB    ID_zy4igt1w  \n",
       "555               5       252000  ID_3JA0MAFB    ID_zy4urqmq  \n",
       "556               3        85000  ID_J8O7LHZ2    ID_zym0pkxl  \n",
       "557               5       252000  ID_3JA0MAFB    ID_zz7zds1s  \n",
       "\n",
       "[558 rows x 11 columns]"
      ]
     },
     "execution_count": 207,
     "metadata": {},
     "output_type": "execute_result"
    }
   ],
   "source": [
    "test"
   ]
  },
  {
   "cell_type": "markdown",
   "metadata": {
    "id": "_-xUy1m1zSro"
   },
   "source": [
    "We can see that not many things are correlated with MERCHANT_CATEGORIZED_AS, so it seems like we don't have enough data."
   ]
  },
  {
   "cell_type": "markdown",
   "metadata": {
    "id": "brJlTnmLzkiZ"
   },
   "source": [
    "We need to drop empty rows if there are any."
   ]
  },
  {
   "cell_type": "code",
   "execution_count": 208,
   "metadata": {},
   "outputs": [],
   "source": [
    "#train=train_data_corr"
   ]
  },
  {
   "cell_type": "code",
   "execution_count": 209,
   "metadata": {
    "id": "BgS1RoLfzmVY"
   },
   "outputs": [],
   "source": [
    "train.dropna(how='all', inplace=True)\n",
    "test.dropna(how='all', inplace=True)\n",
    "extr.dropna(how='all', inplace=True)"
   ]
  },
  {
   "cell_type": "code",
   "execution_count": 210,
   "metadata": {
    "colab": {
     "base_uri": "https://localhost:8080/"
    },
    "id": "p7E3HCJrlbzH",
    "outputId": "df336577-dcde-41d7-901d-aa45b62efa6c"
   },
   "outputs": [
    {
     "name": "stdout",
     "output_type": "stream",
     "text": [
      "<class 'pandas.core.frame.DataFrame'>\n",
      "Int64Index: 373 entries, 0 to 372\n",
      "Data columns (total 12 columns):\n",
      " #   Column                                 Non-Null Count  Dtype  \n",
      "---  ------                                 --------------  -----  \n",
      " 0   MERCHANT_CATEGORIZED_AT                373 non-null    object \n",
      " 1   MERCHANT_NAME                          373 non-null    object \n",
      " 2   MERCHANT_CATEGORIZED_AS                373 non-null    int64  \n",
      " 3   PURCHASE_VALUE                         373 non-null    int64  \n",
      " 4   PURCHASED_AT                           373 non-null    object \n",
      " 5   IS_PURCHASE_PAID_VIA_MPESA_SEND_MONEY  373 non-null    bool   \n",
      " 6   USER_AGE                               61 non-null     float64\n",
      " 7   USER_GENDER                            367 non-null    object \n",
      " 8   USER_HOUSEHOLD                         373 non-null    int64  \n",
      " 9   USER_INCOME                            373 non-null    int64  \n",
      " 10  USER_ID                                373 non-null    object \n",
      " 11  Transaction_ID                         373 non-null    object \n",
      "dtypes: bool(1), float64(1), int64(4), object(6)\n",
      "memory usage: 35.3+ KB\n"
     ]
    }
   ],
   "source": [
    "train.info()"
   ]
  },
  {
   "cell_type": "code",
   "execution_count": 211,
   "metadata": {
    "colab": {
     "base_uri": "https://localhost:8080/"
    },
    "id": "dO5EObekv7rm",
    "outputId": "630d70c0-8ba9-4bbe-c4a6-a31f03859599",
    "scrolled": false
   },
   "outputs": [
    {
     "name": "stdout",
     "output_type": "stream",
     "text": [
      "<class 'pandas.core.frame.DataFrame'>\n",
      "Int64Index: 558 entries, 0 to 557\n",
      "Data columns (total 11 columns):\n",
      " #   Column                                 Non-Null Count  Dtype  \n",
      "---  ------                                 --------------  -----  \n",
      " 0   MERCHANT_CATEGORIZED_AT                558 non-null    object \n",
      " 1   MERCHANT_NAME                          558 non-null    object \n",
      " 2   PURCHASE_VALUE                         558 non-null    int64  \n",
      " 3   PURCHASED_AT                           558 non-null    object \n",
      " 4   IS_PURCHASE_PAID_VIA_MPESA_SEND_MONEY  558 non-null    bool   \n",
      " 5   USER_AGE                               85 non-null     float64\n",
      " 6   USER_GENDER                            553 non-null    object \n",
      " 7   USER_HOUSEHOLD                         558 non-null    int64  \n",
      " 8   USER_INCOME                            558 non-null    int64  \n",
      " 9   USER_ID                                558 non-null    object \n",
      " 10  Transaction_ID                         558 non-null    object \n",
      "dtypes: bool(1), float64(1), int64(3), object(6)\n",
      "memory usage: 48.5+ KB\n"
     ]
    }
   ],
   "source": [
    "test.info()"
   ]
  },
  {
   "cell_type": "code",
   "execution_count": 212,
   "metadata": {},
   "outputs": [
    {
     "name": "stdout",
     "output_type": "stream",
     "text": [
      "<class 'pandas.core.frame.DataFrame'>\n",
      "Int64Index: 10000 entries, 0 to 9999\n",
      "Data columns (total 12 columns):\n",
      " #   Column                                 Non-Null Count  Dtype  \n",
      "---  ------                                 --------------  -----  \n",
      " 0   MERCHANT_CATEGORIZED_AT                0 non-null      float64\n",
      " 1   MERCHANT_NAME                          10000 non-null  object \n",
      " 2   MERCHANT_CATEGORIZED_AS                0 non-null      float64\n",
      " 3   PURCHASE_VALUE                         10000 non-null  int64  \n",
      " 4   PURCHASED_AT                           10000 non-null  object \n",
      " 5   IS_PURCHASE_PAID_VIA_MPESA_SEND_MONEY  10000 non-null  bool   \n",
      " 6   USER_AGE                               1158 non-null   float64\n",
      " 7   USER_GENDER                            9966 non-null   object \n",
      " 8   USER_HOUSEHOLD                         10000 non-null  int64  \n",
      " 9   USER_INCOME                            10000 non-null  int64  \n",
      " 10  USER_ID                                10000 non-null  object \n",
      " 11  Transaction_ID                         10000 non-null  object \n",
      "dtypes: bool(1), float64(3), int64(3), object(5)\n",
      "memory usage: 947.3+ KB\n"
     ]
    }
   ],
   "source": [
    "extr.info()"
   ]
  },
  {
   "cell_type": "markdown",
   "metadata": {
    "id": "plxS_TN5lvaR"
   },
   "source": [
    "We can see that the number of entries in Age for the Test set don't correspond to the rest of its entries and for the Train set there are missing entries for Age and for Gender, which means we have some missing values."
   ]
  },
  {
   "cell_type": "code",
   "execution_count": 213,
   "metadata": {
    "colab": {
     "base_uri": "https://localhost:8080/"
    },
    "id": "AHANXSdvmdy8",
    "outputId": "e52e4cd6-b935-4f9f-e519-36899c61e44a",
    "scrolled": true
   },
   "outputs": [
    {
     "name": "stdout",
     "output_type": "stream",
     "text": [
      "Missing values for Train: MERCHANT_CATEGORIZED_AT                    0\n",
      "MERCHANT_NAME                              0\n",
      "MERCHANT_CATEGORIZED_AS                    0\n",
      "PURCHASE_VALUE                             0\n",
      "PURCHASED_AT                               0\n",
      "IS_PURCHASE_PAID_VIA_MPESA_SEND_MONEY      0\n",
      "USER_AGE                                 312\n",
      "USER_GENDER                                6\n",
      "USER_HOUSEHOLD                             0\n",
      "USER_INCOME                                0\n",
      "USER_ID                                    0\n",
      "Transaction_ID                             0\n",
      "dtype: int64\n",
      "\n",
      "Missing values for Test: MERCHANT_CATEGORIZED_AT                    0\n",
      "MERCHANT_NAME                              0\n",
      "PURCHASE_VALUE                             0\n",
      "PURCHASED_AT                               0\n",
      "IS_PURCHASE_PAID_VIA_MPESA_SEND_MONEY      0\n",
      "USER_AGE                                 473\n",
      "USER_GENDER                                5\n",
      "USER_HOUSEHOLD                             0\n",
      "USER_INCOME                                0\n",
      "USER_ID                                    0\n",
      "Transaction_ID                             0\n",
      "dtype: int64\n"
     ]
    }
   ],
   "source": [
    "# We can also use the .isnull() method to check for empty values\n",
    "print('Missing values for Train:', train.isnull().sum())\n",
    "print('')\n",
    "print('Missing values for Test:', test.isnull().sum())"
   ]
  },
  {
   "cell_type": "markdown",
   "metadata": {
    "id": "G4PFdHy_mr9-"
   },
   "source": [
    "There are 4 missing Gender entries and 329 missing Age entries in the train data and 591 missing Age entries for the test data."
   ]
  },
  {
   "cell_type": "code",
   "execution_count": 214,
   "metadata": {},
   "outputs": [
    {
     "data": {
      "text/plain": [
       "array([nan, 25., 27., 26., 32.])"
      ]
     },
     "execution_count": 214,
     "metadata": {},
     "output_type": "execute_result"
    }
   ],
   "source": [
    "train['USER_AGE'].unique()"
   ]
  },
  {
   "cell_type": "code",
   "execution_count": 215,
   "metadata": {
    "scrolled": true
   },
   "outputs": [
    {
     "data": {
      "text/plain": [
       "array([nan, 25., 26., 27., 32., 29.])"
      ]
     },
     "execution_count": 215,
     "metadata": {},
     "output_type": "execute_result"
    }
   ],
   "source": [
    "test['USER_AGE'].unique()"
   ]
  },
  {
   "cell_type": "code",
   "execution_count": 216,
   "metadata": {},
   "outputs": [],
   "source": [
    "agen=train[train['USER_AGE'].isna()]['USER_ID'].unique()\n",
    "nage=extr[extr['USER_AGE'].notnull()]['USER_ID'].unique()"
   ]
  },
  {
   "cell_type": "code",
   "execution_count": 217,
   "metadata": {},
   "outputs": [
    {
     "data": {
      "text/plain": [
       "[]"
      ]
     },
     "execution_count": 217,
     "metadata": {},
     "output_type": "execute_result"
    }
   ],
   "source": [
    "set(agen)&set(nage)\n",
    "sorted(set(agen)&set(nage), key = lambda k : agen.index(k))"
   ]
  },
  {
   "cell_type": "markdown",
   "metadata": {},
   "source": [
    "on the extra data there no age for the users that appear in our train dataset "
   ]
  },
  {
   "cell_type": "code",
   "execution_count": 218,
   "metadata": {},
   "outputs": [
    {
     "data": {
      "text/html": [
       "<div>\n",
       "<style scoped>\n",
       "    .dataframe tbody tr th:only-of-type {\n",
       "        vertical-align: middle;\n",
       "    }\n",
       "\n",
       "    .dataframe tbody tr th {\n",
       "        vertical-align: top;\n",
       "    }\n",
       "\n",
       "    .dataframe thead th {\n",
       "        text-align: right;\n",
       "    }\n",
       "</style>\n",
       "<table border=\"1\" class=\"dataframe\">\n",
       "  <thead>\n",
       "    <tr style=\"text-align: right;\">\n",
       "      <th></th>\n",
       "      <th>MERCHANT_CATEGORIZED_AT</th>\n",
       "      <th>MERCHANT_NAME</th>\n",
       "      <th>PURCHASE_VALUE</th>\n",
       "      <th>PURCHASED_AT</th>\n",
       "      <th>IS_PURCHASE_PAID_VIA_MPESA_SEND_MONEY</th>\n",
       "      <th>USER_AGE</th>\n",
       "      <th>USER_GENDER</th>\n",
       "      <th>USER_HOUSEHOLD</th>\n",
       "      <th>USER_INCOME</th>\n",
       "      <th>USER_ID</th>\n",
       "      <th>Transaction_ID</th>\n",
       "    </tr>\n",
       "  </thead>\n",
       "  <tbody>\n",
       "    <tr>\n",
       "      <th>124</th>\n",
       "      <td>2021-08-06 11:28:16.857538+00</td>\n",
       "      <td>ACCESS AFYA</td>\n",
       "      <td>1</td>\n",
       "      <td>2021-08-05 09:32:00+00</td>\n",
       "      <td>False</td>\n",
       "      <td>NaN</td>\n",
       "      <td>NaN</td>\n",
       "      <td>1</td>\n",
       "      <td>10000</td>\n",
       "      <td>ID_R4T8Q46J</td>\n",
       "      <td>ID_8oyhw5j0</td>\n",
       "    </tr>\n",
       "    <tr>\n",
       "      <th>138</th>\n",
       "      <td>2021-11-30 10:51:36.702996+00</td>\n",
       "      <td>PETER  INDIMULI</td>\n",
       "      <td>1028</td>\n",
       "      <td>2021-04-08 12:07:00+00</td>\n",
       "      <td>True</td>\n",
       "      <td>NaN</td>\n",
       "      <td>NaN</td>\n",
       "      <td>1</td>\n",
       "      <td>10000</td>\n",
       "      <td>ID_R4T8Q46J</td>\n",
       "      <td>ID_9au0g3qv</td>\n",
       "    </tr>\n",
       "    <tr>\n",
       "      <th>374</th>\n",
       "      <td>2021-11-30 10:51:36.702996+00</td>\n",
       "      <td>MICHELLE  RODROT</td>\n",
       "      <td>827</td>\n",
       "      <td>2021-07-22 13:36:00+00</td>\n",
       "      <td>True</td>\n",
       "      <td>NaN</td>\n",
       "      <td>NaN</td>\n",
       "      <td>1</td>\n",
       "      <td>10000</td>\n",
       "      <td>ID_R4T8Q46J</td>\n",
       "      <td>ID_p5ajidvp</td>\n",
       "    </tr>\n",
       "    <tr>\n",
       "      <th>395</th>\n",
       "      <td>2021-11-30 10:51:36.702996+00</td>\n",
       "      <td>DORCAS  WANJOHI</td>\n",
       "      <td>2600</td>\n",
       "      <td>2021-06-07 14:05:00+00</td>\n",
       "      <td>True</td>\n",
       "      <td>NaN</td>\n",
       "      <td>NaN</td>\n",
       "      <td>1</td>\n",
       "      <td>10000</td>\n",
       "      <td>ID_R4T8Q46J</td>\n",
       "      <td>ID_qd7dgqor</td>\n",
       "    </tr>\n",
       "    <tr>\n",
       "      <th>550</th>\n",
       "      <td>2021-11-30 10:52:38.553994+00</td>\n",
       "      <td>POA</td>\n",
       "      <td>1500</td>\n",
       "      <td>2021-05-22 19:11:00+00</td>\n",
       "      <td>False</td>\n",
       "      <td>NaN</td>\n",
       "      <td>NaN</td>\n",
       "      <td>1</td>\n",
       "      <td>10000</td>\n",
       "      <td>ID_R4T8Q46J</td>\n",
       "      <td>ID_zqi8lti6</td>\n",
       "    </tr>\n",
       "  </tbody>\n",
       "</table>\n",
       "</div>"
      ],
      "text/plain": [
       "           MERCHANT_CATEGORIZED_AT     MERCHANT_NAME  PURCHASE_VALUE  \\\n",
       "124  2021-08-06 11:28:16.857538+00       ACCESS AFYA               1   \n",
       "138  2021-11-30 10:51:36.702996+00   PETER  INDIMULI            1028   \n",
       "374  2021-11-30 10:51:36.702996+00  MICHELLE  RODROT             827   \n",
       "395  2021-11-30 10:51:36.702996+00   DORCAS  WANJOHI            2600   \n",
       "550  2021-11-30 10:52:38.553994+00               POA            1500   \n",
       "\n",
       "               PURCHASED_AT  IS_PURCHASE_PAID_VIA_MPESA_SEND_MONEY  USER_AGE  \\\n",
       "124  2021-08-05 09:32:00+00                                  False       NaN   \n",
       "138  2021-04-08 12:07:00+00                                   True       NaN   \n",
       "374  2021-07-22 13:36:00+00                                   True       NaN   \n",
       "395  2021-06-07 14:05:00+00                                   True       NaN   \n",
       "550  2021-05-22 19:11:00+00                                  False       NaN   \n",
       "\n",
       "    USER_GENDER  USER_HOUSEHOLD  USER_INCOME      USER_ID Transaction_ID  \n",
       "124         NaN               1        10000  ID_R4T8Q46J    ID_8oyhw5j0  \n",
       "138         NaN               1        10000  ID_R4T8Q46J    ID_9au0g3qv  \n",
       "374         NaN               1        10000  ID_R4T8Q46J    ID_p5ajidvp  \n",
       "395         NaN               1        10000  ID_R4T8Q46J    ID_qd7dgqor  \n",
       "550         NaN               1        10000  ID_R4T8Q46J    ID_zqi8lti6  "
      ]
     },
     "execution_count": 218,
     "metadata": {},
     "output_type": "execute_result"
    }
   ],
   "source": [
    "test[test['USER_GENDER'].isnull()]"
   ]
  },
  {
   "cell_type": "markdown",
   "metadata": {
    "id": "iqPs_Z9L1TuC"
   },
   "source": [
    "### Empty entries"
   ]
  },
  {
   "cell_type": "markdown",
   "metadata": {
    "id": "tNGDf7vvp4dI"
   },
   "source": [
    "By further investigation we see that the empty gender entries in the train set are all for one user: ID_R4T8Q46J in both train and test, therefore we can fill the gender with a value"
   ]
  },
  {
   "cell_type": "code",
   "execution_count": 219,
   "metadata": {
    "scrolled": true
   },
   "outputs": [
    {
     "data": {
      "text/plain": [
       "Male      197\n",
       "Female    170\n",
       "Name: USER_GENDER, dtype: int64"
      ]
     },
     "execution_count": 219,
     "metadata": {},
     "output_type": "execute_result"
    }
   ],
   "source": [
    "train.USER_GENDER.value_counts()"
   ]
  },
  {
   "cell_type": "code",
   "execution_count": 220,
   "metadata": {},
   "outputs": [
    {
     "data": {
      "text/plain": [
       "Male      307\n",
       "Female    246\n",
       "Name: USER_GENDER, dtype: int64"
      ]
     },
     "execution_count": 220,
     "metadata": {},
     "output_type": "execute_result"
    }
   ],
   "source": [
    "test.USER_GENDER.value_counts()"
   ]
  },
  {
   "cell_type": "code",
   "execution_count": 221,
   "metadata": {},
   "outputs": [
    {
     "data": {
      "text/plain": [
       "Male      5317\n",
       "Female    4649\n",
       "Name: USER_GENDER, dtype: int64"
      ]
     },
     "execution_count": 221,
     "metadata": {},
     "output_type": "execute_result"
    }
   ],
   "source": [
    "extr.USER_GENDER.value_counts()"
   ]
  },
  {
   "cell_type": "markdown",
   "metadata": {},
   "source": [
    "Male value seems to be the most common, therefore we'll fill the missing value with male"
   ]
  },
  {
   "cell_type": "code",
   "execution_count": 222,
   "metadata": {},
   "outputs": [],
   "source": [
    "train[\"USER_GENDER\"] = train[\"USER_GENDER\"].apply(lambda x: \"Male\" if pd.isna(x) else x)\n",
    "test[\"USER_GENDER\"] = test[\"USER_GENDER\"].apply(lambda x: \"Male\" if pd.isna(x) else x)"
   ]
  },
  {
   "cell_type": "code",
   "execution_count": 223,
   "metadata": {},
   "outputs": [],
   "source": [
    "#just to test\n",
    "extr[\"USER_GENDER\"] = extr[\"USER_GENDER\"].apply(lambda x: \"Male\" if pd.isna(x) else x)"
   ]
  },
  {
   "cell_type": "markdown",
   "metadata": {
    "id": "scNYPbycqeq9"
   },
   "source": [
    "Let's see how this affected our shape"
   ]
  },
  {
   "cell_type": "code",
   "execution_count": 224,
   "metadata": {
    "colab": {
     "base_uri": "https://localhost:8080/"
    },
    "id": "DMfeNkdOqeWy",
    "outputId": "e5f206cc-41c5-4715-eb08-7a7f3fa4b42b"
   },
   "outputs": [
    {
     "data": {
      "text/plain": [
       "(373, 12)"
      ]
     },
     "execution_count": 224,
     "metadata": {},
     "output_type": "execute_result"
    }
   ],
   "source": [
    "train.shape"
   ]
  },
  {
   "cell_type": "raw",
   "metadata": {
    "id": "GyzBaBWbrBkO"
   },
   "source": [
    "We have various options with regards to filling in the missing values for AGE.\n",
    "Let's impute these values with the median"
   ]
  },
  {
   "cell_type": "code",
   "execution_count": 225,
   "metadata": {
    "id": "ilUVxzfkrK9u"
   },
   "outputs": [],
   "source": [
    "# Impute the missing age entries with the median of that column\n",
    "train_median_value = np.median(train['USER_AGE'].dropna())\n",
    "train['USER_AGE'] = train['USER_AGE'].fillna(train_median_value)\n",
    "\n",
    "test_median_value = np.median(test['USER_AGE'].dropna())\n",
    "test['USER_AGE'] = test['USER_AGE'].fillna(test_median_value)\n",
    "\n",
    "extr_median_value = np.median(extr['USER_AGE'].dropna())\n",
    "extr['USER_AGE'] = extr['USER_AGE'].fillna(extr_median_value)"
   ]
  },
  {
   "cell_type": "code",
   "execution_count": 226,
   "metadata": {
    "colab": {
     "base_uri": "https://localhost:8080/"
    },
    "id": "34cEwW0vrVA0",
    "outputId": "d2deb608-4f7c-4485-d334-420212cbb3c3"
   },
   "outputs": [
    {
     "data": {
      "text/plain": [
       "MERCHANT_CATEGORIZED_AT                  0\n",
       "MERCHANT_NAME                            0\n",
       "MERCHANT_CATEGORIZED_AS                  0\n",
       "PURCHASE_VALUE                           0\n",
       "PURCHASED_AT                             0\n",
       "IS_PURCHASE_PAID_VIA_MPESA_SEND_MONEY    0\n",
       "USER_AGE                                 0\n",
       "USER_GENDER                              0\n",
       "USER_HOUSEHOLD                           0\n",
       "USER_INCOME                              0\n",
       "USER_ID                                  0\n",
       "Transaction_ID                           0\n",
       "dtype: int64"
      ]
     },
     "execution_count": 226,
     "metadata": {},
     "output_type": "execute_result"
    }
   ],
   "source": [
    "# Check that it's done\n",
    "train.isna().sum()"
   ]
  },
  {
   "cell_type": "code",
   "execution_count": 227,
   "metadata": {
    "colab": {
     "base_uri": "https://localhost:8080/"
    },
    "id": "9JWxd6V5xfKO",
    "outputId": "7fadf801-bd3d-4db2-9b15-5f85b5c22f9b"
   },
   "outputs": [
    {
     "data": {
      "text/plain": [
       "MERCHANT_CATEGORIZED_AT                  0\n",
       "MERCHANT_NAME                            0\n",
       "PURCHASE_VALUE                           0\n",
       "PURCHASED_AT                             0\n",
       "IS_PURCHASE_PAID_VIA_MPESA_SEND_MONEY    0\n",
       "USER_AGE                                 0\n",
       "USER_GENDER                              0\n",
       "USER_HOUSEHOLD                           0\n",
       "USER_INCOME                              0\n",
       "USER_ID                                  0\n",
       "Transaction_ID                           0\n",
       "dtype: int64"
      ]
     },
     "execution_count": 227,
     "metadata": {},
     "output_type": "execute_result"
    }
   ],
   "source": [
    "test.isna().sum()"
   ]
  },
  {
   "cell_type": "code",
   "execution_count": 228,
   "metadata": {},
   "outputs": [
    {
     "data": {
      "text/plain": [
       "MERCHANT_CATEGORIZED_AT                  10000\n",
       "MERCHANT_NAME                                0\n",
       "MERCHANT_CATEGORIZED_AS                  10000\n",
       "PURCHASE_VALUE                               0\n",
       "PURCHASED_AT                                 0\n",
       "IS_PURCHASE_PAID_VIA_MPESA_SEND_MONEY        0\n",
       "USER_AGE                                     0\n",
       "USER_GENDER                                  0\n",
       "USER_HOUSEHOLD                               0\n",
       "USER_INCOME                                  0\n",
       "USER_ID                                      0\n",
       "Transaction_ID                               0\n",
       "dtype: int64"
      ]
     },
     "execution_count": 228,
     "metadata": {},
     "output_type": "execute_result"
    }
   ],
   "source": [
    "extr.isna().sum()"
   ]
  },
  {
   "cell_type": "code",
   "execution_count": 229,
   "metadata": {},
   "outputs": [
    {
     "data": {
      "text/plain": [
       "218"
      ]
     },
     "execution_count": 229,
     "metadata": {},
     "output_type": "execute_result"
    }
   ],
   "source": [
    "train['MERCHANT_NAME'].nunique()"
   ]
  },
  {
   "cell_type": "code",
   "execution_count": 230,
   "metadata": {},
   "outputs": [
    {
     "data": {
      "text/plain": [
       "314"
      ]
     },
     "execution_count": 230,
     "metadata": {},
     "output_type": "execute_result"
    }
   ],
   "source": [
    "test['MERCHANT_NAME'].nunique()"
   ]
  },
  {
   "cell_type": "code",
   "execution_count": 231,
   "metadata": {},
   "outputs": [
    {
     "data": {
      "text/plain": [
       "25"
      ]
     },
     "execution_count": 231,
     "metadata": {},
     "output_type": "execute_result"
    }
   ],
   "source": [
    "train['USER_ID'].nunique()"
   ]
  },
  {
   "cell_type": "code",
   "execution_count": 232,
   "metadata": {
    "scrolled": true
   },
   "outputs": [
    {
     "data": {
      "text/plain": [
       "30"
      ]
     },
     "execution_count": 232,
     "metadata": {},
     "output_type": "execute_result"
    }
   ],
   "source": [
    "test['USER_ID'].nunique()"
   ]
  },
  {
   "cell_type": "markdown",
   "metadata": {},
   "source": [
    "# # working on dates "
   ]
  },
  {
   "cell_type": "code",
   "execution_count": 233,
   "metadata": {},
   "outputs": [
    {
     "data": {
      "text/html": [
       "<div>\n",
       "<style scoped>\n",
       "    .dataframe tbody tr th:only-of-type {\n",
       "        vertical-align: middle;\n",
       "    }\n",
       "\n",
       "    .dataframe tbody tr th {\n",
       "        vertical-align: top;\n",
       "    }\n",
       "\n",
       "    .dataframe thead th {\n",
       "        text-align: right;\n",
       "    }\n",
       "</style>\n",
       "<table border=\"1\" class=\"dataframe\">\n",
       "  <thead>\n",
       "    <tr style=\"text-align: right;\">\n",
       "      <th></th>\n",
       "      <th>MERCHANT_CATEGORIZED_AT</th>\n",
       "      <th>MERCHANT_NAME</th>\n",
       "      <th>MERCHANT_CATEGORIZED_AS</th>\n",
       "      <th>PURCHASE_VALUE</th>\n",
       "      <th>PURCHASED_AT</th>\n",
       "      <th>IS_PURCHASE_PAID_VIA_MPESA_SEND_MONEY</th>\n",
       "      <th>USER_AGE</th>\n",
       "      <th>USER_GENDER</th>\n",
       "      <th>USER_HOUSEHOLD</th>\n",
       "      <th>USER_INCOME</th>\n",
       "      <th>USER_ID</th>\n",
       "      <th>Transaction_ID</th>\n",
       "    </tr>\n",
       "  </thead>\n",
       "  <tbody>\n",
       "    <tr>\n",
       "      <th>0</th>\n",
       "      <td>2022-05-04 10:25:50.588042+00</td>\n",
       "      <td>UONSDA CHURCH  MOGERE MWAYO TITHE</td>\n",
       "      <td>11</td>\n",
       "      <td>1700</td>\n",
       "      <td>2022-05-04 13:56:00+00</td>\n",
       "      <td>False</td>\n",
       "      <td>25.0</td>\n",
       "      <td>Male</td>\n",
       "      <td>3</td>\n",
       "      <td>10000</td>\n",
       "      <td>ID_ZX4DCF4K</td>\n",
       "      <td>ID_04mk78fa</td>\n",
       "    </tr>\n",
       "    <tr>\n",
       "      <th>1</th>\n",
       "      <td>2021-10-25 16:18:38.586837+00</td>\n",
       "      <td>PARK N GO</td>\n",
       "      <td>13</td>\n",
       "      <td>100</td>\n",
       "      <td>2021-10-24 14:12:00+00</td>\n",
       "      <td>False</td>\n",
       "      <td>25.0</td>\n",
       "      <td>Female</td>\n",
       "      <td>4</td>\n",
       "      <td>90000</td>\n",
       "      <td>ID_U9WZMGJZ</td>\n",
       "      <td>ID_04xkfb07</td>\n",
       "    </tr>\n",
       "    <tr>\n",
       "      <th>2</th>\n",
       "      <td>2022-05-20 14:17:30.917297+00</td>\n",
       "      <td>SAFARICOM OFFERS  TUNUKIWA</td>\n",
       "      <td>2</td>\n",
       "      <td>20</td>\n",
       "      <td>2022-05-27 12:46:00+00</td>\n",
       "      <td>False</td>\n",
       "      <td>25.0</td>\n",
       "      <td>Male</td>\n",
       "      <td>3</td>\n",
       "      <td>10000</td>\n",
       "      <td>ID_ZX4DCF4K</td>\n",
       "      <td>ID_051urwuw</td>\n",
       "    </tr>\n",
       "    <tr>\n",
       "      <th>3</th>\n",
       "      <td>2022-04-12 15:59:14.139347+00</td>\n",
       "      <td>ZILLIONS CREDIT LIMITED</td>\n",
       "      <td>9</td>\n",
       "      <td>3800</td>\n",
       "      <td>2022-02-07 12:16:00+00</td>\n",
       "      <td>False</td>\n",
       "      <td>25.0</td>\n",
       "      <td>Male</td>\n",
       "      <td>5</td>\n",
       "      <td>252000</td>\n",
       "      <td>ID_3JA0MAFB</td>\n",
       "      <td>ID_0e1om7rz</td>\n",
       "    </tr>\n",
       "    <tr>\n",
       "      <th>4</th>\n",
       "      <td>2022-05-04 10:24:26.709045+00</td>\n",
       "      <td>MICHAEL MUSEMBI</td>\n",
       "      <td>1</td>\n",
       "      <td>60</td>\n",
       "      <td>2022-05-04 15:28:00+00</td>\n",
       "      <td>False</td>\n",
       "      <td>25.0</td>\n",
       "      <td>Male</td>\n",
       "      <td>3</td>\n",
       "      <td>10000</td>\n",
       "      <td>ID_ZX4DCF4K</td>\n",
       "      <td>ID_0kfcoawb</td>\n",
       "    </tr>\n",
       "    <tr>\n",
       "      <th>...</th>\n",
       "      <td>...</td>\n",
       "      <td>...</td>\n",
       "      <td>...</td>\n",
       "      <td>...</td>\n",
       "      <td>...</td>\n",
       "      <td>...</td>\n",
       "      <td>...</td>\n",
       "      <td>...</td>\n",
       "      <td>...</td>\n",
       "      <td>...</td>\n",
       "      <td>...</td>\n",
       "      <td>...</td>\n",
       "    </tr>\n",
       "    <tr>\n",
       "      <th>368</th>\n",
       "      <td>2021-08-06 11:28:03.723042+00</td>\n",
       "      <td>ONESMUS  GAKURU</td>\n",
       "      <td>10</td>\n",
       "      <td>500</td>\n",
       "      <td>2021-08-26 13:38:00+00</td>\n",
       "      <td>True</td>\n",
       "      <td>27.0</td>\n",
       "      <td>Female</td>\n",
       "      <td>2</td>\n",
       "      <td>8000</td>\n",
       "      <td>ID_L8QMYB09</td>\n",
       "      <td>ID_zr5x8yjs</td>\n",
       "    </tr>\n",
       "    <tr>\n",
       "      <th>369</th>\n",
       "      <td>2022-04-12 15:57:05.758311+00</td>\n",
       "      <td>GLADWELL MBURU</td>\n",
       "      <td>10</td>\n",
       "      <td>400</td>\n",
       "      <td>2022-04-03 08:39:00+00</td>\n",
       "      <td>True</td>\n",
       "      <td>25.0</td>\n",
       "      <td>Male</td>\n",
       "      <td>5</td>\n",
       "      <td>750000</td>\n",
       "      <td>ID_D8FOVVBB</td>\n",
       "      <td>ID_zty81sq8</td>\n",
       "    </tr>\n",
       "    <tr>\n",
       "      <th>370</th>\n",
       "      <td>2021-12-01 08:33:13.82067+00</td>\n",
       "      <td>SAFARICOM LIMITED</td>\n",
       "      <td>2</td>\n",
       "      <td>500</td>\n",
       "      <td>2021-01-15 15:40:00+00</td>\n",
       "      <td>False</td>\n",
       "      <td>25.0</td>\n",
       "      <td>Male</td>\n",
       "      <td>3</td>\n",
       "      <td>200000</td>\n",
       "      <td>ID_ECX9BS4A</td>\n",
       "      <td>ID_zx5ajeqe</td>\n",
       "    </tr>\n",
       "    <tr>\n",
       "      <th>371</th>\n",
       "      <td>2021-10-05 12:29:13.14963+00</td>\n",
       "      <td>EQUITY PAYBILL ACCOUNT</td>\n",
       "      <td>1</td>\n",
       "      <td>14000</td>\n",
       "      <td>2021-10-08 10:33:00+00</td>\n",
       "      <td>True</td>\n",
       "      <td>25.0</td>\n",
       "      <td>Female</td>\n",
       "      <td>4</td>\n",
       "      <td>90000</td>\n",
       "      <td>ID_U9WZMGJZ</td>\n",
       "      <td>ID_zx9hnvvb</td>\n",
       "    </tr>\n",
       "    <tr>\n",
       "      <th>372</th>\n",
       "      <td>2022-04-12 15:59:14.139347+00</td>\n",
       "      <td>RUBIS ENJOY UN AVENUE</td>\n",
       "      <td>6</td>\n",
       "      <td>60</td>\n",
       "      <td>2022-03-22 04:06:00+00</td>\n",
       "      <td>False</td>\n",
       "      <td>25.0</td>\n",
       "      <td>Male</td>\n",
       "      <td>5</td>\n",
       "      <td>252000</td>\n",
       "      <td>ID_3JA0MAFB</td>\n",
       "      <td>ID_zztijwt3</td>\n",
       "    </tr>\n",
       "  </tbody>\n",
       "</table>\n",
       "<p>373 rows × 12 columns</p>\n",
       "</div>"
      ],
      "text/plain": [
       "           MERCHANT_CATEGORIZED_AT                      MERCHANT_NAME  \\\n",
       "0    2022-05-04 10:25:50.588042+00  UONSDA CHURCH  MOGERE MWAYO TITHE   \n",
       "1    2021-10-25 16:18:38.586837+00                          PARK N GO   \n",
       "2    2022-05-20 14:17:30.917297+00         SAFARICOM OFFERS  TUNUKIWA   \n",
       "3    2022-04-12 15:59:14.139347+00            ZILLIONS CREDIT LIMITED   \n",
       "4    2022-05-04 10:24:26.709045+00                    MICHAEL MUSEMBI   \n",
       "..                             ...                                ...   \n",
       "368  2021-08-06 11:28:03.723042+00                    ONESMUS  GAKURU   \n",
       "369  2022-04-12 15:57:05.758311+00                     GLADWELL MBURU   \n",
       "370   2021-12-01 08:33:13.82067+00                  SAFARICOM LIMITED   \n",
       "371   2021-10-05 12:29:13.14963+00             EQUITY PAYBILL ACCOUNT   \n",
       "372  2022-04-12 15:59:14.139347+00              RUBIS ENJOY UN AVENUE   \n",
       "\n",
       "     MERCHANT_CATEGORIZED_AS  PURCHASE_VALUE            PURCHASED_AT  \\\n",
       "0                         11            1700  2022-05-04 13:56:00+00   \n",
       "1                         13             100  2021-10-24 14:12:00+00   \n",
       "2                          2              20  2022-05-27 12:46:00+00   \n",
       "3                          9            3800  2022-02-07 12:16:00+00   \n",
       "4                          1              60  2022-05-04 15:28:00+00   \n",
       "..                       ...             ...                     ...   \n",
       "368                       10             500  2021-08-26 13:38:00+00   \n",
       "369                       10             400  2022-04-03 08:39:00+00   \n",
       "370                        2             500  2021-01-15 15:40:00+00   \n",
       "371                        1           14000  2021-10-08 10:33:00+00   \n",
       "372                        6              60  2022-03-22 04:06:00+00   \n",
       "\n",
       "     IS_PURCHASE_PAID_VIA_MPESA_SEND_MONEY  USER_AGE USER_GENDER  \\\n",
       "0                                    False      25.0        Male   \n",
       "1                                    False      25.0      Female   \n",
       "2                                    False      25.0        Male   \n",
       "3                                    False      25.0        Male   \n",
       "4                                    False      25.0        Male   \n",
       "..                                     ...       ...         ...   \n",
       "368                                   True      27.0      Female   \n",
       "369                                   True      25.0        Male   \n",
       "370                                  False      25.0        Male   \n",
       "371                                   True      25.0      Female   \n",
       "372                                  False      25.0        Male   \n",
       "\n",
       "     USER_HOUSEHOLD  USER_INCOME      USER_ID Transaction_ID  \n",
       "0                 3        10000  ID_ZX4DCF4K    ID_04mk78fa  \n",
       "1                 4        90000  ID_U9WZMGJZ    ID_04xkfb07  \n",
       "2                 3        10000  ID_ZX4DCF4K    ID_051urwuw  \n",
       "3                 5       252000  ID_3JA0MAFB    ID_0e1om7rz  \n",
       "4                 3        10000  ID_ZX4DCF4K    ID_0kfcoawb  \n",
       "..              ...          ...          ...            ...  \n",
       "368               2         8000  ID_L8QMYB09    ID_zr5x8yjs  \n",
       "369               5       750000  ID_D8FOVVBB    ID_zty81sq8  \n",
       "370               3       200000  ID_ECX9BS4A    ID_zx5ajeqe  \n",
       "371               4        90000  ID_U9WZMGJZ    ID_zx9hnvvb  \n",
       "372               5       252000  ID_3JA0MAFB    ID_zztijwt3  \n",
       "\n",
       "[373 rows x 12 columns]"
      ]
     },
     "execution_count": 233,
     "metadata": {},
     "output_type": "execute_result"
    }
   ],
   "source": [
    "train"
   ]
  },
  {
   "cell_type": "code",
   "execution_count": 234,
   "metadata": {},
   "outputs": [],
   "source": [
    "#examples \n",
    "temp = '2022-05-04 10:25:50.588042+00'"
   ]
  },
  {
   "cell_type": "code",
   "execution_count": 235,
   "metadata": {},
   "outputs": [
    {
     "data": {
      "text/plain": [
       "4"
      ]
     },
     "execution_count": 235,
     "metadata": {},
     "output_type": "execute_result"
    }
   ],
   "source": [
    "int(temp[8:10])"
   ]
  },
  {
   "cell_type": "code",
   "execution_count": 236,
   "metadata": {},
   "outputs": [],
   "source": [
    "train['Month']=train['PURCHASED_AT'].apply(lambda x : int(x[5:7]))\n",
    "\n",
    "train['Year']=train['PURCHASED_AT'].apply(lambda x : int(x[2:4]))\n",
    "\n",
    "train['Day']=train['PURCHASED_AT'].apply(lambda x : int(x[8:10]))"
   ]
  },
  {
   "cell_type": "code",
   "execution_count": 237,
   "metadata": {},
   "outputs": [],
   "source": [
    "test['Month']=test['PURCHASED_AT'].apply(lambda x : int(x[5:7]))\n",
    "\n",
    "test['Year']=test['PURCHASED_AT'].apply(lambda x : int(x[2:4]))\n",
    "\n",
    "test['Day']=test['PURCHASED_AT'].apply(lambda x : int(x[8:10]))"
   ]
  },
  {
   "cell_type": "code",
   "execution_count": 238,
   "metadata": {},
   "outputs": [],
   "source": [
    "extr['Month']=extr['PURCHASED_AT'].apply(lambda x : int(x[5:7]))\n",
    "\n",
    "extr['Year']=extr['PURCHASED_AT'].apply(lambda x : int(x[2:4]))\n",
    "\n",
    "extr['Day']=extr['PURCHASED_AT'].apply(lambda x : int(x[8:10]))"
   ]
  },
  {
   "cell_type": "code",
   "execution_count": 239,
   "metadata": {},
   "outputs": [],
   "source": [
    "def partsofmonths(m):\n",
    "    if m < 6:\n",
    "        return 1\n",
    "    elif m > 25:\n",
    "        return 2\n",
    "    else:\n",
    "        return 3\n",
    "\n",
    "train['partsM'] = train['Day'].apply(lambda x: partsofmonths(x))\n",
    "test['partsM'] = test['Day'].apply(lambda x: partsofmonths(x))\n",
    "extr['partsM'] = extr['Day'].apply(lambda x: partsofmonths(x))"
   ]
  },
  {
   "cell_type": "code",
   "execution_count": 240,
   "metadata": {},
   "outputs": [
    {
     "data": {
      "text/html": [
       "<div>\n",
       "<style scoped>\n",
       "    .dataframe tbody tr th:only-of-type {\n",
       "        vertical-align: middle;\n",
       "    }\n",
       "\n",
       "    .dataframe tbody tr th {\n",
       "        vertical-align: top;\n",
       "    }\n",
       "\n",
       "    .dataframe thead th {\n",
       "        text-align: right;\n",
       "    }\n",
       "</style>\n",
       "<table border=\"1\" class=\"dataframe\">\n",
       "  <thead>\n",
       "    <tr style=\"text-align: right;\">\n",
       "      <th></th>\n",
       "      <th>MERCHANT_CATEGORIZED_AT</th>\n",
       "      <th>MERCHANT_NAME</th>\n",
       "      <th>MERCHANT_CATEGORIZED_AS</th>\n",
       "      <th>PURCHASE_VALUE</th>\n",
       "      <th>PURCHASED_AT</th>\n",
       "      <th>IS_PURCHASE_PAID_VIA_MPESA_SEND_MONEY</th>\n",
       "      <th>USER_AGE</th>\n",
       "      <th>USER_GENDER</th>\n",
       "      <th>USER_HOUSEHOLD</th>\n",
       "      <th>USER_INCOME</th>\n",
       "      <th>USER_ID</th>\n",
       "      <th>Transaction_ID</th>\n",
       "      <th>Month</th>\n",
       "      <th>Year</th>\n",
       "      <th>Day</th>\n",
       "      <th>partsM</th>\n",
       "    </tr>\n",
       "  </thead>\n",
       "  <tbody>\n",
       "    <tr>\n",
       "      <th>0</th>\n",
       "      <td>2022-05-04 10:25:50.588042+00</td>\n",
       "      <td>UONSDA CHURCH  MOGERE MWAYO TITHE</td>\n",
       "      <td>11</td>\n",
       "      <td>1700</td>\n",
       "      <td>2022-05-04 13:56:00+00</td>\n",
       "      <td>False</td>\n",
       "      <td>25.0</td>\n",
       "      <td>Male</td>\n",
       "      <td>3</td>\n",
       "      <td>10000</td>\n",
       "      <td>ID_ZX4DCF4K</td>\n",
       "      <td>ID_04mk78fa</td>\n",
       "      <td>5</td>\n",
       "      <td>22</td>\n",
       "      <td>4</td>\n",
       "      <td>1</td>\n",
       "    </tr>\n",
       "    <tr>\n",
       "      <th>1</th>\n",
       "      <td>2021-10-25 16:18:38.586837+00</td>\n",
       "      <td>PARK N GO</td>\n",
       "      <td>13</td>\n",
       "      <td>100</td>\n",
       "      <td>2021-10-24 14:12:00+00</td>\n",
       "      <td>False</td>\n",
       "      <td>25.0</td>\n",
       "      <td>Female</td>\n",
       "      <td>4</td>\n",
       "      <td>90000</td>\n",
       "      <td>ID_U9WZMGJZ</td>\n",
       "      <td>ID_04xkfb07</td>\n",
       "      <td>10</td>\n",
       "      <td>21</td>\n",
       "      <td>24</td>\n",
       "      <td>3</td>\n",
       "    </tr>\n",
       "    <tr>\n",
       "      <th>2</th>\n",
       "      <td>2022-05-20 14:17:30.917297+00</td>\n",
       "      <td>SAFARICOM OFFERS  TUNUKIWA</td>\n",
       "      <td>2</td>\n",
       "      <td>20</td>\n",
       "      <td>2022-05-27 12:46:00+00</td>\n",
       "      <td>False</td>\n",
       "      <td>25.0</td>\n",
       "      <td>Male</td>\n",
       "      <td>3</td>\n",
       "      <td>10000</td>\n",
       "      <td>ID_ZX4DCF4K</td>\n",
       "      <td>ID_051urwuw</td>\n",
       "      <td>5</td>\n",
       "      <td>22</td>\n",
       "      <td>27</td>\n",
       "      <td>2</td>\n",
       "    </tr>\n",
       "    <tr>\n",
       "      <th>3</th>\n",
       "      <td>2022-04-12 15:59:14.139347+00</td>\n",
       "      <td>ZILLIONS CREDIT LIMITED</td>\n",
       "      <td>9</td>\n",
       "      <td>3800</td>\n",
       "      <td>2022-02-07 12:16:00+00</td>\n",
       "      <td>False</td>\n",
       "      <td>25.0</td>\n",
       "      <td>Male</td>\n",
       "      <td>5</td>\n",
       "      <td>252000</td>\n",
       "      <td>ID_3JA0MAFB</td>\n",
       "      <td>ID_0e1om7rz</td>\n",
       "      <td>2</td>\n",
       "      <td>22</td>\n",
       "      <td>7</td>\n",
       "      <td>3</td>\n",
       "    </tr>\n",
       "    <tr>\n",
       "      <th>4</th>\n",
       "      <td>2022-05-04 10:24:26.709045+00</td>\n",
       "      <td>MICHAEL MUSEMBI</td>\n",
       "      <td>1</td>\n",
       "      <td>60</td>\n",
       "      <td>2022-05-04 15:28:00+00</td>\n",
       "      <td>False</td>\n",
       "      <td>25.0</td>\n",
       "      <td>Male</td>\n",
       "      <td>3</td>\n",
       "      <td>10000</td>\n",
       "      <td>ID_ZX4DCF4K</td>\n",
       "      <td>ID_0kfcoawb</td>\n",
       "      <td>5</td>\n",
       "      <td>22</td>\n",
       "      <td>4</td>\n",
       "      <td>1</td>\n",
       "    </tr>\n",
       "    <tr>\n",
       "      <th>...</th>\n",
       "      <td>...</td>\n",
       "      <td>...</td>\n",
       "      <td>...</td>\n",
       "      <td>...</td>\n",
       "      <td>...</td>\n",
       "      <td>...</td>\n",
       "      <td>...</td>\n",
       "      <td>...</td>\n",
       "      <td>...</td>\n",
       "      <td>...</td>\n",
       "      <td>...</td>\n",
       "      <td>...</td>\n",
       "      <td>...</td>\n",
       "      <td>...</td>\n",
       "      <td>...</td>\n",
       "      <td>...</td>\n",
       "    </tr>\n",
       "    <tr>\n",
       "      <th>368</th>\n",
       "      <td>2021-08-06 11:28:03.723042+00</td>\n",
       "      <td>ONESMUS  GAKURU</td>\n",
       "      <td>10</td>\n",
       "      <td>500</td>\n",
       "      <td>2021-08-26 13:38:00+00</td>\n",
       "      <td>True</td>\n",
       "      <td>27.0</td>\n",
       "      <td>Female</td>\n",
       "      <td>2</td>\n",
       "      <td>8000</td>\n",
       "      <td>ID_L8QMYB09</td>\n",
       "      <td>ID_zr5x8yjs</td>\n",
       "      <td>8</td>\n",
       "      <td>21</td>\n",
       "      <td>26</td>\n",
       "      <td>2</td>\n",
       "    </tr>\n",
       "    <tr>\n",
       "      <th>369</th>\n",
       "      <td>2022-04-12 15:57:05.758311+00</td>\n",
       "      <td>GLADWELL MBURU</td>\n",
       "      <td>10</td>\n",
       "      <td>400</td>\n",
       "      <td>2022-04-03 08:39:00+00</td>\n",
       "      <td>True</td>\n",
       "      <td>25.0</td>\n",
       "      <td>Male</td>\n",
       "      <td>5</td>\n",
       "      <td>750000</td>\n",
       "      <td>ID_D8FOVVBB</td>\n",
       "      <td>ID_zty81sq8</td>\n",
       "      <td>4</td>\n",
       "      <td>22</td>\n",
       "      <td>3</td>\n",
       "      <td>1</td>\n",
       "    </tr>\n",
       "    <tr>\n",
       "      <th>370</th>\n",
       "      <td>2021-12-01 08:33:13.82067+00</td>\n",
       "      <td>SAFARICOM LIMITED</td>\n",
       "      <td>2</td>\n",
       "      <td>500</td>\n",
       "      <td>2021-01-15 15:40:00+00</td>\n",
       "      <td>False</td>\n",
       "      <td>25.0</td>\n",
       "      <td>Male</td>\n",
       "      <td>3</td>\n",
       "      <td>200000</td>\n",
       "      <td>ID_ECX9BS4A</td>\n",
       "      <td>ID_zx5ajeqe</td>\n",
       "      <td>1</td>\n",
       "      <td>21</td>\n",
       "      <td>15</td>\n",
       "      <td>3</td>\n",
       "    </tr>\n",
       "    <tr>\n",
       "      <th>371</th>\n",
       "      <td>2021-10-05 12:29:13.14963+00</td>\n",
       "      <td>EQUITY PAYBILL ACCOUNT</td>\n",
       "      <td>1</td>\n",
       "      <td>14000</td>\n",
       "      <td>2021-10-08 10:33:00+00</td>\n",
       "      <td>True</td>\n",
       "      <td>25.0</td>\n",
       "      <td>Female</td>\n",
       "      <td>4</td>\n",
       "      <td>90000</td>\n",
       "      <td>ID_U9WZMGJZ</td>\n",
       "      <td>ID_zx9hnvvb</td>\n",
       "      <td>10</td>\n",
       "      <td>21</td>\n",
       "      <td>8</td>\n",
       "      <td>3</td>\n",
       "    </tr>\n",
       "    <tr>\n",
       "      <th>372</th>\n",
       "      <td>2022-04-12 15:59:14.139347+00</td>\n",
       "      <td>RUBIS ENJOY UN AVENUE</td>\n",
       "      <td>6</td>\n",
       "      <td>60</td>\n",
       "      <td>2022-03-22 04:06:00+00</td>\n",
       "      <td>False</td>\n",
       "      <td>25.0</td>\n",
       "      <td>Male</td>\n",
       "      <td>5</td>\n",
       "      <td>252000</td>\n",
       "      <td>ID_3JA0MAFB</td>\n",
       "      <td>ID_zztijwt3</td>\n",
       "      <td>3</td>\n",
       "      <td>22</td>\n",
       "      <td>22</td>\n",
       "      <td>3</td>\n",
       "    </tr>\n",
       "  </tbody>\n",
       "</table>\n",
       "<p>373 rows × 16 columns</p>\n",
       "</div>"
      ],
      "text/plain": [
       "           MERCHANT_CATEGORIZED_AT                      MERCHANT_NAME  \\\n",
       "0    2022-05-04 10:25:50.588042+00  UONSDA CHURCH  MOGERE MWAYO TITHE   \n",
       "1    2021-10-25 16:18:38.586837+00                          PARK N GO   \n",
       "2    2022-05-20 14:17:30.917297+00         SAFARICOM OFFERS  TUNUKIWA   \n",
       "3    2022-04-12 15:59:14.139347+00            ZILLIONS CREDIT LIMITED   \n",
       "4    2022-05-04 10:24:26.709045+00                    MICHAEL MUSEMBI   \n",
       "..                             ...                                ...   \n",
       "368  2021-08-06 11:28:03.723042+00                    ONESMUS  GAKURU   \n",
       "369  2022-04-12 15:57:05.758311+00                     GLADWELL MBURU   \n",
       "370   2021-12-01 08:33:13.82067+00                  SAFARICOM LIMITED   \n",
       "371   2021-10-05 12:29:13.14963+00             EQUITY PAYBILL ACCOUNT   \n",
       "372  2022-04-12 15:59:14.139347+00              RUBIS ENJOY UN AVENUE   \n",
       "\n",
       "     MERCHANT_CATEGORIZED_AS  PURCHASE_VALUE            PURCHASED_AT  \\\n",
       "0                         11            1700  2022-05-04 13:56:00+00   \n",
       "1                         13             100  2021-10-24 14:12:00+00   \n",
       "2                          2              20  2022-05-27 12:46:00+00   \n",
       "3                          9            3800  2022-02-07 12:16:00+00   \n",
       "4                          1              60  2022-05-04 15:28:00+00   \n",
       "..                       ...             ...                     ...   \n",
       "368                       10             500  2021-08-26 13:38:00+00   \n",
       "369                       10             400  2022-04-03 08:39:00+00   \n",
       "370                        2             500  2021-01-15 15:40:00+00   \n",
       "371                        1           14000  2021-10-08 10:33:00+00   \n",
       "372                        6              60  2022-03-22 04:06:00+00   \n",
       "\n",
       "     IS_PURCHASE_PAID_VIA_MPESA_SEND_MONEY  USER_AGE USER_GENDER  \\\n",
       "0                                    False      25.0        Male   \n",
       "1                                    False      25.0      Female   \n",
       "2                                    False      25.0        Male   \n",
       "3                                    False      25.0        Male   \n",
       "4                                    False      25.0        Male   \n",
       "..                                     ...       ...         ...   \n",
       "368                                   True      27.0      Female   \n",
       "369                                   True      25.0        Male   \n",
       "370                                  False      25.0        Male   \n",
       "371                                   True      25.0      Female   \n",
       "372                                  False      25.0        Male   \n",
       "\n",
       "     USER_HOUSEHOLD  USER_INCOME      USER_ID Transaction_ID  Month  Year  \\\n",
       "0                 3        10000  ID_ZX4DCF4K    ID_04mk78fa      5    22   \n",
       "1                 4        90000  ID_U9WZMGJZ    ID_04xkfb07     10    21   \n",
       "2                 3        10000  ID_ZX4DCF4K    ID_051urwuw      5    22   \n",
       "3                 5       252000  ID_3JA0MAFB    ID_0e1om7rz      2    22   \n",
       "4                 3        10000  ID_ZX4DCF4K    ID_0kfcoawb      5    22   \n",
       "..              ...          ...          ...            ...    ...   ...   \n",
       "368               2         8000  ID_L8QMYB09    ID_zr5x8yjs      8    21   \n",
       "369               5       750000  ID_D8FOVVBB    ID_zty81sq8      4    22   \n",
       "370               3       200000  ID_ECX9BS4A    ID_zx5ajeqe      1    21   \n",
       "371               4        90000  ID_U9WZMGJZ    ID_zx9hnvvb     10    21   \n",
       "372               5       252000  ID_3JA0MAFB    ID_zztijwt3      3    22   \n",
       "\n",
       "     Day  partsM  \n",
       "0      4       1  \n",
       "1     24       3  \n",
       "2     27       2  \n",
       "3      7       3  \n",
       "4      4       1  \n",
       "..   ...     ...  \n",
       "368   26       2  \n",
       "369    3       1  \n",
       "370   15       3  \n",
       "371    8       3  \n",
       "372   22       3  \n",
       "\n",
       "[373 rows x 16 columns]"
      ]
     },
     "execution_count": 240,
     "metadata": {},
     "output_type": "execute_result"
    }
   ],
   "source": [
    "train"
   ]
  },
  {
   "cell_type": "markdown",
   "metadata": {
    "id": "_-hQBD7R1gF1"
   },
   "source": [
    "### Drop unnecessary columns"
   ]
  },
  {
   "cell_type": "markdown",
   "metadata": {
    "id": "b6Smz5ogrxFt"
   },
   "source": [
    "We can also drop unnecessary categorical columns as we're currently not interested in when the purchases were made or when they were categorized."
   ]
  },
  {
   "cell_type": "markdown",
   "metadata": {},
   "source": [
    "# Aditional feature engineering"
   ]
  },
  {
   "cell_type": "markdown",
   "metadata": {},
   "source": [
    "    I am gonna try to classify people to rich and normal also poor"
   ]
  },
  {
   "cell_type": "code",
   "execution_count": 241,
   "metadata": {},
   "outputs": [
    {
     "data": {
      "text/plain": [
       "<AxesSubplot:>"
      ]
     },
     "execution_count": 241,
     "metadata": {},
     "output_type": "execute_result"
    },
    {
     "data": {
      "image/png": "[encoded data removed]",
      "text/plain": [
       "<Figure size 432x288 with 1 Axes>"
      ]
     },
     "metadata": {
      "needs_background": "light"
     },
     "output_type": "display_data"
    }
   ],
   "source": [
    "train.boxplot(['USER_INCOME'])"
   ]
  },
  {
   "cell_type": "code",
   "execution_count": 242,
   "metadata": {},
   "outputs": [
    {
     "data": {
      "text/plain": [
       "<AxesSubplot:>"
      ]
     },
     "execution_count": 242,
     "metadata": {},
     "output_type": "execute_result"
    },
    {
     "data": {
      "image/png": "[encoded data removed]",
      "text/plain": [
       "<Figure size 432x288 with 1 Axes>"
      ]
     },
     "metadata": {
      "needs_background": "light"
     },
     "output_type": "display_data"
    }
   ],
   "source": [
    "test.boxplot(['USER_INCOME'])"
   ]
  },
  {
   "cell_type": "code",
   "execution_count": 243,
   "metadata": {},
   "outputs": [],
   "source": [
    "def socialclass(inc):\n",
    "    if inc>200000:\n",
    "        return 1\n",
    "    elif inc<8000:\n",
    "        return 3\n",
    "    else:\n",
    "        return 2"
   ]
  },
  {
   "cell_type": "code",
   "execution_count": 244,
   "metadata": {},
   "outputs": [],
   "source": [
    "train['SocialClass']=train['USER_INCOME'].apply(lambda x: socialclass(x))\n",
    "test['SocialClass']=test['USER_INCOME'].apply(lambda x: socialclass(x))\n",
    "extr['SocialClass']=extr['USER_INCOME'].apply(lambda x: socialclass(x))"
   ]
  },
  {
   "cell_type": "code",
   "execution_count": 245,
   "metadata": {},
   "outputs": [],
   "source": [
    "def purchaseImportance(pr):\n",
    "    if pr<20000:\n",
    "        return 0\n",
    "    elif pr>80000:\n",
    "        return 2\n",
    "    else:\n",
    "        return 1\n",
    "train['purchaseIMP']=train['PURCHASE_VALUE'].apply(lambda x:purchaseImportance(x))\n",
    "test['purchaseIMP']=test['PURCHASE_VALUE'].apply(lambda x:purchaseImportance(x))\n",
    "extr['purchaseIMP']=extr['PURCHASE_VALUE'].apply(lambda x:purchaseImportance(x))"
   ]
  },
  {
   "cell_type": "code",
   "execution_count": 246,
   "metadata": {},
   "outputs": [
    {
     "data": {
      "text/plain": [
       "array([3, 4, 5, 2, 1, 7, 6], dtype=int64)"
      ]
     },
     "execution_count": 246,
     "metadata": {},
     "output_type": "execute_result"
    }
   ],
   "source": [
    "train['USER_HOUSEHOLD'].unique()"
   ]
  },
  {
   "cell_type": "code",
   "execution_count": 247,
   "metadata": {},
   "outputs": [
    {
     "data": {
      "text/plain": [
       "array([5, 1, 2, 3, 4, 7, 6, 9, 8], dtype=int64)"
      ]
     },
     "execution_count": 247,
     "metadata": {},
     "output_type": "execute_result"
    }
   ],
   "source": [
    "test['USER_HOUSEHOLD'].unique()"
   ]
  },
  {
   "cell_type": "code",
   "execution_count": 248,
   "metadata": {},
   "outputs": [
    {
     "data": {
      "text/plain": [
       "array([1, 4, 2, 6, 3, 9, 5, 7, 8], dtype=int64)"
      ]
     },
     "execution_count": 248,
     "metadata": {},
     "output_type": "execute_result"
    }
   ],
   "source": [
    "extr['USER_HOUSEHOLD'].unique()"
   ]
  },
  {
   "cell_type": "code",
   "execution_count": 249,
   "metadata": {},
   "outputs": [
    {
     "data": {
      "text/plain": [
       "<AxesSubplot:>"
      ]
     },
     "execution_count": 249,
     "metadata": {},
     "output_type": "execute_result"
    },
    {
     "data": {
      "image/png": "[encoded data removed]",
      "text/plain": [
       "<Figure size 3600x1440 with 2 Axes>"
      ]
     },
     "metadata": {
      "needs_background": "light"
     },
     "output_type": "display_data"
    }
   ],
   "source": [
    "corrmat =train.corr()\n",
    "f, ax = plt.subplots(figsize=(50,20))\n",
    "sns.heatmap(corrmat, square=True, annot=True,linewidth=0.8, cmap='RdBu')"
   ]
  },
  {
   "cell_type": "code",
   "execution_count": 250,
   "metadata": {
    "id": "ySpFfwxJr4D7"
   },
   "outputs": [],
   "source": [
    "train = train.drop(['MERCHANT_CATEGORIZED_AT','PURCHASED_AT','USER_ID','USER_INCOME','MERCHANT_NAME','Transaction_ID'], axis=1)\n",
    "test = test.drop(['MERCHANT_CATEGORIZED_AT','PURCHASED_AT','USER_ID','MERCHANT_NAME'], axis=1)\n",
    "extr = extr.drop(['MERCHANT_CATEGORIZED_AT','PURCHASED_AT','USER_ID','MERCHANT_NAME','MERCHANT_CATEGORIZED_AS'], axis=1)"
   ]
  },
  {
   "cell_type": "code",
   "execution_count": 251,
   "metadata": {},
   "outputs": [
    {
     "data": {
      "text/html": [
       "<div>\n",
       "<style scoped>\n",
       "    .dataframe tbody tr th:only-of-type {\n",
       "        vertical-align: middle;\n",
       "    }\n",
       "\n",
       "    .dataframe tbody tr th {\n",
       "        vertical-align: top;\n",
       "    }\n",
       "\n",
       "    .dataframe thead th {\n",
       "        text-align: right;\n",
       "    }\n",
       "</style>\n",
       "<table border=\"1\" class=\"dataframe\">\n",
       "  <thead>\n",
       "    <tr style=\"text-align: right;\">\n",
       "      <th></th>\n",
       "      <th>PURCHASE_VALUE</th>\n",
       "      <th>IS_PURCHASE_PAID_VIA_MPESA_SEND_MONEY</th>\n",
       "      <th>USER_AGE</th>\n",
       "      <th>USER_GENDER</th>\n",
       "      <th>USER_HOUSEHOLD</th>\n",
       "      <th>USER_INCOME</th>\n",
       "      <th>Transaction_ID</th>\n",
       "      <th>Month</th>\n",
       "      <th>Year</th>\n",
       "      <th>Day</th>\n",
       "      <th>partsM</th>\n",
       "      <th>SocialClass</th>\n",
       "      <th>purchaseIMP</th>\n",
       "    </tr>\n",
       "  </thead>\n",
       "  <tbody>\n",
       "    <tr>\n",
       "      <th>0</th>\n",
       "      <td>150000</td>\n",
       "      <td>True</td>\n",
       "      <td>25.0</td>\n",
       "      <td>Male</td>\n",
       "      <td>5</td>\n",
       "      <td>150000</td>\n",
       "      <td>ID_00x9h2yx</td>\n",
       "      <td>5</td>\n",
       "      <td>22</td>\n",
       "      <td>5</td>\n",
       "      <td>1</td>\n",
       "      <td>2</td>\n",
       "      <td>2</td>\n",
       "    </tr>\n",
       "    <tr>\n",
       "      <th>1</th>\n",
       "      <td>7394</td>\n",
       "      <td>False</td>\n",
       "      <td>25.0</td>\n",
       "      <td>Female</td>\n",
       "      <td>1</td>\n",
       "      <td>10000</td>\n",
       "      <td>ID_01db594f</td>\n",
       "      <td>10</td>\n",
       "      <td>19</td>\n",
       "      <td>5</td>\n",
       "      <td>1</td>\n",
       "      <td>2</td>\n",
       "      <td>0</td>\n",
       "    </tr>\n",
       "    <tr>\n",
       "      <th>2</th>\n",
       "      <td>200</td>\n",
       "      <td>False</td>\n",
       "      <td>25.0</td>\n",
       "      <td>Female</td>\n",
       "      <td>1</td>\n",
       "      <td>85000</td>\n",
       "      <td>ID_07pm99no</td>\n",
       "      <td>11</td>\n",
       "      <td>21</td>\n",
       "      <td>25</td>\n",
       "      <td>3</td>\n",
       "      <td>2</td>\n",
       "      <td>0</td>\n",
       "    </tr>\n",
       "    <tr>\n",
       "      <th>3</th>\n",
       "      <td>50</td>\n",
       "      <td>False</td>\n",
       "      <td>25.0</td>\n",
       "      <td>Male</td>\n",
       "      <td>2</td>\n",
       "      <td>10000</td>\n",
       "      <td>ID_09jryhkd</td>\n",
       "      <td>4</td>\n",
       "      <td>22</td>\n",
       "      <td>11</td>\n",
       "      <td>3</td>\n",
       "      <td>2</td>\n",
       "      <td>0</td>\n",
       "    </tr>\n",
       "    <tr>\n",
       "      <th>4</th>\n",
       "      <td>10000</td>\n",
       "      <td>False</td>\n",
       "      <td>25.0</td>\n",
       "      <td>Male</td>\n",
       "      <td>3</td>\n",
       "      <td>10000</td>\n",
       "      <td>ID_0ccv924c</td>\n",
       "      <td>5</td>\n",
       "      <td>22</td>\n",
       "      <td>4</td>\n",
       "      <td>1</td>\n",
       "      <td>2</td>\n",
       "      <td>0</td>\n",
       "    </tr>\n",
       "    <tr>\n",
       "      <th>...</th>\n",
       "      <td>...</td>\n",
       "      <td>...</td>\n",
       "      <td>...</td>\n",
       "      <td>...</td>\n",
       "      <td>...</td>\n",
       "      <td>...</td>\n",
       "      <td>...</td>\n",
       "      <td>...</td>\n",
       "      <td>...</td>\n",
       "      <td>...</td>\n",
       "      <td>...</td>\n",
       "      <td>...</td>\n",
       "      <td>...</td>\n",
       "    </tr>\n",
       "    <tr>\n",
       "      <th>553</th>\n",
       "      <td>6606</td>\n",
       "      <td>False</td>\n",
       "      <td>25.0</td>\n",
       "      <td>Male</td>\n",
       "      <td>3</td>\n",
       "      <td>200000</td>\n",
       "      <td>ID_zvole537</td>\n",
       "      <td>11</td>\n",
       "      <td>21</td>\n",
       "      <td>27</td>\n",
       "      <td>2</td>\n",
       "      <td>2</td>\n",
       "      <td>0</td>\n",
       "    </tr>\n",
       "    <tr>\n",
       "      <th>554</th>\n",
       "      <td>928</td>\n",
       "      <td>True</td>\n",
       "      <td>25.0</td>\n",
       "      <td>Male</td>\n",
       "      <td>5</td>\n",
       "      <td>252000</td>\n",
       "      <td>ID_zy4igt1w</td>\n",
       "      <td>1</td>\n",
       "      <td>22</td>\n",
       "      <td>25</td>\n",
       "      <td>3</td>\n",
       "      <td>1</td>\n",
       "      <td>0</td>\n",
       "    </tr>\n",
       "    <tr>\n",
       "      <th>555</th>\n",
       "      <td>30</td>\n",
       "      <td>False</td>\n",
       "      <td>25.0</td>\n",
       "      <td>Male</td>\n",
       "      <td>5</td>\n",
       "      <td>252000</td>\n",
       "      <td>ID_zy4urqmq</td>\n",
       "      <td>2</td>\n",
       "      <td>22</td>\n",
       "      <td>10</td>\n",
       "      <td>3</td>\n",
       "      <td>1</td>\n",
       "      <td>0</td>\n",
       "    </tr>\n",
       "    <tr>\n",
       "      <th>556</th>\n",
       "      <td>50000</td>\n",
       "      <td>True</td>\n",
       "      <td>25.0</td>\n",
       "      <td>Female</td>\n",
       "      <td>3</td>\n",
       "      <td>85000</td>\n",
       "      <td>ID_zym0pkxl</td>\n",
       "      <td>9</td>\n",
       "      <td>19</td>\n",
       "      <td>7</td>\n",
       "      <td>3</td>\n",
       "      <td>2</td>\n",
       "      <td>1</td>\n",
       "    </tr>\n",
       "    <tr>\n",
       "      <th>557</th>\n",
       "      <td>16600</td>\n",
       "      <td>False</td>\n",
       "      <td>25.0</td>\n",
       "      <td>Male</td>\n",
       "      <td>5</td>\n",
       "      <td>252000</td>\n",
       "      <td>ID_zz7zds1s</td>\n",
       "      <td>1</td>\n",
       "      <td>22</td>\n",
       "      <td>25</td>\n",
       "      <td>3</td>\n",
       "      <td>1</td>\n",
       "      <td>0</td>\n",
       "    </tr>\n",
       "  </tbody>\n",
       "</table>\n",
       "<p>558 rows × 13 columns</p>\n",
       "</div>"
      ],
      "text/plain": [
       "     PURCHASE_VALUE  IS_PURCHASE_PAID_VIA_MPESA_SEND_MONEY  USER_AGE  \\\n",
       "0            150000                                   True      25.0   \n",
       "1              7394                                  False      25.0   \n",
       "2               200                                  False      25.0   \n",
       "3                50                                  False      25.0   \n",
       "4             10000                                  False      25.0   \n",
       "..              ...                                    ...       ...   \n",
       "553            6606                                  False      25.0   \n",
       "554             928                                   True      25.0   \n",
       "555              30                                  False      25.0   \n",
       "556           50000                                   True      25.0   \n",
       "557           16600                                  False      25.0   \n",
       "\n",
       "    USER_GENDER  USER_HOUSEHOLD  USER_INCOME Transaction_ID  Month  Year  Day  \\\n",
       "0          Male               5       150000    ID_00x9h2yx      5    22    5   \n",
       "1        Female               1        10000    ID_01db594f     10    19    5   \n",
       "2        Female               1        85000    ID_07pm99no     11    21   25   \n",
       "3          Male               2        10000    ID_09jryhkd      4    22   11   \n",
       "4          Male               3        10000    ID_0ccv924c      5    22    4   \n",
       "..          ...             ...          ...            ...    ...   ...  ...   \n",
       "553        Male               3       200000    ID_zvole537     11    21   27   \n",
       "554        Male               5       252000    ID_zy4igt1w      1    22   25   \n",
       "555        Male               5       252000    ID_zy4urqmq      2    22   10   \n",
       "556      Female               3        85000    ID_zym0pkxl      9    19    7   \n",
       "557        Male               5       252000    ID_zz7zds1s      1    22   25   \n",
       "\n",
       "     partsM  SocialClass  purchaseIMP  \n",
       "0         1            2            2  \n",
       "1         1            2            0  \n",
       "2         3            2            0  \n",
       "3         3            2            0  \n",
       "4         1            2            0  \n",
       "..      ...          ...          ...  \n",
       "553       2            2            0  \n",
       "554       3            1            0  \n",
       "555       3            1            0  \n",
       "556       3            2            1  \n",
       "557       3            1            0  \n",
       "\n",
       "[558 rows x 13 columns]"
      ]
     },
     "execution_count": 251,
     "metadata": {},
     "output_type": "execute_result"
    }
   ],
   "source": [
    "test"
   ]
  },
  {
   "cell_type": "code",
   "execution_count": 252,
   "metadata": {},
   "outputs": [
    {
     "data": {
      "text/html": [
       "<div>\n",
       "<style scoped>\n",
       "    .dataframe tbody tr th:only-of-type {\n",
       "        vertical-align: middle;\n",
       "    }\n",
       "\n",
       "    .dataframe tbody tr th {\n",
       "        vertical-align: top;\n",
       "    }\n",
       "\n",
       "    .dataframe thead th {\n",
       "        text-align: right;\n",
       "    }\n",
       "</style>\n",
       "<table border=\"1\" class=\"dataframe\">\n",
       "  <thead>\n",
       "    <tr style=\"text-align: right;\">\n",
       "      <th></th>\n",
       "      <th>PURCHASE_VALUE</th>\n",
       "      <th>IS_PURCHASE_PAID_VIA_MPESA_SEND_MONEY</th>\n",
       "      <th>USER_AGE</th>\n",
       "      <th>USER_GENDER</th>\n",
       "      <th>USER_HOUSEHOLD</th>\n",
       "      <th>USER_INCOME</th>\n",
       "      <th>Transaction_ID</th>\n",
       "      <th>Month</th>\n",
       "      <th>Year</th>\n",
       "      <th>Day</th>\n",
       "      <th>partsM</th>\n",
       "      <th>SocialClass</th>\n",
       "      <th>purchaseIMP</th>\n",
       "    </tr>\n",
       "  </thead>\n",
       "  <tbody>\n",
       "    <tr>\n",
       "      <th>0</th>\n",
       "      <td>20</td>\n",
       "      <td>False</td>\n",
       "      <td>27.0</td>\n",
       "      <td>Male</td>\n",
       "      <td>1</td>\n",
       "      <td>10000</td>\n",
       "      <td>ID_v13grrw3</td>\n",
       "      <td>3</td>\n",
       "      <td>21</td>\n",
       "      <td>22</td>\n",
       "      <td>3</td>\n",
       "      <td>2</td>\n",
       "      <td>0</td>\n",
       "    </tr>\n",
       "    <tr>\n",
       "      <th>1</th>\n",
       "      <td>1</td>\n",
       "      <td>False</td>\n",
       "      <td>27.0</td>\n",
       "      <td>Male</td>\n",
       "      <td>1</td>\n",
       "      <td>10000</td>\n",
       "      <td>ID_rgne8ij5</td>\n",
       "      <td>7</td>\n",
       "      <td>21</td>\n",
       "      <td>5</td>\n",
       "      <td>1</td>\n",
       "      <td>2</td>\n",
       "      <td>0</td>\n",
       "    </tr>\n",
       "    <tr>\n",
       "      <th>2</th>\n",
       "      <td>1500</td>\n",
       "      <td>False</td>\n",
       "      <td>27.0</td>\n",
       "      <td>Male</td>\n",
       "      <td>1</td>\n",
       "      <td>10000</td>\n",
       "      <td>ID_4i2b28b6</td>\n",
       "      <td>6</td>\n",
       "      <td>21</td>\n",
       "      <td>21</td>\n",
       "      <td>3</td>\n",
       "      <td>2</td>\n",
       "      <td>0</td>\n",
       "    </tr>\n",
       "    <tr>\n",
       "      <th>3</th>\n",
       "      <td>1500</td>\n",
       "      <td>False</td>\n",
       "      <td>27.0</td>\n",
       "      <td>Male</td>\n",
       "      <td>1</td>\n",
       "      <td>10000</td>\n",
       "      <td>ID_6dvi32yc</td>\n",
       "      <td>4</td>\n",
       "      <td>21</td>\n",
       "      <td>22</td>\n",
       "      <td>3</td>\n",
       "      <td>2</td>\n",
       "      <td>0</td>\n",
       "    </tr>\n",
       "    <tr>\n",
       "      <th>4</th>\n",
       "      <td>1</td>\n",
       "      <td>False</td>\n",
       "      <td>27.0</td>\n",
       "      <td>Male</td>\n",
       "      <td>1</td>\n",
       "      <td>10000</td>\n",
       "      <td>ID_sfk1yxbm</td>\n",
       "      <td>7</td>\n",
       "      <td>21</td>\n",
       "      <td>29</td>\n",
       "      <td>2</td>\n",
       "      <td>2</td>\n",
       "      <td>0</td>\n",
       "    </tr>\n",
       "    <tr>\n",
       "      <th>...</th>\n",
       "      <td>...</td>\n",
       "      <td>...</td>\n",
       "      <td>...</td>\n",
       "      <td>...</td>\n",
       "      <td>...</td>\n",
       "      <td>...</td>\n",
       "      <td>...</td>\n",
       "      <td>...</td>\n",
       "      <td>...</td>\n",
       "      <td>...</td>\n",
       "      <td>...</td>\n",
       "      <td>...</td>\n",
       "      <td>...</td>\n",
       "    </tr>\n",
       "    <tr>\n",
       "      <th>9995</th>\n",
       "      <td>30</td>\n",
       "      <td>False</td>\n",
       "      <td>27.0</td>\n",
       "      <td>Male</td>\n",
       "      <td>1</td>\n",
       "      <td>5000</td>\n",
       "      <td>ID_6arln23v</td>\n",
       "      <td>4</td>\n",
       "      <td>22</td>\n",
       "      <td>9</td>\n",
       "      <td>3</td>\n",
       "      <td>3</td>\n",
       "      <td>0</td>\n",
       "    </tr>\n",
       "    <tr>\n",
       "      <th>9996</th>\n",
       "      <td>100</td>\n",
       "      <td>False</td>\n",
       "      <td>27.0</td>\n",
       "      <td>Male</td>\n",
       "      <td>1</td>\n",
       "      <td>5000</td>\n",
       "      <td>ID_msuxva0z</td>\n",
       "      <td>4</td>\n",
       "      <td>22</td>\n",
       "      <td>9</td>\n",
       "      <td>3</td>\n",
       "      <td>3</td>\n",
       "      <td>0</td>\n",
       "    </tr>\n",
       "    <tr>\n",
       "      <th>9997</th>\n",
       "      <td>20</td>\n",
       "      <td>False</td>\n",
       "      <td>27.0</td>\n",
       "      <td>Male</td>\n",
       "      <td>1</td>\n",
       "      <td>5000</td>\n",
       "      <td>ID_flro17hp</td>\n",
       "      <td>4</td>\n",
       "      <td>22</td>\n",
       "      <td>10</td>\n",
       "      <td>3</td>\n",
       "      <td>3</td>\n",
       "      <td>0</td>\n",
       "    </tr>\n",
       "    <tr>\n",
       "      <th>9998</th>\n",
       "      <td>105300</td>\n",
       "      <td>False</td>\n",
       "      <td>27.0</td>\n",
       "      <td>Female</td>\n",
       "      <td>1</td>\n",
       "      <td>35000</td>\n",
       "      <td>ID_bb2ghfuy</td>\n",
       "      <td>12</td>\n",
       "      <td>21</td>\n",
       "      <td>29</td>\n",
       "      <td>2</td>\n",
       "      <td>2</td>\n",
       "      <td>2</td>\n",
       "    </tr>\n",
       "    <tr>\n",
       "      <th>9999</th>\n",
       "      <td>100</td>\n",
       "      <td>False</td>\n",
       "      <td>23.0</td>\n",
       "      <td>Male</td>\n",
       "      <td>1</td>\n",
       "      <td>21500</td>\n",
       "      <td>ID_cxhvhlnw</td>\n",
       "      <td>8</td>\n",
       "      <td>21</td>\n",
       "      <td>27</td>\n",
       "      <td>2</td>\n",
       "      <td>2</td>\n",
       "      <td>0</td>\n",
       "    </tr>\n",
       "  </tbody>\n",
       "</table>\n",
       "<p>10000 rows × 13 columns</p>\n",
       "</div>"
      ],
      "text/plain": [
       "      PURCHASE_VALUE  IS_PURCHASE_PAID_VIA_MPESA_SEND_MONEY  USER_AGE  \\\n",
       "0                 20                                  False      27.0   \n",
       "1                  1                                  False      27.0   \n",
       "2               1500                                  False      27.0   \n",
       "3               1500                                  False      27.0   \n",
       "4                  1                                  False      27.0   \n",
       "...              ...                                    ...       ...   \n",
       "9995              30                                  False      27.0   \n",
       "9996             100                                  False      27.0   \n",
       "9997              20                                  False      27.0   \n",
       "9998          105300                                  False      27.0   \n",
       "9999             100                                  False      23.0   \n",
       "\n",
       "     USER_GENDER  USER_HOUSEHOLD  USER_INCOME Transaction_ID  Month  Year  \\\n",
       "0           Male               1        10000    ID_v13grrw3      3    21   \n",
       "1           Male               1        10000    ID_rgne8ij5      7    21   \n",
       "2           Male               1        10000    ID_4i2b28b6      6    21   \n",
       "3           Male               1        10000    ID_6dvi32yc      4    21   \n",
       "4           Male               1        10000    ID_sfk1yxbm      7    21   \n",
       "...          ...             ...          ...            ...    ...   ...   \n",
       "9995        Male               1         5000    ID_6arln23v      4    22   \n",
       "9996        Male               1         5000    ID_msuxva0z      4    22   \n",
       "9997        Male               1         5000    ID_flro17hp      4    22   \n",
       "9998      Female               1        35000    ID_bb2ghfuy     12    21   \n",
       "9999        Male               1        21500    ID_cxhvhlnw      8    21   \n",
       "\n",
       "      Day  partsM  SocialClass  purchaseIMP  \n",
       "0      22       3            2            0  \n",
       "1       5       1            2            0  \n",
       "2      21       3            2            0  \n",
       "3      22       3            2            0  \n",
       "4      29       2            2            0  \n",
       "...   ...     ...          ...          ...  \n",
       "9995    9       3            3            0  \n",
       "9996    9       3            3            0  \n",
       "9997   10       3            3            0  \n",
       "9998   29       2            2            2  \n",
       "9999   27       2            2            0  \n",
       "\n",
       "[10000 rows x 13 columns]"
      ]
     },
     "execution_count": 252,
     "metadata": {},
     "output_type": "execute_result"
    }
   ],
   "source": [
    "extr"
   ]
  },
  {
   "cell_type": "markdown",
   "metadata": {
    "id": "xRQDXQho1lBg"
   },
   "source": [
    "### Convert Boolean to Binary"
   ]
  },
  {
   "cell_type": "code",
   "execution_count": 253,
   "metadata": {
    "scrolled": true
   },
   "outputs": [],
   "source": [
    "#train=train.drop('PURCHASE_VALUE',axis=1)\n",
    "#test=test.drop('PURCHASE_VALUE',axis=1)"
   ]
  },
  {
   "cell_type": "markdown",
   "metadata": {
    "id": "MX2U_Uc4sGB1"
   },
   "source": [
    "Now we convert boolean entries to binary."
   ]
  },
  {
   "cell_type": "code",
   "execution_count": 254,
   "metadata": {
    "id": "vQ0GOPUdsJlI"
   },
   "outputs": [],
   "source": [
    "# Based on our data set, this function converts boolean to binary entries\n",
    "def create_binary_cols(content):\n",
    "    if content == False:\n",
    "        content = 0\n",
    "    elif content == True:\n",
    "        content = 1\n",
    "    elif content == 'N':\n",
    "        content = 0\n",
    "    elif content == 'Y':\n",
    "        content = 1\n",
    "    elif content == 'Male':\n",
    "        content = 0\n",
    "    elif content == 'Female':\n",
    "        content = 1\n",
    "    return content"
   ]
  },
  {
   "cell_type": "code",
   "execution_count": 255,
   "metadata": {
    "id": "WV7llutosRsK"
   },
   "outputs": [],
   "source": [
    "# Gender column convert:\n",
    "train['USER_GENDER'] = train['USER_GENDER'].apply(create_binary_cols)\n",
    "test['USER_GENDER'] = test['USER_GENDER'].apply(create_binary_cols)\n",
    "extr['USER_GENDER'] = extr['USER_GENDER'].apply(create_binary_cols)\n",
    "# Is_purchase_paid_via_mpesa_send_money column convert:\n",
    "train['IS_PURCHASE_PAID_VIA_MPESA_SEND_MONEY'] = train['IS_PURCHASE_PAID_VIA_MPESA_SEND_MONEY'].apply(create_binary_cols)\n",
    "test['IS_PURCHASE_PAID_VIA_MPESA_SEND_MONEY'] = test['IS_PURCHASE_PAID_VIA_MPESA_SEND_MONEY'].apply(create_binary_cols)\n",
    "extr['IS_PURCHASE_PAID_VIA_MPESA_SEND_MONEY'] = extr['IS_PURCHASE_PAID_VIA_MPESA_SEND_MONEY'].apply(create_binary_cols)"
   ]
  },
  {
   "cell_type": "markdown",
   "metadata": {
    "id": "4ofAVhkhuarx"
   },
   "source": [
    "## 3. Data preparation for machine learning\n",
    "\n",
    "Before you train the model for prediction, you need to perform data [cleaning](https://www.dataquest.io/blog/machine-learning-preparing-data/) and [preprocessing](https://towardsdatascience.com/data-preprocessing-concepts-fa946d11c825). This is a very important step; your model will not perform well without these steps.\n",
    "\n",
    "The first step is to separate the independent variables and target() from the training data. Then transform the target values from the object data type into numerical.\n"
   ]
  },
  {
   "cell_type": "code",
   "execution_count": 256,
   "metadata": {
    "id": "v0Y0uKWguZ9n"
   },
   "outputs": [],
   "source": [
    "# Separate the features from the target in the training data\n",
    "X = train.drop([\"MERCHANT_CATEGORIZED_AS\"], axis=1)\n",
    "y = train[\"MERCHANT_CATEGORIZED_AS\"]"
   ]
  },
  {
   "cell_type": "code",
   "execution_count": 257,
   "metadata": {},
   "outputs": [
    {
     "data": {
      "text/html": [
       "<div>\n",
       "<style scoped>\n",
       "    .dataframe tbody tr th:only-of-type {\n",
       "        vertical-align: middle;\n",
       "    }\n",
       "\n",
       "    .dataframe tbody tr th {\n",
       "        vertical-align: top;\n",
       "    }\n",
       "\n",
       "    .dataframe thead th {\n",
       "        text-align: right;\n",
       "    }\n",
       "</style>\n",
       "<table border=\"1\" class=\"dataframe\">\n",
       "  <thead>\n",
       "    <tr style=\"text-align: right;\">\n",
       "      <th></th>\n",
       "      <th>PURCHASE_VALUE</th>\n",
       "      <th>IS_PURCHASE_PAID_VIA_MPESA_SEND_MONEY</th>\n",
       "      <th>USER_AGE</th>\n",
       "      <th>USER_GENDER</th>\n",
       "      <th>USER_HOUSEHOLD</th>\n",
       "      <th>Month</th>\n",
       "      <th>Year</th>\n",
       "      <th>Day</th>\n",
       "      <th>partsM</th>\n",
       "      <th>SocialClass</th>\n",
       "      <th>purchaseIMP</th>\n",
       "    </tr>\n",
       "  </thead>\n",
       "  <tbody>\n",
       "    <tr>\n",
       "      <th>0</th>\n",
       "      <td>1700</td>\n",
       "      <td>0</td>\n",
       "      <td>25.0</td>\n",
       "      <td>0</td>\n",
       "      <td>3</td>\n",
       "      <td>5</td>\n",
       "      <td>22</td>\n",
       "      <td>4</td>\n",
       "      <td>1</td>\n",
       "      <td>2</td>\n",
       "      <td>0</td>\n",
       "    </tr>\n",
       "    <tr>\n",
       "      <th>1</th>\n",
       "      <td>100</td>\n",
       "      <td>0</td>\n",
       "      <td>25.0</td>\n",
       "      <td>1</td>\n",
       "      <td>4</td>\n",
       "      <td>10</td>\n",
       "      <td>21</td>\n",
       "      <td>24</td>\n",
       "      <td>3</td>\n",
       "      <td>2</td>\n",
       "      <td>0</td>\n",
       "    </tr>\n",
       "    <tr>\n",
       "      <th>2</th>\n",
       "      <td>20</td>\n",
       "      <td>0</td>\n",
       "      <td>25.0</td>\n",
       "      <td>0</td>\n",
       "      <td>3</td>\n",
       "      <td>5</td>\n",
       "      <td>22</td>\n",
       "      <td>27</td>\n",
       "      <td>2</td>\n",
       "      <td>2</td>\n",
       "      <td>0</td>\n",
       "    </tr>\n",
       "    <tr>\n",
       "      <th>3</th>\n",
       "      <td>3800</td>\n",
       "      <td>0</td>\n",
       "      <td>25.0</td>\n",
       "      <td>0</td>\n",
       "      <td>5</td>\n",
       "      <td>2</td>\n",
       "      <td>22</td>\n",
       "      <td>7</td>\n",
       "      <td>3</td>\n",
       "      <td>1</td>\n",
       "      <td>0</td>\n",
       "    </tr>\n",
       "    <tr>\n",
       "      <th>4</th>\n",
       "      <td>60</td>\n",
       "      <td>0</td>\n",
       "      <td>25.0</td>\n",
       "      <td>0</td>\n",
       "      <td>3</td>\n",
       "      <td>5</td>\n",
       "      <td>22</td>\n",
       "      <td>4</td>\n",
       "      <td>1</td>\n",
       "      <td>2</td>\n",
       "      <td>0</td>\n",
       "    </tr>\n",
       "    <tr>\n",
       "      <th>...</th>\n",
       "      <td>...</td>\n",
       "      <td>...</td>\n",
       "      <td>...</td>\n",
       "      <td>...</td>\n",
       "      <td>...</td>\n",
       "      <td>...</td>\n",
       "      <td>...</td>\n",
       "      <td>...</td>\n",
       "      <td>...</td>\n",
       "      <td>...</td>\n",
       "      <td>...</td>\n",
       "    </tr>\n",
       "    <tr>\n",
       "      <th>368</th>\n",
       "      <td>500</td>\n",
       "      <td>1</td>\n",
       "      <td>27.0</td>\n",
       "      <td>1</td>\n",
       "      <td>2</td>\n",
       "      <td>8</td>\n",
       "      <td>21</td>\n",
       "      <td>26</td>\n",
       "      <td>2</td>\n",
       "      <td>2</td>\n",
       "      <td>0</td>\n",
       "    </tr>\n",
       "    <tr>\n",
       "      <th>369</th>\n",
       "      <td>400</td>\n",
       "      <td>1</td>\n",
       "      <td>25.0</td>\n",
       "      <td>0</td>\n",
       "      <td>5</td>\n",
       "      <td>4</td>\n",
       "      <td>22</td>\n",
       "      <td>3</td>\n",
       "      <td>1</td>\n",
       "      <td>1</td>\n",
       "      <td>0</td>\n",
       "    </tr>\n",
       "    <tr>\n",
       "      <th>370</th>\n",
       "      <td>500</td>\n",
       "      <td>0</td>\n",
       "      <td>25.0</td>\n",
       "      <td>0</td>\n",
       "      <td>3</td>\n",
       "      <td>1</td>\n",
       "      <td>21</td>\n",
       "      <td>15</td>\n",
       "      <td>3</td>\n",
       "      <td>2</td>\n",
       "      <td>0</td>\n",
       "    </tr>\n",
       "    <tr>\n",
       "      <th>371</th>\n",
       "      <td>14000</td>\n",
       "      <td>1</td>\n",
       "      <td>25.0</td>\n",
       "      <td>1</td>\n",
       "      <td>4</td>\n",
       "      <td>10</td>\n",
       "      <td>21</td>\n",
       "      <td>8</td>\n",
       "      <td>3</td>\n",
       "      <td>2</td>\n",
       "      <td>0</td>\n",
       "    </tr>\n",
       "    <tr>\n",
       "      <th>372</th>\n",
       "      <td>60</td>\n",
       "      <td>0</td>\n",
       "      <td>25.0</td>\n",
       "      <td>0</td>\n",
       "      <td>5</td>\n",
       "      <td>3</td>\n",
       "      <td>22</td>\n",
       "      <td>22</td>\n",
       "      <td>3</td>\n",
       "      <td>1</td>\n",
       "      <td>0</td>\n",
       "    </tr>\n",
       "  </tbody>\n",
       "</table>\n",
       "<p>373 rows × 11 columns</p>\n",
       "</div>"
      ],
      "text/plain": [
       "     PURCHASE_VALUE  IS_PURCHASE_PAID_VIA_MPESA_SEND_MONEY  USER_AGE  \\\n",
       "0              1700                                      0      25.0   \n",
       "1               100                                      0      25.0   \n",
       "2                20                                      0      25.0   \n",
       "3              3800                                      0      25.0   \n",
       "4                60                                      0      25.0   \n",
       "..              ...                                    ...       ...   \n",
       "368             500                                      1      27.0   \n",
       "369             400                                      1      25.0   \n",
       "370             500                                      0      25.0   \n",
       "371           14000                                      1      25.0   \n",
       "372              60                                      0      25.0   \n",
       "\n",
       "     USER_GENDER  USER_HOUSEHOLD  Month  Year  Day  partsM  SocialClass  \\\n",
       "0              0               3      5    22    4       1            2   \n",
       "1              1               4     10    21   24       3            2   \n",
       "2              0               3      5    22   27       2            2   \n",
       "3              0               5      2    22    7       3            1   \n",
       "4              0               3      5    22    4       1            2   \n",
       "..           ...             ...    ...   ...  ...     ...          ...   \n",
       "368            1               2      8    21   26       2            2   \n",
       "369            0               5      4    22    3       1            1   \n",
       "370            0               3      1    21   15       3            2   \n",
       "371            1               4     10    21    8       3            2   \n",
       "372            0               5      3    22   22       3            1   \n",
       "\n",
       "     purchaseIMP  \n",
       "0              0  \n",
       "1              0  \n",
       "2              0  \n",
       "3              0  \n",
       "4              0  \n",
       "..           ...  \n",
       "368            0  \n",
       "369            0  \n",
       "370            0  \n",
       "371            0  \n",
       "372            0  \n",
       "\n",
       "[373 rows x 11 columns]"
      ]
     },
     "execution_count": 257,
     "metadata": {},
     "output_type": "execute_result"
    }
   ],
   "source": [
    "X"
   ]
  },
  {
   "cell_type": "code",
   "execution_count": 258,
   "metadata": {},
   "outputs": [],
   "source": [
    "X['PURCHASE_VALUE']=(X['PURCHASE_VALUE']-X['PURCHASE_VALUE'].mean())/X['PURCHASE_VALUE'].std()"
   ]
  },
  {
   "cell_type": "code",
   "execution_count": 259,
   "metadata": {},
   "outputs": [],
   "source": [
    "test['PURCHASE_VALUE']=(test['PURCHASE_VALUE']-test['PURCHASE_VALUE'].mean())/test['PURCHASE_VALUE'].std()"
   ]
  },
  {
   "cell_type": "code",
   "execution_count": 260,
   "metadata": {},
   "outputs": [],
   "source": [
    "extr['PURCHASE_VALUE']=(extr['PURCHASE_VALUE']-extr['PURCHASE_VALUE'].mean())/extr['PURCHASE_VALUE'].std()"
   ]
  },
  {
   "cell_type": "code",
   "execution_count": 261,
   "metadata": {},
   "outputs": [
    {
     "data": {
      "text/plain": [
       "<AxesSubplot:>"
      ]
     },
     "execution_count": 261,
     "metadata": {},
     "output_type": "execute_result"
    },
    {
     "data": {
      "image/png": "[encoded data removed]",
      "text/plain": [
       "<Figure size 432x288 with 1 Axes>"
      ]
     },
     "metadata": {
      "needs_background": "light"
     },
     "output_type": "display_data"
    }
   ],
   "source": [
    "X.boxplot(['PURCHASE_VALUE'])"
   ]
  },
  {
   "cell_type": "code",
   "execution_count": 262,
   "metadata": {},
   "outputs": [
    {
     "data": {
      "text/plain": [
       "<AxesSubplot:>"
      ]
     },
     "execution_count": 262,
     "metadata": {},
     "output_type": "execute_result"
    },
    {
     "data": {
      "image/png": "[encoded data removed]",
      "text/plain": [
       "<Figure size 432x288 with 1 Axes>"
      ]
     },
     "metadata": {
      "needs_background": "light"
     },
     "output_type": "display_data"
    }
   ],
   "source": [
    "test.boxplot(['PURCHASE_VALUE'])"
   ]
  },
  {
   "cell_type": "code",
   "execution_count": 263,
   "metadata": {},
   "outputs": [
    {
     "data": {
      "text/plain": [
       "<AxesSubplot:>"
      ]
     },
     "execution_count": 263,
     "metadata": {},
     "output_type": "execute_result"
    },
    {
     "data": {
      "image/png": "[encoded data removed]",
      "text/plain": [
       "<Figure size 432x288 with 1 Axes>"
      ]
     },
     "metadata": {
      "needs_background": "light"
     },
     "output_type": "display_data"
    }
   ],
   "source": [
    "extr.boxplot(['PURCHASE_VALUE'])"
   ]
  },
  {
   "cell_type": "code",
   "execution_count": 264,
   "metadata": {},
   "outputs": [
    {
     "data": {
      "text/plain": [
       "PURCHASE_VALUE                           float64\n",
       "IS_PURCHASE_PAID_VIA_MPESA_SEND_MONEY      int64\n",
       "USER_AGE                                 float64\n",
       "USER_GENDER                                int64\n",
       "USER_HOUSEHOLD                             int64\n",
       "Month                                      int64\n",
       "Year                                       int64\n",
       "Day                                        int64\n",
       "partsM                                     int64\n",
       "SocialClass                                int64\n",
       "purchaseIMP                                int64\n",
       "dtype: object"
      ]
     },
     "execution_count": 264,
     "metadata": {},
     "output_type": "execute_result"
    }
   ],
   "source": [
    "X.dtypes"
   ]
  },
  {
   "cell_type": "code",
   "execution_count": 265,
   "metadata": {},
   "outputs": [
    {
     "data": {
      "text/plain": [
       "array([11, 13,  2,  9,  1, 10,  7, 12,  5,  6,  4,  8,  3], dtype=int64)"
      ]
     },
     "execution_count": 265,
     "metadata": {},
     "output_type": "execute_result"
    }
   ],
   "source": [
    "y.unique()"
   ]
  },
  {
   "cell_type": "code",
   "execution_count": 266,
   "metadata": {
    "colab": {
     "base_uri": "https://localhost:8080/"
    },
    "id": "iXwzW_sq1Arr",
    "outputId": "76cb1f56-1c85-46d5-a3c0-6f41f0a6d8d8"
   },
   "outputs": [
    {
     "data": {
      "text/plain": [
       "(373, 11)"
      ]
     },
     "execution_count": 266,
     "metadata": {},
     "output_type": "execute_result"
    }
   ],
   "source": [
    "X.shape"
   ]
  },
  {
   "cell_type": "markdown",
   "metadata": {
    "id": "q1aHDTs90qu_"
   },
   "source": [
    "Now we have more independent variables than before (235 variables). This doesn’t mean all these variables are important to train our model. You need to select only important features that can increase the performance of the model. But we will not apply any feature selection technique in this article; if you want to learn and know more about feature selection techniques, we recommend you read the following articles:\n",
    "\n",
    "\n",
    "*    [Introduction to Feature Selection methods with an example (or how to select the right variables?)](https://https://www.analyticsvidhya.com/blog/2016/12/introduction-to-feature-selection-methods-with-an-example-or-how-to-select-the-right-variables/)\n",
    "*   [The 5 Feature Selection Algorithms every Data Scientist should know](https://towardsdatascience.com/the-5-feature-selection-algorithms-every-data-scientist-need-to-know-3a6b566efd2)\n",
    "*   [How to Choose a Feature Selection Method For Machine Learning](https://machinelearningmastery.com/feature-selection-with-real-and-categorical-data/)\n",
    "*   [Feature Selection Techniques in Machine Learning with Python](https://towardsdatascience.com/feature-selection-techniques-in-machine-learning-with-python-f24e7da3f36e)"
   ]
  },
  {
   "cell_type": "markdown",
   "metadata": {
    "id": "T2SGpaag1QSD"
   },
   "source": [
    "##4. Model Building and Experiments\n",
    "A portion of the training data set will be used to evaluate our models and find the best one that performs well before using it in the test dataset.\n"
   ]
  },
  {
   "cell_type": "code",
   "execution_count": 267,
   "metadata": {
    "id": "clVOI_t16J1k"
   },
   "outputs": [],
   "source": [
    "# # Split the training data\n",
    "\n",
    "X_train, X_val, y_train, y_val = train_test_split(X, y, test_size=0.1, random_state=101)"
   ]
  },
  {
   "cell_type": "markdown",
   "metadata": {
    "id": "WriH9E9b6QO2"
   },
   "source": [
    "Only 10% of the train dataset will be used for evaluating the models. \n",
    "\n",
    "There are many models to choose from such as \n",
    "\n",
    "*   [K Nearest Neighbors](https://www.datacamp.com/community/tutorials/k-nearest-neighbor-classification-scikit-learn)\n",
    "*   [Logistic Regression](https://machinelearningmastery.com/logistic-regression-tutorial-for-machine-learning/)\n",
    "*   [Random Forest](https://www.datacamp.com/community/tutorials/random-forests-classifier-python)\n",
    "*   [XGBoost](https://www.datacamp.com/community/tutorials/xgboost-in-python)\n"
   ]
  },
  {
   "cell_type": "markdown",
   "metadata": {
    "id": "iy2_NHkB2qH6"
   },
   "source": [
    "Fit models"
   ]
  },
  {
   "cell_type": "markdown",
   "metadata": {
    "id": "iDSfITip2u1y"
   },
   "source": [
    "Let's try a decision tree first"
   ]
  },
  {
   "cell_type": "markdown",
   "metadata": {
    "id": "W0sgBhhK24ev"
   },
   "source": [
    "Let's try random forest with 100 estimators"
   ]
  },
  {
   "cell_type": "markdown",
   "metadata": {},
   "source": [
    "# Grid search "
   ]
  },
  {
   "cell_type": "markdown",
   "metadata": {},
   "source": [
    "this is a randomiz cross validation"
   ]
  },
  {
   "cell_type": "code",
   "execution_count": 755,
   "metadata": {},
   "outputs": [
    {
     "name": "stdout",
     "output_type": "stream",
     "text": [
      "{'n_estimators': [200, 400, 600, 800, 1000, 1200, 1400, 1600, 1800, 2000], 'max_features': ['auto', 'sqrt'], 'max_depth': [10, 20, 30, 40, 50, 60, 70, 80, 90, 100, 110, None], 'min_samples_split': [2, 5, 10], 'min_samples_leaf': [1, 2, 4], 'bootstrap': [True, False]}\n"
     ]
    }
   ],
   "source": [
    "from sklearn.model_selection import RandomizedSearchCV# Number of trees in random forest\n",
    "n_estimators = [int(x) for x in np.linspace(start = 200, stop = 2000, num = 10)]\n",
    "# Number of features to consider at every split\n",
    "max_features = ['auto', 'sqrt']\n",
    "# Maximum number of levels in tree\n",
    "max_depth = [int(x) for x in np.linspace(10, 110, num = 11)]\n",
    "max_depth.append(None)\n",
    "# Minimum number of samples required to split a node\n",
    "min_samples_split = [2, 5, 10]\n",
    "# Minimum number of samples required at each leaf node\n",
    "min_samples_leaf = [1, 2, 4]\n",
    "# Method of selecting samples for training each tree\n",
    "bootstrap = [True, False]# Create the random grid\n",
    "random_grid = {'n_estimators': n_estimators,\n",
    "               'max_features': max_features,\n",
    "               'max_depth': max_depth,\n",
    "               'min_samples_split': min_samples_split,\n",
    "               'min_samples_leaf': min_samples_leaf,\n",
    "               'bootstrap': bootstrap}\n",
    "print(random_grid)"
   ]
  },
  {
   "cell_type": "code",
   "execution_count": 756,
   "metadata": {},
   "outputs": [
    {
     "name": "stdout",
     "output_type": "stream",
     "text": [
      "Fitting 5 folds for each of 100 candidates, totalling 500 fits\n"
     ]
    },
    {
     "data": {
      "text/plain": [
       "RandomizedSearchCV(cv=5, estimator=BalancedRandomForestClassifier(), n_iter=100,\n",
       "                   n_jobs=-1,\n",
       "                   param_distributions={'bootstrap': [True, False],\n",
       "                                        'max_depth': [10, 20, 30, 40, 50, 60,\n",
       "                                                      70, 80, 90, 100, 110,\n",
       "                                                      None],\n",
       "                                        'max_features': ['auto', 'sqrt'],\n",
       "                                        'min_samples_leaf': [1, 2, 4],\n",
       "                                        'min_samples_split': [2, 5, 10],\n",
       "                                        'n_estimators': [200, 400, 600, 800,\n",
       "                                                         1000, 1200, 1400, 1600,\n",
       "                                                         1800, 2000]},\n",
       "                   random_state=42, verbose=2)"
      ]
     },
     "execution_count": 756,
     "metadata": {},
     "output_type": "execute_result"
    }
   ],
   "source": [
    "# Use the random grid to search for best hyperparameters\n",
    "# First create the base model to tune\n",
    "rf = BalancedRandomForestClassifier()\n",
    "# Random search of parameters, using 3 fold cross validation, \n",
    "# search across 100 different combinations, and use all available cores\n",
    "rf_random = RandomizedSearchCV(estimator = rf, param_distributions = random_grid, n_iter = 100, cv = 5, verbose=2, random_state=42, n_jobs = -1)# Fit the random search model\n",
    "rf_random.fit(X, y)"
   ]
  },
  {
   "cell_type": "code",
   "execution_count": 757,
   "metadata": {},
   "outputs": [
    {
     "data": {
      "text/plain": [
       "{'n_estimators': 1800,\n",
       " 'min_samples_split': 2,\n",
       " 'min_samples_leaf': 1,\n",
       " 'max_features': 'auto',\n",
       " 'max_depth': 20,\n",
       " 'bootstrap': False}"
      ]
     },
     "execution_count": 757,
     "metadata": {},
     "output_type": "execute_result"
    }
   ],
   "source": [
    "rf_random.best_params_"
   ]
  },
  {
   "cell_type": "code",
   "execution_count": 1085,
   "metadata": {},
   "outputs": [
    {
     "name": "stdout",
     "output_type": "stream",
     "text": [
      "Fitting 3 folds for each of 288 candidates, totalling 864 fits\n"
     ]
    },
    {
     "data": {
      "text/plain": [
       "{'bootstrap': False,\n",
       " 'max_depth': 50,\n",
       " 'max_features': 3,\n",
       " 'min_samples_leaf': 1,\n",
       " 'min_samples_split': 2,\n",
       " 'n_estimators': 2500}"
      ]
     },
     "execution_count": 1085,
     "metadata": {},
     "output_type": "execute_result"
    }
   ],
   "source": [
    "from sklearn.model_selection import GridSearchCV\n",
    "param_grid = {\n",
    "    'bootstrap': [False],\n",
    "    'max_depth': [20, 30, 50, 60],\n",
    "    'max_features': [2, 3],\n",
    "    'min_samples_leaf': [1, 2, 3],\n",
    "    'min_samples_split': [2, 4, 6],\n",
    "    'n_estimators': [1500, 1800, 2000, 2500]}\n",
    "    \n",
    "grid_search = GridSearchCV(estimator = rf, param_grid = param_grid, \n",
    "                          cv = 3, n_jobs = -1, verbose = 2)\n",
    "grid_search.fit(X,y)\n",
    "grid_search.best_params_"
   ]
  },
  {
   "cell_type": "code",
   "execution_count": 268,
   "metadata": {},
   "outputs": [
    {
     "name": "stdout",
     "output_type": "stream",
     "text": [
      "Fold 1 Accuracy: 2.3038726812040813\n",
      "Fold 2 Accuracy: 2.500830971349686\n",
      "Fold 3 Accuracy: 2.5117420761287303\n",
      "Fold 4 Accuracy: 2.3853930479667067\n",
      "Fold 5 Accuracy: 2.3413506754758404\n",
      "Fold 6 Accuracy: 2.035939185275472\n",
      "Fold 7 Accuracy: 2.160213449995082\n",
      "Fold 8 Accuracy: 2.28863993394096\n",
      "Fold 9 Accuracy: 2.0533427559769857\n",
      "Fold 10 Accuracy: 2.15199664152867\n"
     ]
    },
    {
     "data": {
      "text/plain": [
       "2.273332141884221"
      ]
     },
     "execution_count": 268,
     "metadata": {},
     "output_type": "execute_result"
    }
   ],
   "source": [
    "from sklearn.model_selection import StratifiedKFold\n",
    "from imblearn.ensemble import BalancedRandomForestClassifier\n",
    "skf = StratifiedKFold(n_splits=10) \n",
    "y_pred_totcb=[]\n",
    "scores=0\n",
    "fold_no = 1\n",
    "for train_index, test_index in skf.split(X, y):\n",
    "    X_train, X_test = X.iloc[train_index], X.iloc[test_index]\n",
    "    y_train, y_test = y[train_index], y[test_index]\n",
    "    model = BalancedRandomForestClassifier(n_estimators=2500,max_depth=50,min_samples_split=2,min_samples_leaf=1,bootstrap=False, max_features=3)\n",
    "    model.fit(X_train,y_train)\n",
    "    predictions = model.predict_proba(X_test)\n",
    "    print('Fold',str(fold_no),'Accuracy:',log_loss(y_test,predictions, labels=model.classes_)) \n",
    "    fold_no += 1\n",
    "    y_pred_totcb.append(predictions)\n",
    "    scores+=log_loss(y_test,predictions, labels=model.classes_)\n",
    "scores/10"
   ]
  },
  {
   "cell_type": "code",
   "execution_count": 269,
   "metadata": {
    "id": "RZNyCOCf26Gd"
   },
   "outputs": [
    {
     "name": "stdout",
     "output_type": "stream",
     "text": [
      "ACCURACY OF THE MODEL:  1.7529066489799645\n"
     ]
    }
   ],
   "source": [
    "from sklearn.ensemble import RandomForestClassifier\n",
    "from imblearn.ensemble import BalancedRandomForestClassifier\n",
    "\n",
    "# Creating a RF classifier\n",
    "clf = BalancedRandomForestClassifier(n_estimators=2500,max_depth=50,min_samples_split=2,min_samples_leaf=1,bootstrap=False, max_features=3)\n",
    " \n",
    "# Training the model on the training dataset\n",
    "clf.fit(X_train, y_train)\n",
    " \n",
    "# Performing predictions on the test dataset\n",
    "y_pred = clf.predict_proba(X_val)\n",
    "\n",
    "# Calculate accuracy\n",
    "print(\"ACCURACY OF THE MODEL: \", log_loss(y_val, y_pred, labels=clf.classes_))\n",
    "\n",
    "# Classification report\n",
    "#print(classification_report(y_val, y_pred))\n"
   ]
  },
  {
   "cell_type": "markdown",
   "metadata": {},
   "source": [
    "# Predicting the target of the extra data to oversample the train"
   ]
  },
  {
   "cell_type": "code",
   "execution_count": 270,
   "metadata": {},
   "outputs": [
    {
     "data": {
      "text/html": [
       "<div>\n",
       "<style scoped>\n",
       "    .dataframe tbody tr th:only-of-type {\n",
       "        vertical-align: middle;\n",
       "    }\n",
       "\n",
       "    .dataframe tbody tr th {\n",
       "        vertical-align: top;\n",
       "    }\n",
       "\n",
       "    .dataframe thead th {\n",
       "        text-align: right;\n",
       "    }\n",
       "</style>\n",
       "<table border=\"1\" class=\"dataframe\">\n",
       "  <thead>\n",
       "    <tr style=\"text-align: right;\">\n",
       "      <th></th>\n",
       "      <th>PURCHASE_VALUE</th>\n",
       "      <th>IS_PURCHASE_PAID_VIA_MPESA_SEND_MONEY</th>\n",
       "      <th>USER_AGE</th>\n",
       "      <th>USER_GENDER</th>\n",
       "      <th>USER_HOUSEHOLD</th>\n",
       "      <th>USER_INCOME</th>\n",
       "      <th>Transaction_ID</th>\n",
       "      <th>Month</th>\n",
       "      <th>Year</th>\n",
       "      <th>Day</th>\n",
       "      <th>partsM</th>\n",
       "      <th>SocialClass</th>\n",
       "      <th>purchaseIMP</th>\n",
       "    </tr>\n",
       "  </thead>\n",
       "  <tbody>\n",
       "    <tr>\n",
       "      <th>0</th>\n",
       "      <td>-0.256621</td>\n",
       "      <td>0</td>\n",
       "      <td>27.0</td>\n",
       "      <td>0</td>\n",
       "      <td>1</td>\n",
       "      <td>10000</td>\n",
       "      <td>ID_v13grrw3</td>\n",
       "      <td>3</td>\n",
       "      <td>21</td>\n",
       "      <td>22</td>\n",
       "      <td>3</td>\n",
       "      <td>2</td>\n",
       "      <td>0</td>\n",
       "    </tr>\n",
       "    <tr>\n",
       "      <th>1</th>\n",
       "      <td>-0.259296</td>\n",
       "      <td>0</td>\n",
       "      <td>27.0</td>\n",
       "      <td>0</td>\n",
       "      <td>1</td>\n",
       "      <td>10000</td>\n",
       "      <td>ID_rgne8ij5</td>\n",
       "      <td>7</td>\n",
       "      <td>21</td>\n",
       "      <td>5</td>\n",
       "      <td>1</td>\n",
       "      <td>2</td>\n",
       "      <td>0</td>\n",
       "    </tr>\n",
       "    <tr>\n",
       "      <th>2</th>\n",
       "      <td>-0.048229</td>\n",
       "      <td>0</td>\n",
       "      <td>27.0</td>\n",
       "      <td>0</td>\n",
       "      <td>1</td>\n",
       "      <td>10000</td>\n",
       "      <td>ID_4i2b28b6</td>\n",
       "      <td>6</td>\n",
       "      <td>21</td>\n",
       "      <td>21</td>\n",
       "      <td>3</td>\n",
       "      <td>2</td>\n",
       "      <td>0</td>\n",
       "    </tr>\n",
       "    <tr>\n",
       "      <th>3</th>\n",
       "      <td>-0.048229</td>\n",
       "      <td>0</td>\n",
       "      <td>27.0</td>\n",
       "      <td>0</td>\n",
       "      <td>1</td>\n",
       "      <td>10000</td>\n",
       "      <td>ID_6dvi32yc</td>\n",
       "      <td>4</td>\n",
       "      <td>21</td>\n",
       "      <td>22</td>\n",
       "      <td>3</td>\n",
       "      <td>2</td>\n",
       "      <td>0</td>\n",
       "    </tr>\n",
       "    <tr>\n",
       "      <th>4</th>\n",
       "      <td>-0.259296</td>\n",
       "      <td>0</td>\n",
       "      <td>27.0</td>\n",
       "      <td>0</td>\n",
       "      <td>1</td>\n",
       "      <td>10000</td>\n",
       "      <td>ID_sfk1yxbm</td>\n",
       "      <td>7</td>\n",
       "      <td>21</td>\n",
       "      <td>29</td>\n",
       "      <td>2</td>\n",
       "      <td>2</td>\n",
       "      <td>0</td>\n",
       "    </tr>\n",
       "    <tr>\n",
       "      <th>...</th>\n",
       "      <td>...</td>\n",
       "      <td>...</td>\n",
       "      <td>...</td>\n",
       "      <td>...</td>\n",
       "      <td>...</td>\n",
       "      <td>...</td>\n",
       "      <td>...</td>\n",
       "      <td>...</td>\n",
       "      <td>...</td>\n",
       "      <td>...</td>\n",
       "      <td>...</td>\n",
       "      <td>...</td>\n",
       "      <td>...</td>\n",
       "    </tr>\n",
       "    <tr>\n",
       "      <th>9995</th>\n",
       "      <td>-0.255213</td>\n",
       "      <td>0</td>\n",
       "      <td>27.0</td>\n",
       "      <td>0</td>\n",
       "      <td>1</td>\n",
       "      <td>5000</td>\n",
       "      <td>ID_6arln23v</td>\n",
       "      <td>4</td>\n",
       "      <td>22</td>\n",
       "      <td>9</td>\n",
       "      <td>3</td>\n",
       "      <td>3</td>\n",
       "      <td>0</td>\n",
       "    </tr>\n",
       "    <tr>\n",
       "      <th>9996</th>\n",
       "      <td>-0.245357</td>\n",
       "      <td>0</td>\n",
       "      <td>27.0</td>\n",
       "      <td>0</td>\n",
       "      <td>1</td>\n",
       "      <td>5000</td>\n",
       "      <td>ID_msuxva0z</td>\n",
       "      <td>4</td>\n",
       "      <td>22</td>\n",
       "      <td>9</td>\n",
       "      <td>3</td>\n",
       "      <td>3</td>\n",
       "      <td>0</td>\n",
       "    </tr>\n",
       "    <tr>\n",
       "      <th>9997</th>\n",
       "      <td>-0.256621</td>\n",
       "      <td>0</td>\n",
       "      <td>27.0</td>\n",
       "      <td>0</td>\n",
       "      <td>1</td>\n",
       "      <td>5000</td>\n",
       "      <td>ID_flro17hp</td>\n",
       "      <td>4</td>\n",
       "      <td>22</td>\n",
       "      <td>10</td>\n",
       "      <td>3</td>\n",
       "      <td>3</td>\n",
       "      <td>0</td>\n",
       "    </tr>\n",
       "    <tr>\n",
       "      <th>9998</th>\n",
       "      <td>14.567341</td>\n",
       "      <td>0</td>\n",
       "      <td>27.0</td>\n",
       "      <td>1</td>\n",
       "      <td>1</td>\n",
       "      <td>35000</td>\n",
       "      <td>ID_bb2ghfuy</td>\n",
       "      <td>12</td>\n",
       "      <td>21</td>\n",
       "      <td>29</td>\n",
       "      <td>2</td>\n",
       "      <td>2</td>\n",
       "      <td>2</td>\n",
       "    </tr>\n",
       "    <tr>\n",
       "      <th>9999</th>\n",
       "      <td>-0.245357</td>\n",
       "      <td>0</td>\n",
       "      <td>23.0</td>\n",
       "      <td>0</td>\n",
       "      <td>1</td>\n",
       "      <td>21500</td>\n",
       "      <td>ID_cxhvhlnw</td>\n",
       "      <td>8</td>\n",
       "      <td>21</td>\n",
       "      <td>27</td>\n",
       "      <td>2</td>\n",
       "      <td>2</td>\n",
       "      <td>0</td>\n",
       "    </tr>\n",
       "  </tbody>\n",
       "</table>\n",
       "<p>10000 rows × 13 columns</p>\n",
       "</div>"
      ],
      "text/plain": [
       "      PURCHASE_VALUE  IS_PURCHASE_PAID_VIA_MPESA_SEND_MONEY  USER_AGE  \\\n",
       "0          -0.256621                                      0      27.0   \n",
       "1          -0.259296                                      0      27.0   \n",
       "2          -0.048229                                      0      27.0   \n",
       "3          -0.048229                                      0      27.0   \n",
       "4          -0.259296                                      0      27.0   \n",
       "...              ...                                    ...       ...   \n",
       "9995       -0.255213                                      0      27.0   \n",
       "9996       -0.245357                                      0      27.0   \n",
       "9997       -0.256621                                      0      27.0   \n",
       "9998       14.567341                                      0      27.0   \n",
       "9999       -0.245357                                      0      23.0   \n",
       "\n",
       "      USER_GENDER  USER_HOUSEHOLD  USER_INCOME Transaction_ID  Month  Year  \\\n",
       "0               0               1        10000    ID_v13grrw3      3    21   \n",
       "1               0               1        10000    ID_rgne8ij5      7    21   \n",
       "2               0               1        10000    ID_4i2b28b6      6    21   \n",
       "3               0               1        10000    ID_6dvi32yc      4    21   \n",
       "4               0               1        10000    ID_sfk1yxbm      7    21   \n",
       "...           ...             ...          ...            ...    ...   ...   \n",
       "9995            0               1         5000    ID_6arln23v      4    22   \n",
       "9996            0               1         5000    ID_msuxva0z      4    22   \n",
       "9997            0               1         5000    ID_flro17hp      4    22   \n",
       "9998            1               1        35000    ID_bb2ghfuy     12    21   \n",
       "9999            0               1        21500    ID_cxhvhlnw      8    21   \n",
       "\n",
       "      Day  partsM  SocialClass  purchaseIMP  \n",
       "0      22       3            2            0  \n",
       "1       5       1            2            0  \n",
       "2      21       3            2            0  \n",
       "3      22       3            2            0  \n",
       "4      29       2            2            0  \n",
       "...   ...     ...          ...          ...  \n",
       "9995    9       3            3            0  \n",
       "9996    9       3            3            0  \n",
       "9997   10       3            3            0  \n",
       "9998   29       2            2            2  \n",
       "9999   27       2            2            0  \n",
       "\n",
       "[10000 rows x 13 columns]"
      ]
     },
     "execution_count": 270,
     "metadata": {},
     "output_type": "execute_result"
    }
   ],
   "source": [
    "extr"
   ]
  },
  {
   "cell_type": "code",
   "execution_count": 271,
   "metadata": {},
   "outputs": [],
   "source": [
    "extr.drop(['Transaction_ID','USER_INCOME'],axis=1,inplace=True)"
   ]
  },
  {
   "cell_type": "code",
   "execution_count": 272,
   "metadata": {},
   "outputs": [],
   "source": [
    "extrp=clf.predict(extr)"
   ]
  },
  {
   "cell_type": "code",
   "execution_count": 273,
   "metadata": {},
   "outputs": [],
   "source": [
    "extr[\"MERCHANT_CATEGORIZED_AS\"]=extrp"
   ]
  },
  {
   "cell_type": "code",
   "execution_count": 274,
   "metadata": {},
   "outputs": [
    {
     "data": {
      "text/plain": [
       "{'MERCHANT_CATEGORIZED_AS': {'Bills & Fees': 1,\n",
       "  'Data & WiFi': 2,\n",
       "  'Education': 3,\n",
       "  'Emergency fund': 4,\n",
       "  'Family & Friends': 5,\n",
       "  'Going out': 6,\n",
       "  'Groceries': 7,\n",
       "  'Health': 8,\n",
       "  'Loan Repayment': 9,\n",
       "  'Miscellaneous': 10,\n",
       "  'Rent / Mortgage': 11,\n",
       "  'Shopping': 12,\n",
       "  'Transport & Fuel': 13}}"
      ]
     },
     "execution_count": 274,
     "metadata": {},
     "output_type": "execute_result"
    }
   ],
   "source": [
    "replace_map_train"
   ]
  },
  {
   "cell_type": "code",
   "execution_count": 152,
   "metadata": {},
   "outputs": [
    {
     "name": "stdout",
     "output_type": "stream",
     "text": [
      "{1: 'Bills & Fees', 2: 'Data & WiFi', 3: 'Education', 4: 'Emergency fund', 5: 'Family & Friends', 6: 'Going out', 7: 'Groceries', 8: 'Health', 9: 'Loan Repayment', 10: 'Miscellaneous', 11: 'Rent / Mortgage', 12: 'Shopping', 13: 'Transport & Fuel'}\n"
     ]
    }
   ],
   "source": [
    "replace_map_train=replace_map_train['MERCHANT_CATEGORIZED_AS']\n",
    "replace_map_train = {v: k for k, v in replace_map_train.items()}\n",
    "print(replace_map_train)"
   ]
  },
  {
   "cell_type": "code",
   "execution_count": 154,
   "metadata": {},
   "outputs": [],
   "source": [
    "extr[\"MERCHANT_CATEGORIZED_AS\"]=extr[\"MERCHANT_CATEGORIZED_AS\"].apply(lambda x: replace_map_train[x])\n",
    "train[\"MERCHANT_CATEGORIZED_AS\"]=train[\"MERCHANT_CATEGORIZED_AS\"].apply(lambda x: replace_map_train[x])\n"
   ]
  },
  {
   "cell_type": "code",
   "execution_count": 155,
   "metadata": {},
   "outputs": [
    {
     "data": {
      "text/plain": [
       "<BarContainer object of 10000 artists>"
      ]
     },
     "execution_count": 155,
     "metadata": {},
     "output_type": "execute_result"
    },
    {
     "data": {
      "image/png": "[encoded data removed]",
      "text/plain": [
       "<Figure size 800x600 with 1 Axes>"
      ]
     },
     "metadata": {
      "needs_background": "light"
     },
     "output_type": "display_data"
    }
   ],
   "source": [
    "# Show a bar graph of the purchase_value vs the target in the train data (merchant_categorized_as)\n",
    "plt.figure(dpi=200, figsize=(4,3))\n",
    "plt.xticks(rotation=90)\n",
    "plt.bar(data=extr, x='MERCHANT_CATEGORIZED_AS', height='PURCHASE_VALUE')"
   ]
  },
  {
   "cell_type": "code",
   "execution_count": 156,
   "metadata": {},
   "outputs": [
    {
     "data": {
      "text/plain": [
       "PURCHASE_VALUE                           506\n",
       "IS_PURCHASE_PAID_VIA_MPESA_SEND_MONEY    506\n",
       "USER_AGE                                 506\n",
       "USER_GENDER                              506\n",
       "USER_HOUSEHOLD                           506\n",
       "Month                                    506\n",
       "Year                                     506\n",
       "Day                                      506\n",
       "partsM                                   506\n",
       "SocialClass                              506\n",
       "purchaseIMP                              506\n",
       "MERCHANT_CATEGORIZED_AS                  506\n",
       "dtype: int64"
      ]
     },
     "execution_count": 156,
     "metadata": {},
     "output_type": "execute_result"
    }
   ],
   "source": [
    "extr[extr['MERCHANT_CATEGORIZED_AS']=='Going out'].count()\n"
   ]
  },
  {
   "cell_type": "code",
   "execution_count": 157,
   "metadata": {},
   "outputs": [
    {
     "data": {
      "text/plain": [
       "MERCHANT_CATEGORIZED_AS                  50\n",
       "PURCHASE_VALUE                           50\n",
       "IS_PURCHASE_PAID_VIA_MPESA_SEND_MONEY    50\n",
       "USER_AGE                                 50\n",
       "USER_GENDER                              50\n",
       "USER_HOUSEHOLD                           50\n",
       "Month                                    50\n",
       "Year                                     50\n",
       "Day                                      50\n",
       "partsM                                   50\n",
       "SocialClass                              50\n",
       "purchaseIMP                              50\n",
       "dtype: int64"
      ]
     },
     "execution_count": 157,
     "metadata": {},
     "output_type": "execute_result"
    }
   ],
   "source": [
    "train[train['MERCHANT_CATEGORIZED_AS']=='Groceries'].count()"
   ]
  },
  {
   "cell_type": "code",
   "execution_count": 160,
   "metadata": {},
   "outputs": [
    {
     "name": "stdout",
     "output_type": "stream",
     "text": [
      "Train data:  {'MERCHANT_CATEGORIZED_AS': {'Bills & Fees': 1, 'Data & WiFi': 2, 'Education': 3, 'Emergency fund': 4, 'Family & Friends': 5, 'Going out': 6, 'Groceries': 7, 'Health': 8, 'Loan Repayment': 9, 'Miscellaneous': 10, 'Rent / Mortgage': 11, 'Shopping': 12, 'Transport & Fuel': 13}}\n"
     ]
    }
   ],
   "source": [
    "labels_train = extr['MERCHANT_CATEGORIZED_AS'].astype('category').cat.categories.tolist()\n",
    "replace_map_train = {'MERCHANT_CATEGORIZED_AS' : {k: v for k,v in zip(labels_train,list(range(1,len(labels_train)+1)))}}\n",
    "print(\"Train data: \", replace_map_train)\n",
    "extr.replace(replace_map_train,inplace=True)"
   ]
  },
  {
   "cell_type": "code",
   "execution_count": 161,
   "metadata": {},
   "outputs": [
    {
     "name": "stdout",
     "output_type": "stream",
     "text": [
      "Train data:  {'MERCHANT_CATEGORIZED_AS': {'Bills & Fees': 1, 'Data & WiFi': 2, 'Education': 3, 'Emergency fund': 4, 'Family & Friends': 5, 'Going out': 6, 'Groceries': 7, 'Health': 8, 'Loan Repayment': 9, 'Miscellaneous': 10, 'Rent / Mortgage': 11, 'Shopping': 12, 'Transport & Fuel': 13}}\n"
     ]
    }
   ],
   "source": [
    "labels_train = train['MERCHANT_CATEGORIZED_AS'].astype('category').cat.categories.tolist()\n",
    "replace_map_train = {'MERCHANT_CATEGORIZED_AS' : {k: v for k,v in zip(labels_train,list(range(1,len(labels_train)+1)))}}\n",
    "print(\"Train data: \", replace_map_train)\n",
    "train.replace(replace_map_train,inplace=True)"
   ]
  },
  {
   "cell_type": "code",
   "execution_count": 275,
   "metadata": {},
   "outputs": [
    {
     "data": {
      "text/html": [
       "<div>\n",
       "<style scoped>\n",
       "    .dataframe tbody tr th:only-of-type {\n",
       "        vertical-align: middle;\n",
       "    }\n",
       "\n",
       "    .dataframe tbody tr th {\n",
       "        vertical-align: top;\n",
       "    }\n",
       "\n",
       "    .dataframe thead th {\n",
       "        text-align: right;\n",
       "    }\n",
       "</style>\n",
       "<table border=\"1\" class=\"dataframe\">\n",
       "  <thead>\n",
       "    <tr style=\"text-align: right;\">\n",
       "      <th></th>\n",
       "      <th>PURCHASE_VALUE</th>\n",
       "      <th>IS_PURCHASE_PAID_VIA_MPESA_SEND_MONEY</th>\n",
       "      <th>USER_AGE</th>\n",
       "      <th>USER_GENDER</th>\n",
       "      <th>USER_HOUSEHOLD</th>\n",
       "      <th>Month</th>\n",
       "      <th>Year</th>\n",
       "      <th>Day</th>\n",
       "      <th>partsM</th>\n",
       "      <th>SocialClass</th>\n",
       "      <th>purchaseIMP</th>\n",
       "      <th>MERCHANT_CATEGORIZED_AS</th>\n",
       "    </tr>\n",
       "  </thead>\n",
       "  <tbody>\n",
       "    <tr>\n",
       "      <th>0</th>\n",
       "      <td>-0.256621</td>\n",
       "      <td>0</td>\n",
       "      <td>27.0</td>\n",
       "      <td>0</td>\n",
       "      <td>1</td>\n",
       "      <td>3</td>\n",
       "      <td>21</td>\n",
       "      <td>22</td>\n",
       "      <td>3</td>\n",
       "      <td>2</td>\n",
       "      <td>0</td>\n",
       "      <td>8</td>\n",
       "    </tr>\n",
       "    <tr>\n",
       "      <th>1</th>\n",
       "      <td>-0.259296</td>\n",
       "      <td>0</td>\n",
       "      <td>27.0</td>\n",
       "      <td>0</td>\n",
       "      <td>1</td>\n",
       "      <td>7</td>\n",
       "      <td>21</td>\n",
       "      <td>5</td>\n",
       "      <td>1</td>\n",
       "      <td>2</td>\n",
       "      <td>0</td>\n",
       "      <td>11</td>\n",
       "    </tr>\n",
       "    <tr>\n",
       "      <th>2</th>\n",
       "      <td>-0.048229</td>\n",
       "      <td>0</td>\n",
       "      <td>27.0</td>\n",
       "      <td>0</td>\n",
       "      <td>1</td>\n",
       "      <td>6</td>\n",
       "      <td>21</td>\n",
       "      <td>21</td>\n",
       "      <td>3</td>\n",
       "      <td>2</td>\n",
       "      <td>0</td>\n",
       "      <td>12</td>\n",
       "    </tr>\n",
       "    <tr>\n",
       "      <th>3</th>\n",
       "      <td>-0.048229</td>\n",
       "      <td>0</td>\n",
       "      <td>27.0</td>\n",
       "      <td>0</td>\n",
       "      <td>1</td>\n",
       "      <td>4</td>\n",
       "      <td>21</td>\n",
       "      <td>22</td>\n",
       "      <td>3</td>\n",
       "      <td>2</td>\n",
       "      <td>0</td>\n",
       "      <td>12</td>\n",
       "    </tr>\n",
       "    <tr>\n",
       "      <th>4</th>\n",
       "      <td>-0.259296</td>\n",
       "      <td>0</td>\n",
       "      <td>27.0</td>\n",
       "      <td>0</td>\n",
       "      <td>1</td>\n",
       "      <td>7</td>\n",
       "      <td>21</td>\n",
       "      <td>29</td>\n",
       "      <td>2</td>\n",
       "      <td>2</td>\n",
       "      <td>0</td>\n",
       "      <td>8</td>\n",
       "    </tr>\n",
       "    <tr>\n",
       "      <th>...</th>\n",
       "      <td>...</td>\n",
       "      <td>...</td>\n",
       "      <td>...</td>\n",
       "      <td>...</td>\n",
       "      <td>...</td>\n",
       "      <td>...</td>\n",
       "      <td>...</td>\n",
       "      <td>...</td>\n",
       "      <td>...</td>\n",
       "      <td>...</td>\n",
       "      <td>...</td>\n",
       "      <td>...</td>\n",
       "    </tr>\n",
       "    <tr>\n",
       "      <th>9995</th>\n",
       "      <td>-0.255213</td>\n",
       "      <td>0</td>\n",
       "      <td>27.0</td>\n",
       "      <td>0</td>\n",
       "      <td>1</td>\n",
       "      <td>4</td>\n",
       "      <td>22</td>\n",
       "      <td>9</td>\n",
       "      <td>3</td>\n",
       "      <td>3</td>\n",
       "      <td>0</td>\n",
       "      <td>10</td>\n",
       "    </tr>\n",
       "    <tr>\n",
       "      <th>9996</th>\n",
       "      <td>-0.245357</td>\n",
       "      <td>0</td>\n",
       "      <td>27.0</td>\n",
       "      <td>0</td>\n",
       "      <td>1</td>\n",
       "      <td>4</td>\n",
       "      <td>22</td>\n",
       "      <td>9</td>\n",
       "      <td>3</td>\n",
       "      <td>3</td>\n",
       "      <td>0</td>\n",
       "      <td>10</td>\n",
       "    </tr>\n",
       "    <tr>\n",
       "      <th>9997</th>\n",
       "      <td>-0.256621</td>\n",
       "      <td>0</td>\n",
       "      <td>27.0</td>\n",
       "      <td>0</td>\n",
       "      <td>1</td>\n",
       "      <td>4</td>\n",
       "      <td>22</td>\n",
       "      <td>10</td>\n",
       "      <td>3</td>\n",
       "      <td>3</td>\n",
       "      <td>0</td>\n",
       "      <td>10</td>\n",
       "    </tr>\n",
       "    <tr>\n",
       "      <th>9998</th>\n",
       "      <td>14.567341</td>\n",
       "      <td>0</td>\n",
       "      <td>27.0</td>\n",
       "      <td>1</td>\n",
       "      <td>1</td>\n",
       "      <td>12</td>\n",
       "      <td>21</td>\n",
       "      <td>29</td>\n",
       "      <td>2</td>\n",
       "      <td>2</td>\n",
       "      <td>2</td>\n",
       "      <td>4</td>\n",
       "    </tr>\n",
       "    <tr>\n",
       "      <th>9999</th>\n",
       "      <td>-0.245357</td>\n",
       "      <td>0</td>\n",
       "      <td>23.0</td>\n",
       "      <td>0</td>\n",
       "      <td>1</td>\n",
       "      <td>8</td>\n",
       "      <td>21</td>\n",
       "      <td>27</td>\n",
       "      <td>2</td>\n",
       "      <td>2</td>\n",
       "      <td>0</td>\n",
       "      <td>8</td>\n",
       "    </tr>\n",
       "  </tbody>\n",
       "</table>\n",
       "<p>10000 rows × 12 columns</p>\n",
       "</div>"
      ],
      "text/plain": [
       "      PURCHASE_VALUE  IS_PURCHASE_PAID_VIA_MPESA_SEND_MONEY  USER_AGE  \\\n",
       "0          -0.256621                                      0      27.0   \n",
       "1          -0.259296                                      0      27.0   \n",
       "2          -0.048229                                      0      27.0   \n",
       "3          -0.048229                                      0      27.0   \n",
       "4          -0.259296                                      0      27.0   \n",
       "...              ...                                    ...       ...   \n",
       "9995       -0.255213                                      0      27.0   \n",
       "9996       -0.245357                                      0      27.0   \n",
       "9997       -0.256621                                      0      27.0   \n",
       "9998       14.567341                                      0      27.0   \n",
       "9999       -0.245357                                      0      23.0   \n",
       "\n",
       "      USER_GENDER  USER_HOUSEHOLD  Month  Year  Day  partsM  SocialClass  \\\n",
       "0               0               1      3    21   22       3            2   \n",
       "1               0               1      7    21    5       1            2   \n",
       "2               0               1      6    21   21       3            2   \n",
       "3               0               1      4    21   22       3            2   \n",
       "4               0               1      7    21   29       2            2   \n",
       "...           ...             ...    ...   ...  ...     ...          ...   \n",
       "9995            0               1      4    22    9       3            3   \n",
       "9996            0               1      4    22    9       3            3   \n",
       "9997            0               1      4    22   10       3            3   \n",
       "9998            1               1     12    21   29       2            2   \n",
       "9999            0               1      8    21   27       2            2   \n",
       "\n",
       "      purchaseIMP  MERCHANT_CATEGORIZED_AS  \n",
       "0               0                        8  \n",
       "1               0                       11  \n",
       "2               0                       12  \n",
       "3               0                       12  \n",
       "4               0                        8  \n",
       "...           ...                      ...  \n",
       "9995            0                       10  \n",
       "9996            0                       10  \n",
       "9997            0                       10  \n",
       "9998            2                        4  \n",
       "9999            0                        8  \n",
       "\n",
       "[10000 rows x 12 columns]"
      ]
     },
     "execution_count": 275,
     "metadata": {},
     "output_type": "execute_result"
    }
   ],
   "source": [
    "extr"
   ]
  },
  {
   "cell_type": "code",
   "execution_count": 276,
   "metadata": {},
   "outputs": [],
   "source": [
    "e3=extr.query(\"MERCHANT_CATEGORIZED_AS == 3\").sample(n=30)\n",
    "e4=extr.query(\"MERCHANT_CATEGORIZED_AS == 4\").sample(n=30)\n",
    "e8=extr.query(\"MERCHANT_CATEGORIZED_AS == 8\").sample(n=30)\n",
    "e9=extr.query(\"MERCHANT_CATEGORIZED_AS == 9\").sample(n=30)\n",
    "e11=extr.query(\"MERCHANT_CATEGORIZED_AS == 11\").sample(n=30)"
   ]
  },
  {
   "cell_type": "code",
   "execution_count": 277,
   "metadata": {},
   "outputs": [],
   "source": [
    "X['MERCHANT_CATEGORIZED_AS']=y"
   ]
  },
  {
   "cell_type": "code",
   "execution_count": 278,
   "metadata": {},
   "outputs": [],
   "source": [
    "train=X"
   ]
  },
  {
   "cell_type": "code",
   "execution_count": 279,
   "metadata": {},
   "outputs": [],
   "source": [
    "train=pd.concat([train,e3], ignore_index=True)\n",
    "train=pd.concat([train,e4], ignore_index=True)\n",
    "train=pd.concat([train,e8], ignore_index=True)\n",
    "train=pd.concat([train,e9], ignore_index=True)\n",
    "train=pd.concat([train,e11], ignore_index=True)"
   ]
  },
  {
   "cell_type": "code",
   "execution_count": 1288,
   "metadata": {},
   "outputs": [],
   "source": [
    "e12=extr.query(\"MERCHANT_CATEGORIZED_AS == 12\").sample(n=15)\n",
    "e13=extr.query(\"MERCHANT_CATEGORIZED_AS == 13\").sample(n=15)"
   ]
  },
  {
   "cell_type": "code",
   "execution_count": 1289,
   "metadata": {},
   "outputs": [],
   "source": [
    "train=pd.concat([train,e12], ignore_index=True)\n",
    "train=pd.concat([train,e13], ignore_index=True)"
   ]
  },
  {
   "cell_type": "code",
   "execution_count": 280,
   "metadata": {
    "scrolled": false
   },
   "outputs": [
    {
     "data": {
      "text/plain": [
       "1     78\n",
       "7     50\n",
       "2     43\n",
       "10    43\n",
       "4     42\n",
       "5     41\n",
       "6     41\n",
       "8     36\n",
       "9     35\n",
       "11    32\n",
       "3     32\n",
       "13    29\n",
       "12    21\n",
       "Name: MERCHANT_CATEGORIZED_AS, dtype: int64"
      ]
     },
     "execution_count": 280,
     "metadata": {},
     "output_type": "execute_result"
    }
   ],
   "source": [
    "train['MERCHANT_CATEGORIZED_AS'].value_counts()"
   ]
  },
  {
   "cell_type": "markdown",
   "metadata": {},
   "source": [
    "# predicting on the new oversampled dataset"
   ]
  },
  {
   "cell_type": "code",
   "execution_count": 281,
   "metadata": {},
   "outputs": [],
   "source": [
    "X=train.drop('MERCHANT_CATEGORIZED_AS',axis=1)\n",
    "y=train['MERCHANT_CATEGORIZED_AS']"
   ]
  },
  {
   "cell_type": "code",
   "execution_count": 282,
   "metadata": {},
   "outputs": [
    {
     "name": "stdout",
     "output_type": "stream",
     "text": [
      "Fold 1 Accuracy: 2.0616630332417394\n",
      "Fold 2 Accuracy: 1.4723513166364057\n",
      "Fold 3 Accuracy: 1.570728906658591\n",
      "Fold 4 Accuracy: 1.456702705542506\n",
      "Fold 5 Accuracy: 1.3797573717642893\n"
     ]
    },
    {
     "data": {
      "text/plain": [
       "0.7941203333843532"
      ]
     },
     "execution_count": 282,
     "metadata": {},
     "output_type": "execute_result"
    }
   ],
   "source": [
    "from sklearn.model_selection import StratifiedKFold\n",
    "skf = StratifiedKFold(n_splits=5) \n",
    "y_pred_totcb=[]\n",
    "scores=0\n",
    "fold_no = 1\n",
    "for train_index, test_index in skf.split(X, y):\n",
    "    X_train, X_test = X.iloc[train_index], X.iloc[test_index]\n",
    "    y_train, y_test = y[train_index], y[test_index]\n",
    "    model = BalancedRandomForestClassifier(n_estimators=2500,max_depth=50,min_samples_split=2,min_samples_leaf=1,bootstrap=False, max_features=3)\n",
    "    model.fit(X_train,y_train)\n",
    "    predictions = model.predict_proba(X_test)\n",
    "    print('Fold',str(fold_no),'Accuracy:',log_loss(y_test,predictions, labels=model.classes_)) \n",
    "    fold_no += 1\n",
    "    y_pred_totcb.append(predictions)\n",
    "    scores+=log_loss(y_test,predictions, labels=model.classes_)\n",
    "scores/5"
   ]
  },
  {
   "cell_type": "code",
   "execution_count": 283,
   "metadata": {},
   "outputs": [
    {
     "data": {
      "text/plain": [
       "1.5882406667687063"
      ]
     },
     "execution_count": 283,
     "metadata": {},
     "output_type": "execute_result"
    }
   ],
   "source": [
    "0.7941203333843532*2"
   ]
  },
  {
   "cell_type": "code",
   "execution_count": 284,
   "metadata": {},
   "outputs": [],
   "source": [
    "# # Split the training data\n",
    "\n",
    "X_train, X_val, y_train, y_val = train_test_split(X, y, test_size=0.1, random_state=101)"
   ]
  },
  {
   "cell_type": "code",
   "execution_count": 287,
   "metadata": {},
   "outputs": [
    {
     "name": "stdout",
     "output_type": "stream",
     "text": [
      "ACCURACY OF THE MODEL:  1.9683286180161417\n"
     ]
    }
   ],
   "source": [
    "from sklearn.ensemble import RandomForestClassifier\n",
    "from imblearn.ensemble import BalancedRandomForestClassifier\n",
    "\n",
    "# Creating a RF classifier\n",
    "clf = BalancedRandomForestClassifier(n_estimators=2500,max_depth=50,min_samples_split=2,min_samples_leaf=1,bootstrap=False, max_features=3)\n",
    " \n",
    "# Training the model on the training dataset\n",
    "clf.fit(X_train, y_train)\n",
    " \n",
    "# Performing predictions on the test dataset\n",
    "y_pred = clf.predict_proba(X_val)\n",
    "\n",
    "# Calculate accuracy\n",
    "print(\"ACCURACY OF THE MODEL: \", log_loss(y_val, y_pred, labels=clf.classes_))\n",
    "\n",
    "# Classification report\n",
    "#print(classification_report(y_val, y_pred))"
   ]
  },
  {
   "cell_type": "code",
   "execution_count": 1298,
   "metadata": {},
   "outputs": [
    {
     "data": {
      "text/plain": [
       "BalancedRandomForestClassifier(bootstrap=False, max_depth=20, max_features=3,\n",
       "                               n_estimators=1800)"
      ]
     },
     "execution_count": 1298,
     "metadata": {},
     "output_type": "execute_result"
    }
   ],
   "source": [
    "clf = BalancedRandomForestClassifier(n_estimators=1800,max_depth=20,min_samples_split=2,min_samples_leaf=1,bootstrap=False, max_features=3)\n",
    " \n",
    "# Training the model on the training dataset\n",
    "clf.fit(X, y)"
   ]
  },
  {
   "cell_type": "markdown",
   "metadata": {
    "id": "XJnV9lsd2-s-"
   },
   "source": [
    "### 5. Making the first submission\n",
    "\n",
    "Let’s see how the model performs on the competition test data set provided and how we rank on the competition leaderboard.\n",
    "\n",
    "First we make predictions on the competition test data set."
   ]
  },
  {
   "cell_type": "code",
   "execution_count": 1074,
   "metadata": {},
   "outputs": [
    {
     "data": {
      "text/html": [
       "<div>\n",
       "<style scoped>\n",
       "    .dataframe tbody tr th:only-of-type {\n",
       "        vertical-align: middle;\n",
       "    }\n",
       "\n",
       "    .dataframe tbody tr th {\n",
       "        vertical-align: top;\n",
       "    }\n",
       "\n",
       "    .dataframe thead th {\n",
       "        text-align: right;\n",
       "    }\n",
       "</style>\n",
       "<table border=\"1\" class=\"dataframe\">\n",
       "  <thead>\n",
       "    <tr style=\"text-align: right;\">\n",
       "      <th></th>\n",
       "      <th>PURCHASE_VALUE</th>\n",
       "      <th>IS_PURCHASE_PAID_VIA_MPESA_SEND_MONEY</th>\n",
       "      <th>USER_AGE</th>\n",
       "      <th>USER_GENDER</th>\n",
       "      <th>USER_HOUSEHOLD</th>\n",
       "      <th>Month</th>\n",
       "      <th>Year</th>\n",
       "      <th>Day</th>\n",
       "      <th>partsM</th>\n",
       "      <th>SocialClass</th>\n",
       "      <th>purchaseIMP</th>\n",
       "    </tr>\n",
       "  </thead>\n",
       "  <tbody>\n",
       "    <tr>\n",
       "      <th>0</th>\n",
       "      <td>-0.178506</td>\n",
       "      <td>0</td>\n",
       "      <td>25.0</td>\n",
       "      <td>0</td>\n",
       "      <td>3</td>\n",
       "      <td>5</td>\n",
       "      <td>22</td>\n",
       "      <td>4</td>\n",
       "      <td>1</td>\n",
       "      <td>2</td>\n",
       "      <td>0</td>\n",
       "    </tr>\n",
       "    <tr>\n",
       "      <th>1</th>\n",
       "      <td>-0.280273</td>\n",
       "      <td>0</td>\n",
       "      <td>25.0</td>\n",
       "      <td>1</td>\n",
       "      <td>4</td>\n",
       "      <td>10</td>\n",
       "      <td>21</td>\n",
       "      <td>24</td>\n",
       "      <td>3</td>\n",
       "      <td>2</td>\n",
       "      <td>0</td>\n",
       "    </tr>\n",
       "    <tr>\n",
       "      <th>2</th>\n",
       "      <td>-0.285361</td>\n",
       "      <td>0</td>\n",
       "      <td>25.0</td>\n",
       "      <td>0</td>\n",
       "      <td>3</td>\n",
       "      <td>5</td>\n",
       "      <td>22</td>\n",
       "      <td>27</td>\n",
       "      <td>2</td>\n",
       "      <td>2</td>\n",
       "      <td>0</td>\n",
       "    </tr>\n",
       "    <tr>\n",
       "      <th>3</th>\n",
       "      <td>-0.044938</td>\n",
       "      <td>0</td>\n",
       "      <td>25.0</td>\n",
       "      <td>0</td>\n",
       "      <td>5</td>\n",
       "      <td>2</td>\n",
       "      <td>22</td>\n",
       "      <td>7</td>\n",
       "      <td>3</td>\n",
       "      <td>1</td>\n",
       "      <td>0</td>\n",
       "    </tr>\n",
       "    <tr>\n",
       "      <th>4</th>\n",
       "      <td>-0.282817</td>\n",
       "      <td>0</td>\n",
       "      <td>25.0</td>\n",
       "      <td>0</td>\n",
       "      <td>3</td>\n",
       "      <td>5</td>\n",
       "      <td>22</td>\n",
       "      <td>4</td>\n",
       "      <td>1</td>\n",
       "      <td>2</td>\n",
       "      <td>0</td>\n",
       "    </tr>\n",
       "    <tr>\n",
       "      <th>...</th>\n",
       "      <td>...</td>\n",
       "      <td>...</td>\n",
       "      <td>...</td>\n",
       "      <td>...</td>\n",
       "      <td>...</td>\n",
       "      <td>...</td>\n",
       "      <td>...</td>\n",
       "      <td>...</td>\n",
       "      <td>...</td>\n",
       "      <td>...</td>\n",
       "      <td>...</td>\n",
       "    </tr>\n",
       "    <tr>\n",
       "      <th>368</th>\n",
       "      <td>-0.254831</td>\n",
       "      <td>1</td>\n",
       "      <td>27.0</td>\n",
       "      <td>1</td>\n",
       "      <td>2</td>\n",
       "      <td>8</td>\n",
       "      <td>21</td>\n",
       "      <td>26</td>\n",
       "      <td>2</td>\n",
       "      <td>2</td>\n",
       "      <td>0</td>\n",
       "    </tr>\n",
       "    <tr>\n",
       "      <th>369</th>\n",
       "      <td>-0.261192</td>\n",
       "      <td>1</td>\n",
       "      <td>25.0</td>\n",
       "      <td>0</td>\n",
       "      <td>5</td>\n",
       "      <td>4</td>\n",
       "      <td>22</td>\n",
       "      <td>3</td>\n",
       "      <td>1</td>\n",
       "      <td>1</td>\n",
       "      <td>0</td>\n",
       "    </tr>\n",
       "    <tr>\n",
       "      <th>370</th>\n",
       "      <td>-0.254831</td>\n",
       "      <td>0</td>\n",
       "      <td>25.0</td>\n",
       "      <td>0</td>\n",
       "      <td>3</td>\n",
       "      <td>1</td>\n",
       "      <td>21</td>\n",
       "      <td>15</td>\n",
       "      <td>3</td>\n",
       "      <td>2</td>\n",
       "      <td>0</td>\n",
       "    </tr>\n",
       "    <tr>\n",
       "      <th>371</th>\n",
       "      <td>0.603824</td>\n",
       "      <td>1</td>\n",
       "      <td>25.0</td>\n",
       "      <td>1</td>\n",
       "      <td>4</td>\n",
       "      <td>10</td>\n",
       "      <td>21</td>\n",
       "      <td>8</td>\n",
       "      <td>3</td>\n",
       "      <td>2</td>\n",
       "      <td>0</td>\n",
       "    </tr>\n",
       "    <tr>\n",
       "      <th>372</th>\n",
       "      <td>-0.282817</td>\n",
       "      <td>0</td>\n",
       "      <td>25.0</td>\n",
       "      <td>0</td>\n",
       "      <td>5</td>\n",
       "      <td>3</td>\n",
       "      <td>22</td>\n",
       "      <td>22</td>\n",
       "      <td>3</td>\n",
       "      <td>1</td>\n",
       "      <td>0</td>\n",
       "    </tr>\n",
       "  </tbody>\n",
       "</table>\n",
       "<p>373 rows × 11 columns</p>\n",
       "</div>"
      ],
      "text/plain": [
       "     PURCHASE_VALUE  IS_PURCHASE_PAID_VIA_MPESA_SEND_MONEY  USER_AGE  \\\n",
       "0         -0.178506                                      0      25.0   \n",
       "1         -0.280273                                      0      25.0   \n",
       "2         -0.285361                                      0      25.0   \n",
       "3         -0.044938                                      0      25.0   \n",
       "4         -0.282817                                      0      25.0   \n",
       "..              ...                                    ...       ...   \n",
       "368       -0.254831                                      1      27.0   \n",
       "369       -0.261192                                      1      25.0   \n",
       "370       -0.254831                                      0      25.0   \n",
       "371        0.603824                                      1      25.0   \n",
       "372       -0.282817                                      0      25.0   \n",
       "\n",
       "     USER_GENDER  USER_HOUSEHOLD  Month  Year  Day  partsM  SocialClass  \\\n",
       "0              0               3      5    22    4       1            2   \n",
       "1              1               4     10    21   24       3            2   \n",
       "2              0               3      5    22   27       2            2   \n",
       "3              0               5      2    22    7       3            1   \n",
       "4              0               3      5    22    4       1            2   \n",
       "..           ...             ...    ...   ...  ...     ...          ...   \n",
       "368            1               2      8    21   26       2            2   \n",
       "369            0               5      4    22    3       1            1   \n",
       "370            0               3      1    21   15       3            2   \n",
       "371            1               4     10    21    8       3            2   \n",
       "372            0               5      3    22   22       3            1   \n",
       "\n",
       "     purchaseIMP  \n",
       "0              0  \n",
       "1              0  \n",
       "2              0  \n",
       "3              0  \n",
       "4              0  \n",
       "..           ...  \n",
       "368            0  \n",
       "369            0  \n",
       "370            0  \n",
       "371            0  \n",
       "372            0  \n",
       "\n",
       "[373 rows x 11 columns]"
      ]
     },
     "execution_count": 1074,
     "metadata": {},
     "output_type": "execute_result"
    }
   ],
   "source": [
    "X"
   ]
  },
  {
   "cell_type": "code",
   "execution_count": 1254,
   "metadata": {},
   "outputs": [
    {
     "data": {
      "text/plain": [
       "1     78\n",
       "7     50\n",
       "2     43\n",
       "10    43\n",
       "5     41\n",
       "6     41\n",
       "13    29\n",
       "12    21\n",
       "4     12\n",
       "8      6\n",
       "9      5\n",
       "11     2\n",
       "3      2\n",
       "Name: MERCHANT_CATEGORIZED_AS, dtype: int64"
      ]
     },
     "execution_count": 1254,
     "metadata": {},
     "output_type": "execute_result"
    }
   ],
   "source": [
    "train['MERCHANT_CATEGORIZED_AS'].value_counts()"
   ]
  },
  {
   "cell_type": "code",
   "execution_count": 288,
   "metadata": {
    "scrolled": true
   },
   "outputs": [
    {
     "data": {
      "text/html": [
       "<div>\n",
       "<style scoped>\n",
       "    .dataframe tbody tr th:only-of-type {\n",
       "        vertical-align: middle;\n",
       "    }\n",
       "\n",
       "    .dataframe tbody tr th {\n",
       "        vertical-align: top;\n",
       "    }\n",
       "\n",
       "    .dataframe thead th {\n",
       "        text-align: right;\n",
       "    }\n",
       "</style>\n",
       "<table border=\"1\" class=\"dataframe\">\n",
       "  <thead>\n",
       "    <tr style=\"text-align: right;\">\n",
       "      <th></th>\n",
       "      <th>PURCHASE_VALUE</th>\n",
       "      <th>IS_PURCHASE_PAID_VIA_MPESA_SEND_MONEY</th>\n",
       "      <th>USER_AGE</th>\n",
       "      <th>USER_GENDER</th>\n",
       "      <th>USER_HOUSEHOLD</th>\n",
       "      <th>USER_INCOME</th>\n",
       "      <th>Transaction_ID</th>\n",
       "      <th>Month</th>\n",
       "      <th>Year</th>\n",
       "      <th>Day</th>\n",
       "      <th>partsM</th>\n",
       "      <th>SocialClass</th>\n",
       "      <th>purchaseIMP</th>\n",
       "    </tr>\n",
       "  </thead>\n",
       "  <tbody>\n",
       "    <tr>\n",
       "      <th>0</th>\n",
       "      <td>10.098990</td>\n",
       "      <td>1</td>\n",
       "      <td>25.0</td>\n",
       "      <td>0</td>\n",
       "      <td>5</td>\n",
       "      <td>150000</td>\n",
       "      <td>ID_00x9h2yx</td>\n",
       "      <td>5</td>\n",
       "      <td>22</td>\n",
       "      <td>5</td>\n",
       "      <td>1</td>\n",
       "      <td>2</td>\n",
       "      <td>2</td>\n",
       "    </tr>\n",
       "    <tr>\n",
       "      <th>1</th>\n",
       "      <td>0.219558</td>\n",
       "      <td>0</td>\n",
       "      <td>25.0</td>\n",
       "      <td>1</td>\n",
       "      <td>1</td>\n",
       "      <td>10000</td>\n",
       "      <td>ID_01db594f</td>\n",
       "      <td>10</td>\n",
       "      <td>19</td>\n",
       "      <td>5</td>\n",
       "      <td>1</td>\n",
       "      <td>2</td>\n",
       "      <td>0</td>\n",
       "    </tr>\n",
       "    <tr>\n",
       "      <th>2</th>\n",
       "      <td>-0.278826</td>\n",
       "      <td>0</td>\n",
       "      <td>25.0</td>\n",
       "      <td>1</td>\n",
       "      <td>1</td>\n",
       "      <td>85000</td>\n",
       "      <td>ID_07pm99no</td>\n",
       "      <td>11</td>\n",
       "      <td>21</td>\n",
       "      <td>25</td>\n",
       "      <td>3</td>\n",
       "      <td>2</td>\n",
       "      <td>0</td>\n",
       "    </tr>\n",
       "    <tr>\n",
       "      <th>3</th>\n",
       "      <td>-0.289218</td>\n",
       "      <td>0</td>\n",
       "      <td>25.0</td>\n",
       "      <td>0</td>\n",
       "      <td>2</td>\n",
       "      <td>10000</td>\n",
       "      <td>ID_09jryhkd</td>\n",
       "      <td>4</td>\n",
       "      <td>22</td>\n",
       "      <td>11</td>\n",
       "      <td>3</td>\n",
       "      <td>2</td>\n",
       "      <td>0</td>\n",
       "    </tr>\n",
       "    <tr>\n",
       "      <th>4</th>\n",
       "      <td>0.400096</td>\n",
       "      <td>0</td>\n",
       "      <td>25.0</td>\n",
       "      <td>0</td>\n",
       "      <td>3</td>\n",
       "      <td>10000</td>\n",
       "      <td>ID_0ccv924c</td>\n",
       "      <td>5</td>\n",
       "      <td>22</td>\n",
       "      <td>4</td>\n",
       "      <td>1</td>\n",
       "      <td>2</td>\n",
       "      <td>0</td>\n",
       "    </tr>\n",
       "    <tr>\n",
       "      <th>...</th>\n",
       "      <td>...</td>\n",
       "      <td>...</td>\n",
       "      <td>...</td>\n",
       "      <td>...</td>\n",
       "      <td>...</td>\n",
       "      <td>...</td>\n",
       "      <td>...</td>\n",
       "      <td>...</td>\n",
       "      <td>...</td>\n",
       "      <td>...</td>\n",
       "      <td>...</td>\n",
       "      <td>...</td>\n",
       "      <td>...</td>\n",
       "    </tr>\n",
       "    <tr>\n",
       "      <th>553</th>\n",
       "      <td>0.164967</td>\n",
       "      <td>0</td>\n",
       "      <td>25.0</td>\n",
       "      <td>0</td>\n",
       "      <td>3</td>\n",
       "      <td>200000</td>\n",
       "      <td>ID_zvole537</td>\n",
       "      <td>11</td>\n",
       "      <td>21</td>\n",
       "      <td>27</td>\n",
       "      <td>2</td>\n",
       "      <td>2</td>\n",
       "      <td>0</td>\n",
       "    </tr>\n",
       "    <tr>\n",
       "      <th>554</th>\n",
       "      <td>-0.228392</td>\n",
       "      <td>1</td>\n",
       "      <td>25.0</td>\n",
       "      <td>0</td>\n",
       "      <td>5</td>\n",
       "      <td>252000</td>\n",
       "      <td>ID_zy4igt1w</td>\n",
       "      <td>1</td>\n",
       "      <td>22</td>\n",
       "      <td>25</td>\n",
       "      <td>3</td>\n",
       "      <td>1</td>\n",
       "      <td>0</td>\n",
       "    </tr>\n",
       "    <tr>\n",
       "      <th>555</th>\n",
       "      <td>-0.290603</td>\n",
       "      <td>0</td>\n",
       "      <td>25.0</td>\n",
       "      <td>0</td>\n",
       "      <td>5</td>\n",
       "      <td>252000</td>\n",
       "      <td>ID_zy4urqmq</td>\n",
       "      <td>2</td>\n",
       "      <td>22</td>\n",
       "      <td>10</td>\n",
       "      <td>3</td>\n",
       "      <td>1</td>\n",
       "      <td>0</td>\n",
       "    </tr>\n",
       "    <tr>\n",
       "      <th>556</th>\n",
       "      <td>3.171209</td>\n",
       "      <td>1</td>\n",
       "      <td>25.0</td>\n",
       "      <td>1</td>\n",
       "      <td>3</td>\n",
       "      <td>85000</td>\n",
       "      <td>ID_zym0pkxl</td>\n",
       "      <td>9</td>\n",
       "      <td>19</td>\n",
       "      <td>7</td>\n",
       "      <td>3</td>\n",
       "      <td>2</td>\n",
       "      <td>1</td>\n",
       "    </tr>\n",
       "    <tr>\n",
       "      <th>557</th>\n",
       "      <td>0.857330</td>\n",
       "      <td>0</td>\n",
       "      <td>25.0</td>\n",
       "      <td>0</td>\n",
       "      <td>5</td>\n",
       "      <td>252000</td>\n",
       "      <td>ID_zz7zds1s</td>\n",
       "      <td>1</td>\n",
       "      <td>22</td>\n",
       "      <td>25</td>\n",
       "      <td>3</td>\n",
       "      <td>1</td>\n",
       "      <td>0</td>\n",
       "    </tr>\n",
       "  </tbody>\n",
       "</table>\n",
       "<p>558 rows × 13 columns</p>\n",
       "</div>"
      ],
      "text/plain": [
       "     PURCHASE_VALUE  IS_PURCHASE_PAID_VIA_MPESA_SEND_MONEY  USER_AGE  \\\n",
       "0         10.098990                                      1      25.0   \n",
       "1          0.219558                                      0      25.0   \n",
       "2         -0.278826                                      0      25.0   \n",
       "3         -0.289218                                      0      25.0   \n",
       "4          0.400096                                      0      25.0   \n",
       "..              ...                                    ...       ...   \n",
       "553        0.164967                                      0      25.0   \n",
       "554       -0.228392                                      1      25.0   \n",
       "555       -0.290603                                      0      25.0   \n",
       "556        3.171209                                      1      25.0   \n",
       "557        0.857330                                      0      25.0   \n",
       "\n",
       "     USER_GENDER  USER_HOUSEHOLD  USER_INCOME Transaction_ID  Month  Year  \\\n",
       "0              0               5       150000    ID_00x9h2yx      5    22   \n",
       "1              1               1        10000    ID_01db594f     10    19   \n",
       "2              1               1        85000    ID_07pm99no     11    21   \n",
       "3              0               2        10000    ID_09jryhkd      4    22   \n",
       "4              0               3        10000    ID_0ccv924c      5    22   \n",
       "..           ...             ...          ...            ...    ...   ...   \n",
       "553            0               3       200000    ID_zvole537     11    21   \n",
       "554            0               5       252000    ID_zy4igt1w      1    22   \n",
       "555            0               5       252000    ID_zy4urqmq      2    22   \n",
       "556            1               3        85000    ID_zym0pkxl      9    19   \n",
       "557            0               5       252000    ID_zz7zds1s      1    22   \n",
       "\n",
       "     Day  partsM  SocialClass  purchaseIMP  \n",
       "0      5       1            2            2  \n",
       "1      5       1            2            0  \n",
       "2     25       3            2            0  \n",
       "3     11       3            2            0  \n",
       "4      4       1            2            0  \n",
       "..   ...     ...          ...          ...  \n",
       "553   27       2            2            0  \n",
       "554   25       3            1            0  \n",
       "555   10       3            1            0  \n",
       "556    7       3            2            1  \n",
       "557   25       3            1            0  \n",
       "\n",
       "[558 rows x 13 columns]"
      ]
     },
     "execution_count": 288,
     "metadata": {},
     "output_type": "execute_result"
    }
   ],
   "source": [
    "#test=test.fillna(0)\n",
    "test"
   ]
  },
  {
   "cell_type": "code",
   "execution_count": 290,
   "metadata": {},
   "outputs": [],
   "source": [
    "test=test.drop('USER_INCOME',axis=1)"
   ]
  },
  {
   "cell_type": "code",
   "execution_count": 291,
   "metadata": {
    "id": "LoH4zhJb3EV4"
   },
   "outputs": [],
   "source": [
    "# Get the predicted result for the test Data\n",
    "predictions = clf.predict_proba(test.drop(\"Transaction_ID\", axis=1))"
   ]
  },
  {
   "cell_type": "code",
   "execution_count": 1,
   "metadata": {},
   "outputs": [
    {
     "ename": "NameError",
     "evalue": "name 'test' is not defined",
     "output_type": "error",
     "traceback": [
      "\u001b[1;31m---------------------------------------------------------------------------\u001b[0m",
      "\u001b[1;31mNameError\u001b[0m                                 Traceback (most recent call last)",
      "\u001b[1;32mC:\\Users\\ATLASP~1\\AppData\\Local\\Temp/ipykernel_17988/2074824509.py\u001b[0m in \u001b[0;36m<module>\u001b[1;34m\u001b[0m\n\u001b[1;32m----> 1\u001b[1;33m \u001b[0mtest\u001b[0m\u001b[1;33m\u001b[0m\u001b[1;33m\u001b[0m\u001b[0m\n\u001b[0m",
      "\u001b[1;31mNameError\u001b[0m: name 'test' is not defined"
     ]
    }
   ],
   "source": [
    "test"
   ]
  },
  {
   "cell_type": "code",
   "execution_count": 293,
   "metadata": {},
   "outputs": [],
   "source": [
    "prdd=pd.DataFrame(predictions,columns=labels_train)"
   ]
  },
  {
   "cell_type": "code",
   "execution_count": 294,
   "metadata": {},
   "outputs": [],
   "source": [
    "prdd['Transaction_ID']=test['Transaction_ID']"
   ]
  },
  {
   "cell_type": "code",
   "execution_count": 295,
   "metadata": {},
   "outputs": [],
   "source": [
    "sub=prdd"
   ]
  },
  {
   "cell_type": "code",
   "execution_count": 296,
   "metadata": {},
   "outputs": [],
   "source": [
    "first_column = prdd.pop('Transaction_ID')\n",
    "  \n",
    "# insert column using insert(position,column_name,\n",
    "# first_column) function\n",
    "prdd.insert(0, 'Transaction_ID', first_column)"
   ]
  },
  {
   "cell_type": "code",
   "execution_count": 297,
   "metadata": {},
   "outputs": [
    {
     "data": {
      "text/html": [
       "<div>\n",
       "<style scoped>\n",
       "    .dataframe tbody tr th:only-of-type {\n",
       "        vertical-align: middle;\n",
       "    }\n",
       "\n",
       "    .dataframe tbody tr th {\n",
       "        vertical-align: top;\n",
       "    }\n",
       "\n",
       "    .dataframe thead th {\n",
       "        text-align: right;\n",
       "    }\n",
       "</style>\n",
       "<table border=\"1\" class=\"dataframe\">\n",
       "  <thead>\n",
       "    <tr style=\"text-align: right;\">\n",
       "      <th></th>\n",
       "      <th>Transaction_ID</th>\n",
       "      <th>Bills &amp; Fees</th>\n",
       "      <th>Data &amp; WiFi</th>\n",
       "      <th>Education</th>\n",
       "      <th>Emergency fund</th>\n",
       "      <th>Family &amp; Friends</th>\n",
       "      <th>Going out</th>\n",
       "      <th>Groceries</th>\n",
       "      <th>Health</th>\n",
       "      <th>Loan Repayment</th>\n",
       "      <th>Miscellaneous</th>\n",
       "      <th>Rent / Mortgage</th>\n",
       "      <th>Shopping</th>\n",
       "      <th>Transport &amp; Fuel</th>\n",
       "    </tr>\n",
       "  </thead>\n",
       "  <tbody>\n",
       "    <tr>\n",
       "      <th>0</th>\n",
       "      <td>ID_00x9h2yx</td>\n",
       "      <td>0.3356</td>\n",
       "      <td>0.0860</td>\n",
       "      <td>0.0348</td>\n",
       "      <td>0.1164</td>\n",
       "      <td>0.1928</td>\n",
       "      <td>0.0080</td>\n",
       "      <td>0.0064</td>\n",
       "      <td>0.0000</td>\n",
       "      <td>0.0152</td>\n",
       "      <td>0.0588</td>\n",
       "      <td>0.0224</td>\n",
       "      <td>0.1020</td>\n",
       "      <td>0.0216</td>\n",
       "    </tr>\n",
       "    <tr>\n",
       "      <th>1</th>\n",
       "      <td>ID_01db594f</td>\n",
       "      <td>0.0464</td>\n",
       "      <td>0.0652</td>\n",
       "      <td>0.0056</td>\n",
       "      <td>0.1216</td>\n",
       "      <td>0.0632</td>\n",
       "      <td>0.4448</td>\n",
       "      <td>0.1430</td>\n",
       "      <td>0.0044</td>\n",
       "      <td>0.0016</td>\n",
       "      <td>0.0332</td>\n",
       "      <td>0.0180</td>\n",
       "      <td>0.0272</td>\n",
       "      <td>0.0258</td>\n",
       "    </tr>\n",
       "    <tr>\n",
       "      <th>2</th>\n",
       "      <td>ID_07pm99no</td>\n",
       "      <td>0.0048</td>\n",
       "      <td>0.0096</td>\n",
       "      <td>0.0000</td>\n",
       "      <td>0.0024</td>\n",
       "      <td>0.0040</td>\n",
       "      <td>0.1828</td>\n",
       "      <td>0.0564</td>\n",
       "      <td>0.0580</td>\n",
       "      <td>0.0000</td>\n",
       "      <td>0.0420</td>\n",
       "      <td>0.0000</td>\n",
       "      <td>0.4972</td>\n",
       "      <td>0.1428</td>\n",
       "    </tr>\n",
       "    <tr>\n",
       "      <th>3</th>\n",
       "      <td>ID_09jryhkd</td>\n",
       "      <td>0.0854</td>\n",
       "      <td>0.4372</td>\n",
       "      <td>0.0000</td>\n",
       "      <td>0.0088</td>\n",
       "      <td>0.0134</td>\n",
       "      <td>0.1464</td>\n",
       "      <td>0.0056</td>\n",
       "      <td>0.0000</td>\n",
       "      <td>0.0012</td>\n",
       "      <td>0.2904</td>\n",
       "      <td>0.0020</td>\n",
       "      <td>0.0016</td>\n",
       "      <td>0.0080</td>\n",
       "    </tr>\n",
       "    <tr>\n",
       "      <th>4</th>\n",
       "      <td>ID_0ccv924c</td>\n",
       "      <td>0.0980</td>\n",
       "      <td>0.0624</td>\n",
       "      <td>0.0128</td>\n",
       "      <td>0.0728</td>\n",
       "      <td>0.0204</td>\n",
       "      <td>0.0688</td>\n",
       "      <td>0.0676</td>\n",
       "      <td>0.0000</td>\n",
       "      <td>0.0028</td>\n",
       "      <td>0.0092</td>\n",
       "      <td>0.5156</td>\n",
       "      <td>0.0420</td>\n",
       "      <td>0.0276</td>\n",
       "    </tr>\n",
       "    <tr>\n",
       "      <th>...</th>\n",
       "      <td>...</td>\n",
       "      <td>...</td>\n",
       "      <td>...</td>\n",
       "      <td>...</td>\n",
       "      <td>...</td>\n",
       "      <td>...</td>\n",
       "      <td>...</td>\n",
       "      <td>...</td>\n",
       "      <td>...</td>\n",
       "      <td>...</td>\n",
       "      <td>...</td>\n",
       "      <td>...</td>\n",
       "      <td>...</td>\n",
       "      <td>...</td>\n",
       "    </tr>\n",
       "    <tr>\n",
       "      <th>553</th>\n",
       "      <td>ID_zvole537</td>\n",
       "      <td>0.0168</td>\n",
       "      <td>0.0044</td>\n",
       "      <td>0.0052</td>\n",
       "      <td>0.0248</td>\n",
       "      <td>0.0188</td>\n",
       "      <td>0.2352</td>\n",
       "      <td>0.4524</td>\n",
       "      <td>0.0180</td>\n",
       "      <td>0.0004</td>\n",
       "      <td>0.0004</td>\n",
       "      <td>0.0064</td>\n",
       "      <td>0.0288</td>\n",
       "      <td>0.1884</td>\n",
       "    </tr>\n",
       "    <tr>\n",
       "      <th>554</th>\n",
       "      <td>ID_zy4igt1w</td>\n",
       "      <td>0.0608</td>\n",
       "      <td>0.1944</td>\n",
       "      <td>0.0008</td>\n",
       "      <td>0.0004</td>\n",
       "      <td>0.5608</td>\n",
       "      <td>0.0484</td>\n",
       "      <td>0.0044</td>\n",
       "      <td>0.0000</td>\n",
       "      <td>0.0068</td>\n",
       "      <td>0.0032</td>\n",
       "      <td>0.0000</td>\n",
       "      <td>0.0032</td>\n",
       "      <td>0.1168</td>\n",
       "    </tr>\n",
       "    <tr>\n",
       "      <th>555</th>\n",
       "      <td>ID_zy4urqmq</td>\n",
       "      <td>0.0176</td>\n",
       "      <td>0.1580</td>\n",
       "      <td>0.0036</td>\n",
       "      <td>0.0000</td>\n",
       "      <td>0.0016</td>\n",
       "      <td>0.2652</td>\n",
       "      <td>0.0136</td>\n",
       "      <td>0.0032</td>\n",
       "      <td>0.0624</td>\n",
       "      <td>0.0664</td>\n",
       "      <td>0.0036</td>\n",
       "      <td>0.0120</td>\n",
       "      <td>0.3928</td>\n",
       "    </tr>\n",
       "    <tr>\n",
       "      <th>556</th>\n",
       "      <td>ID_zym0pkxl</td>\n",
       "      <td>0.2848</td>\n",
       "      <td>0.0864</td>\n",
       "      <td>0.0096</td>\n",
       "      <td>0.0352</td>\n",
       "      <td>0.3700</td>\n",
       "      <td>0.0204</td>\n",
       "      <td>0.0236</td>\n",
       "      <td>0.0000</td>\n",
       "      <td>0.0020</td>\n",
       "      <td>0.0384</td>\n",
       "      <td>0.0476</td>\n",
       "      <td>0.0684</td>\n",
       "      <td>0.0136</td>\n",
       "    </tr>\n",
       "    <tr>\n",
       "      <th>557</th>\n",
       "      <td>ID_zz7zds1s</td>\n",
       "      <td>0.0020</td>\n",
       "      <td>0.0976</td>\n",
       "      <td>0.0204</td>\n",
       "      <td>0.0044</td>\n",
       "      <td>0.0632</td>\n",
       "      <td>0.0412</td>\n",
       "      <td>0.0456</td>\n",
       "      <td>0.0012</td>\n",
       "      <td>0.2700</td>\n",
       "      <td>0.0032</td>\n",
       "      <td>0.0008</td>\n",
       "      <td>0.1284</td>\n",
       "      <td>0.3220</td>\n",
       "    </tr>\n",
       "  </tbody>\n",
       "</table>\n",
       "<p>558 rows × 14 columns</p>\n",
       "</div>"
      ],
      "text/plain": [
       "    Transaction_ID  Bills & Fees  Data & WiFi  Education  Emergency fund  \\\n",
       "0      ID_00x9h2yx        0.3356       0.0860     0.0348          0.1164   \n",
       "1      ID_01db594f        0.0464       0.0652     0.0056          0.1216   \n",
       "2      ID_07pm99no        0.0048       0.0096     0.0000          0.0024   \n",
       "3      ID_09jryhkd        0.0854       0.4372     0.0000          0.0088   \n",
       "4      ID_0ccv924c        0.0980       0.0624     0.0128          0.0728   \n",
       "..             ...           ...          ...        ...             ...   \n",
       "553    ID_zvole537        0.0168       0.0044     0.0052          0.0248   \n",
       "554    ID_zy4igt1w        0.0608       0.1944     0.0008          0.0004   \n",
       "555    ID_zy4urqmq        0.0176       0.1580     0.0036          0.0000   \n",
       "556    ID_zym0pkxl        0.2848       0.0864     0.0096          0.0352   \n",
       "557    ID_zz7zds1s        0.0020       0.0976     0.0204          0.0044   \n",
       "\n",
       "     Family & Friends  Going out  Groceries  Health  Loan Repayment  \\\n",
       "0              0.1928     0.0080     0.0064  0.0000          0.0152   \n",
       "1              0.0632     0.4448     0.1430  0.0044          0.0016   \n",
       "2              0.0040     0.1828     0.0564  0.0580          0.0000   \n",
       "3              0.0134     0.1464     0.0056  0.0000          0.0012   \n",
       "4              0.0204     0.0688     0.0676  0.0000          0.0028   \n",
       "..                ...        ...        ...     ...             ...   \n",
       "553            0.0188     0.2352     0.4524  0.0180          0.0004   \n",
       "554            0.5608     0.0484     0.0044  0.0000          0.0068   \n",
       "555            0.0016     0.2652     0.0136  0.0032          0.0624   \n",
       "556            0.3700     0.0204     0.0236  0.0000          0.0020   \n",
       "557            0.0632     0.0412     0.0456  0.0012          0.2700   \n",
       "\n",
       "     Miscellaneous  Rent / Mortgage  Shopping  Transport & Fuel  \n",
       "0           0.0588           0.0224    0.1020            0.0216  \n",
       "1           0.0332           0.0180    0.0272            0.0258  \n",
       "2           0.0420           0.0000    0.4972            0.1428  \n",
       "3           0.2904           0.0020    0.0016            0.0080  \n",
       "4           0.0092           0.5156    0.0420            0.0276  \n",
       "..             ...              ...       ...               ...  \n",
       "553         0.0004           0.0064    0.0288            0.1884  \n",
       "554         0.0032           0.0000    0.0032            0.1168  \n",
       "555         0.0664           0.0036    0.0120            0.3928  \n",
       "556         0.0384           0.0476    0.0684            0.0136  \n",
       "557         0.0032           0.0008    0.1284            0.3220  \n",
       "\n",
       "[558 rows x 14 columns]"
      ]
     },
     "execution_count": 297,
     "metadata": {},
     "output_type": "execute_result"
    }
   ],
   "source": [
    "sub"
   ]
  },
  {
   "cell_type": "code",
   "execution_count": 544,
   "metadata": {},
   "outputs": [
    {
     "name": "stdout",
     "output_type": "stream",
     "text": [
      "{1: 'Bills & Fees', 2: 'Data & WiFi', 3: 'Education', 4: 'Emergency fund', 5: 'Family & Friends', 6: 'Going out', 7: 'Groceries', 8: 'Health', 9: 'Loan Repayment', 10: 'Miscellaneous', 11: 'Rent / Mortgage', 12: 'Shopping', 13: 'Transport & Fuel'}\n"
     ]
    }
   ],
   "source": [
    "replace_map_train=replace_map_train['MERCHANT_CATEGORIZED_AS']\n",
    "replace_map_train = {v: k for k, v in replace_map_train.items()}\n",
    "print(replace_map_train)"
   ]
  },
  {
   "cell_type": "code",
   "execution_count": 545,
   "metadata": {},
   "outputs": [],
   "source": [
    "#replace_map_train"
   ]
  },
  {
   "cell_type": "code",
   "execution_count": 546,
   "metadata": {},
   "outputs": [],
   "source": [
    "#replace_map_train.values()"
   ]
  },
  {
   "cell_type": "code",
   "execution_count": 547,
   "metadata": {},
   "outputs": [
    {
     "data": {
      "text/html": [
       "<div>\n",
       "<style scoped>\n",
       "    .dataframe tbody tr th:only-of-type {\n",
       "        vertical-align: middle;\n",
       "    }\n",
       "\n",
       "    .dataframe tbody tr th {\n",
       "        vertical-align: top;\n",
       "    }\n",
       "\n",
       "    .dataframe thead th {\n",
       "        text-align: right;\n",
       "    }\n",
       "</style>\n",
       "<table border=\"1\" class=\"dataframe\">\n",
       "  <thead>\n",
       "    <tr style=\"text-align: right;\">\n",
       "      <th></th>\n",
       "      <th>Transaction_ID</th>\n",
       "      <th>predictions</th>\n",
       "    </tr>\n",
       "  </thead>\n",
       "  <tbody>\n",
       "    <tr>\n",
       "      <th>0</th>\n",
       "      <td>ID_00x9h2yx</td>\n",
       "      <td>1</td>\n",
       "    </tr>\n",
       "    <tr>\n",
       "      <th>1</th>\n",
       "      <td>ID_01db594f</td>\n",
       "      <td>6</td>\n",
       "    </tr>\n",
       "    <tr>\n",
       "      <th>2</th>\n",
       "      <td>ID_07pm99no</td>\n",
       "      <td>12</td>\n",
       "    </tr>\n",
       "    <tr>\n",
       "      <th>3</th>\n",
       "      <td>ID_09jryhkd</td>\n",
       "      <td>2</td>\n",
       "    </tr>\n",
       "    <tr>\n",
       "      <th>4</th>\n",
       "      <td>ID_0ccv924c</td>\n",
       "      <td>11</td>\n",
       "    </tr>\n",
       "  </tbody>\n",
       "</table>\n",
       "</div>"
      ],
      "text/plain": [
       "  Transaction_ID  predictions\n",
       "0    ID_00x9h2yx            1\n",
       "1    ID_01db594f            6\n",
       "2    ID_07pm99no           12\n",
       "3    ID_09jryhkd            2\n",
       "4    ID_0ccv924c           11"
      ]
     },
     "execution_count": 547,
     "metadata": {},
     "output_type": "execute_result"
    }
   ],
   "source": [
    "test[[\"Transaction_ID\",  \"predictions\"]].head()"
   ]
  },
  {
   "cell_type": "code",
   "execution_count": 548,
   "metadata": {},
   "outputs": [],
   "source": [
    "test['predictions']=test['predictions'].apply(lambda x: replace_map_train[x])"
   ]
  },
  {
   "cell_type": "code",
   "execution_count": 549,
   "metadata": {},
   "outputs": [
    {
     "data": {
      "text/plain": [
       "13"
      ]
     },
     "execution_count": 549,
     "metadata": {},
     "output_type": "execute_result"
    }
   ],
   "source": [
    "test[[\"Transaction_ID\",  \"predictions\"]][\"predictions\"].nunique()"
   ]
  },
  {
   "cell_type": "markdown",
   "metadata": {},
   "source": [
    "- We need to convert our submissions to the sample submission format.\n",
    "\n",
    "- We also can see that our model is not doing so good, we only predicted 11 categories instead of 13, for **log loss** to work we need to have **all the categories predicted**. Let's do a deep dive of which category is missing."
   ]
  },
  {
   "cell_type": "code",
   "execution_count": 550,
   "metadata": {},
   "outputs": [
    {
     "data": {
      "text/plain": [
       "array(['Bills & Fees', 'Going out', 'Shopping', 'Data & WiFi',\n",
       "       'Rent / Mortgage', 'Miscellaneous', 'Groceries',\n",
       "       'Family & Friends', 'Transport & Fuel', 'Emergency fund',\n",
       "       'Loan Repayment', 'Health', 'Education'], dtype=object)"
      ]
     },
     "execution_count": 550,
     "metadata": {},
     "output_type": "execute_result"
    }
   ],
   "source": [
    "test[[\"Transaction_ID\",  \"predictions\"]][\"predictions\"].unique()"
   ]
  },
  {
   "cell_type": "code",
   "execution_count": 285,
   "metadata": {},
   "outputs": [
    {
     "data": {
      "text/plain": [
       "['Bills & Fees',\n",
       " 'Data & WiFi',\n",
       " 'Education',\n",
       " 'Emergency fund',\n",
       " 'Family & Friends',\n",
       " 'Going out',\n",
       " 'Groceries',\n",
       " 'Health',\n",
       " 'Loan Repayment',\n",
       " 'Miscellaneous',\n",
       " 'Rent / Mortgage',\n",
       " 'Shopping',\n",
       " 'Transport & Fuel']"
      ]
     },
     "execution_count": 285,
     "metadata": {},
     "output_type": "execute_result"
    }
   ],
   "source": [
    "labels_train"
   ]
  },
  {
   "cell_type": "markdown",
   "metadata": {},
   "source": [
    "- **Education** and **Rent/Mortgage** is not predicted, from the graph provided earlier we also see that the education bar count is very small.\n",
    "\n",
    "**Note** this is only for demotration purpose, I'll edit one row to `education`  and the other to `Rent/Mortgage` so we can get our log loss working. **This should not be done, ensure that your models are able to predict all the classes if not create a column with any missing category  after coverting the submission to log loss and fill all the rows with 0s**"
   ]
  },
  {
   "cell_type": "code",
   "execution_count": 551,
   "metadata": {},
   "outputs": [],
   "source": [
    "sub = test[[\"Transaction_ID\",  \"predictions\"]]\n",
    "sub.at[1,'predictions']='Education'\n",
    "sub.at[2,'predictions']='Rent / Mortgage'"
   ]
  },
  {
   "cell_type": "code",
   "execution_count": 552,
   "metadata": {},
   "outputs": [
    {
     "data": {
      "text/html": [
       "<div>\n",
       "<style scoped>\n",
       "    .dataframe tbody tr th:only-of-type {\n",
       "        vertical-align: middle;\n",
       "    }\n",
       "\n",
       "    .dataframe tbody tr th {\n",
       "        vertical-align: top;\n",
       "    }\n",
       "\n",
       "    .dataframe thead th {\n",
       "        text-align: right;\n",
       "    }\n",
       "</style>\n",
       "<table border=\"1\" class=\"dataframe\">\n",
       "  <thead>\n",
       "    <tr style=\"text-align: right;\">\n",
       "      <th></th>\n",
       "      <th>Transaction_ID</th>\n",
       "      <th>Bills &amp; Fees</th>\n",
       "      <th>Data &amp; WiFi</th>\n",
       "      <th>Education</th>\n",
       "      <th>Emergency fund</th>\n",
       "      <th>Family &amp; Friends</th>\n",
       "      <th>Going out</th>\n",
       "      <th>Groceries</th>\n",
       "      <th>Health</th>\n",
       "      <th>Loan Repayment</th>\n",
       "      <th>Miscellaneous</th>\n",
       "      <th>Rent / Mortgage</th>\n",
       "      <th>Shopping</th>\n",
       "      <th>Transport &amp; Fuel</th>\n",
       "    </tr>\n",
       "  </thead>\n",
       "  <tbody>\n",
       "    <tr>\n",
       "      <th>1</th>\n",
       "      <td>ID_01db594f</td>\n",
       "      <td>0</td>\n",
       "      <td>0</td>\n",
       "      <td>0</td>\n",
       "      <td>0</td>\n",
       "      <td>0</td>\n",
       "      <td>0</td>\n",
       "      <td>0</td>\n",
       "      <td>0</td>\n",
       "      <td>0</td>\n",
       "      <td>0</td>\n",
       "      <td>0</td>\n",
       "      <td>0</td>\n",
       "      <td>0</td>\n",
       "    </tr>\n",
       "  </tbody>\n",
       "</table>\n",
       "</div>"
      ],
      "text/plain": [
       "  Transaction_ID  Bills & Fees  Data & WiFi  Education  Emergency fund  \\\n",
       "1    ID_01db594f             0            0          0               0   \n",
       "\n",
       "   Family & Friends  Going out  Groceries  Health  Loan Repayment  \\\n",
       "1                 0          0          0       0               0   \n",
       "\n",
       "   Miscellaneous  Rent / Mortgage  Shopping  Transport & Fuel  \n",
       "1              0                0         0                 0  "
      ]
     },
     "execution_count": 552,
     "metadata": {},
     "output_type": "execute_result"
    }
   ],
   "source": [
    "ss.sample(1)"
   ]
  },
  {
   "cell_type": "code",
   "execution_count": 553,
   "metadata": {},
   "outputs": [],
   "source": [
    "sub = pd.get_dummies(sub, columns=['predictions'])\n",
    "\n",
    "# remove the prefix\n",
    "sub.columns = sub.columns.str.replace('predictions_','')"
   ]
  },
  {
   "cell_type": "code",
   "execution_count": 554,
   "metadata": {},
   "outputs": [
    {
     "data": {
      "text/html": [
       "<div>\n",
       "<style scoped>\n",
       "    .dataframe tbody tr th:only-of-type {\n",
       "        vertical-align: middle;\n",
       "    }\n",
       "\n",
       "    .dataframe tbody tr th {\n",
       "        vertical-align: top;\n",
       "    }\n",
       "\n",
       "    .dataframe thead th {\n",
       "        text-align: right;\n",
       "    }\n",
       "</style>\n",
       "<table border=\"1\" class=\"dataframe\">\n",
       "  <thead>\n",
       "    <tr style=\"text-align: right;\">\n",
       "      <th></th>\n",
       "      <th>Transaction_ID</th>\n",
       "      <th>Bills &amp; Fees</th>\n",
       "      <th>Data &amp; WiFi</th>\n",
       "      <th>Education</th>\n",
       "      <th>Emergency fund</th>\n",
       "      <th>Family &amp; Friends</th>\n",
       "      <th>Going out</th>\n",
       "      <th>Groceries</th>\n",
       "      <th>Health</th>\n",
       "      <th>Loan Repayment</th>\n",
       "      <th>Miscellaneous</th>\n",
       "      <th>Rent / Mortgage</th>\n",
       "      <th>Shopping</th>\n",
       "      <th>Transport &amp; Fuel</th>\n",
       "    </tr>\n",
       "  </thead>\n",
       "  <tbody>\n",
       "    <tr>\n",
       "      <th>0</th>\n",
       "      <td>ID_00x9h2yx</td>\n",
       "      <td>1</td>\n",
       "      <td>0</td>\n",
       "      <td>0</td>\n",
       "      <td>0</td>\n",
       "      <td>0</td>\n",
       "      <td>0</td>\n",
       "      <td>0</td>\n",
       "      <td>0</td>\n",
       "      <td>0</td>\n",
       "      <td>0</td>\n",
       "      <td>0</td>\n",
       "      <td>0</td>\n",
       "      <td>0</td>\n",
       "    </tr>\n",
       "    <tr>\n",
       "      <th>1</th>\n",
       "      <td>ID_01db594f</td>\n",
       "      <td>0</td>\n",
       "      <td>0</td>\n",
       "      <td>1</td>\n",
       "      <td>0</td>\n",
       "      <td>0</td>\n",
       "      <td>0</td>\n",
       "      <td>0</td>\n",
       "      <td>0</td>\n",
       "      <td>0</td>\n",
       "      <td>0</td>\n",
       "      <td>0</td>\n",
       "      <td>0</td>\n",
       "      <td>0</td>\n",
       "    </tr>\n",
       "    <tr>\n",
       "      <th>2</th>\n",
       "      <td>ID_07pm99no</td>\n",
       "      <td>0</td>\n",
       "      <td>0</td>\n",
       "      <td>0</td>\n",
       "      <td>0</td>\n",
       "      <td>0</td>\n",
       "      <td>0</td>\n",
       "      <td>0</td>\n",
       "      <td>0</td>\n",
       "      <td>0</td>\n",
       "      <td>0</td>\n",
       "      <td>1</td>\n",
       "      <td>0</td>\n",
       "      <td>0</td>\n",
       "    </tr>\n",
       "  </tbody>\n",
       "</table>\n",
       "</div>"
      ],
      "text/plain": [
       "  Transaction_ID  Bills & Fees  Data & WiFi  Education  Emergency fund  \\\n",
       "0    ID_00x9h2yx             1            0          0               0   \n",
       "1    ID_01db594f             0            0          1               0   \n",
       "2    ID_07pm99no             0            0          0               0   \n",
       "\n",
       "   Family & Friends  Going out  Groceries  Health  Loan Repayment  \\\n",
       "0                 0          0          0       0               0   \n",
       "1                 0          0          0       0               0   \n",
       "2                 0          0          0       0               0   \n",
       "\n",
       "   Miscellaneous  Rent / Mortgage  Shopping  Transport & Fuel  \n",
       "0              0                0         0                 0  \n",
       "1              0                0         0                 0  \n",
       "2              0                1         0                 0  "
      ]
     },
     "execution_count": 554,
     "metadata": {},
     "output_type": "execute_result"
    }
   ],
   "source": [
    "sub.head(3)"
   ]
  },
  {
   "cell_type": "code",
   "execution_count": 298,
   "metadata": {},
   "outputs": [
    {
     "data": {
      "text/plain": [
       "(558, 14)"
      ]
     },
     "execution_count": 298,
     "metadata": {},
     "output_type": "execute_result"
    }
   ],
   "source": [
    "sub.shape"
   ]
  },
  {
   "cell_type": "markdown",
   "metadata": {
    "id": "xway9nYc3s1m"
   },
   "source": [
    "Save results in the CSV file."
   ]
  },
  {
   "cell_type": "code",
   "execution_count": 299,
   "metadata": {
    "id": "XoLeuE4M3uSs"
   },
   "outputs": [],
   "source": [
    "# Create the submission csv file\n",
    "sub.to_csv('16_submission.csv', index = False)"
   ]
  },
  {
   "cell_type": "markdown",
   "metadata": {
    "id": "6PipiYQc3ww3"
   },
   "source": [
    "We named our submission file a first_submission.csv. Now we can upload it to the Zindi competition page by clicking the submit button and selecting the file to upload. You also have an option to add comments for each submission."
   ]
  },
  {
   "cell_type": "markdown",
   "metadata": {
    "id": "Kq5e1pAw3zZ3"
   },
   "source": [
    "## More Tips\n",
    "- Look at the extra dataset provided, check if it's resourceful for training\n",
    "- Thorough EDA and domain knowledge sourcing\n",
    "- Re-group Categorical features \n",
    "- More Feature Engineering \n",
    "- Dataset balancing - oversampling, undersampling, SMOTE...\n",
    "- Ensembling of models \n",
    "- Cross-validation: Group folds, Stratified..."
   ]
  },
  {
   "cell_type": "code",
   "execution_count": 300,
   "metadata": {},
   "outputs": [],
   "source": [
    "#train.to_csv('extratrain.csv')"
   ]
  },
  {
   "cell_type": "code",
   "execution_count": 294,
   "metadata": {},
   "outputs": [
    {
     "data": {
      "text/plain": [
       "MERCHANT_CATEGORIZED_AT                  10000\n",
       "MERCHANT_NAME                                0\n",
       "MERCHANT_CATEGORIZED_AS                  10000\n",
       "PURCHASE_VALUE                               0\n",
       "PURCHASED_AT                                 0\n",
       "IS_PURCHASE_PAID_VIA_MPESA_SEND_MONEY        0\n",
       "USER_AGE                                  8842\n",
       "USER_GENDER                                 34\n",
       "USER_HOUSEHOLD                               0\n",
       "USER_INCOME                                  0\n",
       "USER_ID                                      0\n",
       "Transaction_ID                               0\n",
       "dtype: int64"
      ]
     },
     "execution_count": 294,
     "metadata": {},
     "output_type": "execute_result"
    }
   ],
   "source": [
    "extr.isna().sum()"
   ]
  },
  {
   "cell_type": "code",
   "execution_count": 291,
   "metadata": {},
   "outputs": [],
   "source": [
    "extr=pd.read_csv('extra_data.csv')"
   ]
  }
 ],
 "metadata": {
  "colab": {
   "collapsed_sections": [],
   "name": "Alvinapp competition.ipynb",
   "provenance": [],
   "toc_visible": true
  },
  "kernelspec": {
   "display_name": "Python 3 (ipykernel)",
   "language": "python",
   "name": "python3"
  },
  "language_info": {
   "codemirror_mode": {
    "name": "ipython",
    "version": 3
   },
   "file_extension": ".py",
   "mimetype": "text/x-python",
   "name": "python",
   "nbconvert_exporter": "python",
   "pygments_lexer": "ipython3",
   "version": "3.10.0"
  }
 },
 "nbformat": 4,
 "nbformat_minor": 1
}
